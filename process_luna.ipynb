{
 "cells": [
  {
   "cell_type": "code",
   "execution_count": 1,
   "id": "55cd4931-c8f5-46af-9af4-ca9d4171b12c",
   "metadata": {},
   "outputs": [],
   "source": [
    "%load_ext autoreload\n",
    "%autoreload 2\n",
    "from prepare.preprocessing import process_all_scans\n",
    "from prepare.patch_extraction import extract_negative_patches_from_candidates, extract_patches_from_annotations\n",
    "from prepare.build_training_index import build_training_index, create_balanced_training_csv\n",
    "from prepare.classes import LunaPatchDataset, Advanced3DAugment\n",
    "from torch.utils.data import random_split, DataLoader"
   ]
  },
  {
   "cell_type": "code",
   "execution_count": null,
   "id": "03d24d0c-e923-4338-90bb-c98aa423fb03",
   "metadata": {},
   "outputs": [],
   "source": [
    "LUNA_PATH = r\"D:\\archive\"\n",
    "OUTPUT_PATH = r\"D:\\output\"\n",
    "PREPROCESSED_OUTPUT = r\"D:\\output\\preprocessed_luna16\"\n",
    "ANNOTATION_FILE = LUNA_PATH + r\"\\annotations.csv\"\n",
    "CANDIDATES_FILE = LUNA_PATH + r\"\\candidates_V2\\candidates_V2.csv\"\n",
    "PATCH_OUTPUT = OUTPUT_PATH + r\"\\patches\"\n",
    "TRAINING_FILE = OUTPUT_PATH + r\"\\training_balanced.csv\"\n",
    "METADATA_FILE = PREPROCESSED_OUTPUT + r\"\\preprocessed_metadata.csv\""
   ]
  },
  {
   "cell_type": "code",
   "execution_count": null,
   "id": "603bd12f-9835-4fd1-abd6-ea2d59e66d76",
   "metadata": {},
   "outputs": [],
   "source": [
    "# --- Stage 1: Preprocess All Scans ---\n",
    "process_all_scans(LUNA_PATH, PREPROCESSED_OUTPUT)"
   ]
  },
  {
   "cell_type": "code",
   "execution_count": null,
   "id": "ade20bf1-027b-4f6b-87c2-89c1f26cc4ea",
   "metadata": {},
   "outputs": [],
   "source": [
    "# --- Stage 2: Extract 3D Patches for Training ---\n",
    "extract_patches_from_annotations(\n",
    "    annotation_csv=ANNOTATION_FILE,\n",
    "    metadata_csv=METADATA_FILE,\n",
    "    output_folder=PATCH_OUTPUT,\n",
    "    patch_size=32\n",
    ")"
   ]
  },
  {
   "cell_type": "code",
   "execution_count": null,
   "id": "86d6dd02-7f45-48f1-8708-602ee1becee3",
   "metadata": {},
   "outputs": [],
   "source": [
    "extract_negative_patches_from_candidates(\n",
    "    candidates_csv=CANDIDATES_FILE,\n",
    "    annotations_csv=ANNOTATION_FILE,\n",
    "    metadata_csv=METADATA_FILE,\n",
    "    output_folder=PATCH_OUTPUT,\n",
    "    patch_size=32,\n",
    "    max_negatives_per_scan=10\n",
    ")"
   ]
  },
  {
   "cell_type": "code",
   "execution_count": null,
   "id": "137dde46-fe0e-404e-a4c4-26f883ff1cbb",
   "metadata": {},
   "outputs": [],
   "source": [
    "# --- Stage 3: Build the Balanced Training Index CSV ---\n",
    "create_balanced_training_csv(\n",
    "    patch_folder=PATCH_OUTPUT,\n",
    "    output_csv=TRAINING_FILE,\n",
    "    oversample_pos=True,\n",
    "    downsample_neg=True\n",
    ")"
   ]
  },
  {
   "cell_type": "code",
   "execution_count": null,
   "id": "67865adb-be7e-493d-a832-c7cf9b1caa9a",
   "metadata": {},
   "outputs": [],
   "source": [
    "# debug for each tensor should ne equal size error\n",
    "import torch\n",
    "for i in range(1200):\n",
    "    x, y = train_dataset[i]\n",
    "    if x.shape != torch.Size([1, 32, 32, 32]):\n",
    "        print(f\"Sample {i} shape: {x.shape}\")"
   ]
  }
 ],
 "metadata": {
  "kernelspec": {
   "display_name": "Python (cuda)",
   "language": "python",
   "name": "cuda"
  },
  "language_info": {
   "codemirror_mode": {
    "name": "ipython",
    "version": 3
   },
   "file_extension": ".py",
   "mimetype": "text/x-python",
   "name": "python",
   "nbconvert_exporter": "python",
   "pygments_lexer": "ipython3",
   "version": "3.9.21"
  }
 },
 "nbformat": 4,
 "nbformat_minor": 5
}
