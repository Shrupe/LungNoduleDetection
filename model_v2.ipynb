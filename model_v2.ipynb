{
 "cells": [
  {
   "cell_type": "code",
   "execution_count": 31,
   "id": "ab1e2bd4-341c-4508-a589-4bc1ed779b55",
   "metadata": {},
   "outputs": [],
   "source": [
    "# Import Libraries\n",
    "\n",
    "import os\n",
    "import glob\n",
    "import copy\n",
    "import time\n",
    "import random\n",
    "\n",
    "import numpy as np\n",
    "import pandas as pd\n",
    "\n",
    "from tqdm.notebook import tqdm\n",
    "from collections import namedtuple\n",
    "import SimpleITK as sitk\n",
    "\n",
    "import torch\n",
    "from torch.utils.data import Dataset, DataLoader\n",
    "import torch.nn as nn\n",
    "import torch.optim as optim"
   ]
  },
  {
   "cell_type": "code",
   "execution_count": 32,
   "id": "f9645814-8cbc-4ec8-adbf-b67a9e71631d",
   "metadata": {},
   "outputs": [],
   "source": [
    "# DATA EXPLORE \n",
    "archive_path = r\"C:\\Users\\azizd\\python\\pytorch\\data\\bitirme_projesi\\archive\""
   ]
  },
  {
   "cell_type": "code",
   "execution_count": 33,
   "id": "294d68b3-dd74-48ff-a06d-6524101f33dd",
   "metadata": {},
   "outputs": [
    {
     "name": "stdout",
     "output_type": "stream",
     "text": [
      "Shape:  (1186, 5)\n"
     ]
    },
    {
     "data": {
      "text/html": [
       "<div>\n",
       "<style scoped>\n",
       "    .dataframe tbody tr th:only-of-type {\n",
       "        vertical-align: middle;\n",
       "    }\n",
       "\n",
       "    .dataframe tbody tr th {\n",
       "        vertical-align: top;\n",
       "    }\n",
       "\n",
       "    .dataframe thead th {\n",
       "        text-align: right;\n",
       "    }\n",
       "</style>\n",
       "<table border=\"1\" class=\"dataframe\">\n",
       "  <thead>\n",
       "    <tr style=\"text-align: right;\">\n",
       "      <th></th>\n",
       "      <th>seriesuid</th>\n",
       "      <th>coordX</th>\n",
       "      <th>coordY</th>\n",
       "      <th>coordZ</th>\n",
       "      <th>diameter_mm</th>\n",
       "    </tr>\n",
       "  </thead>\n",
       "  <tbody>\n",
       "    <tr>\n",
       "      <th>0</th>\n",
       "      <td>1.3.6.1.4.1.14519.5.2.1.6279.6001.100225287222...</td>\n",
       "      <td>-128.699421</td>\n",
       "      <td>-175.319272</td>\n",
       "      <td>-298.387506</td>\n",
       "      <td>5.651471</td>\n",
       "    </tr>\n",
       "    <tr>\n",
       "      <th>1</th>\n",
       "      <td>1.3.6.1.4.1.14519.5.2.1.6279.6001.100225287222...</td>\n",
       "      <td>103.783651</td>\n",
       "      <td>-211.925149</td>\n",
       "      <td>-227.121250</td>\n",
       "      <td>4.224708</td>\n",
       "    </tr>\n",
       "    <tr>\n",
       "      <th>2</th>\n",
       "      <td>1.3.6.1.4.1.14519.5.2.1.6279.6001.100398138793...</td>\n",
       "      <td>69.639017</td>\n",
       "      <td>-140.944586</td>\n",
       "      <td>876.374496</td>\n",
       "      <td>5.786348</td>\n",
       "    </tr>\n",
       "    <tr>\n",
       "      <th>3</th>\n",
       "      <td>1.3.6.1.4.1.14519.5.2.1.6279.6001.100621383016...</td>\n",
       "      <td>-24.013824</td>\n",
       "      <td>192.102405</td>\n",
       "      <td>-391.081276</td>\n",
       "      <td>8.143262</td>\n",
       "    </tr>\n",
       "    <tr>\n",
       "      <th>4</th>\n",
       "      <td>1.3.6.1.4.1.14519.5.2.1.6279.6001.100621383016...</td>\n",
       "      <td>2.441547</td>\n",
       "      <td>172.464881</td>\n",
       "      <td>-405.493732</td>\n",
       "      <td>18.545150</td>\n",
       "    </tr>\n",
       "  </tbody>\n",
       "</table>\n",
       "</div>"
      ],
      "text/plain": [
       "                                           seriesuid      coordX      coordY  \\\n",
       "0  1.3.6.1.4.1.14519.5.2.1.6279.6001.100225287222... -128.699421 -175.319272   \n",
       "1  1.3.6.1.4.1.14519.5.2.1.6279.6001.100225287222...  103.783651 -211.925149   \n",
       "2  1.3.6.1.4.1.14519.5.2.1.6279.6001.100398138793...   69.639017 -140.944586   \n",
       "3  1.3.6.1.4.1.14519.5.2.1.6279.6001.100621383016...  -24.013824  192.102405   \n",
       "4  1.3.6.1.4.1.14519.5.2.1.6279.6001.100621383016...    2.441547  172.464881   \n",
       "\n",
       "       coordZ  diameter_mm  \n",
       "0 -298.387506     5.651471  \n",
       "1 -227.121250     4.224708  \n",
       "2  876.374496     5.786348  \n",
       "3 -391.081276     8.143262  \n",
       "4 -405.493732    18.545150  "
      ]
     },
     "execution_count": 33,
     "metadata": {},
     "output_type": "execute_result"
    }
   ],
   "source": [
    "# 1- annotations.csv\n",
    "df_annotations = pd.read_csv(archive_path + r\"\\annotations.csv\")\n",
    "print(\"Shape: \",df_annotations.shape)\n",
    "df_annotations.head()"
   ]
  },
  {
   "cell_type": "code",
   "execution_count": 34,
   "id": "5854a3ad-84bd-4d83-8aa6-38b923f1fb3e",
   "metadata": {},
   "outputs": [
    {
     "name": "stdout",
     "output_type": "stream",
     "text": [
      "Shape:  (754975, 5)\n"
     ]
    },
    {
     "data": {
      "text/html": [
       "<div>\n",
       "<style scoped>\n",
       "    .dataframe tbody tr th:only-of-type {\n",
       "        vertical-align: middle;\n",
       "    }\n",
       "\n",
       "    .dataframe tbody tr th {\n",
       "        vertical-align: top;\n",
       "    }\n",
       "\n",
       "    .dataframe thead th {\n",
       "        text-align: right;\n",
       "    }\n",
       "</style>\n",
       "<table border=\"1\" class=\"dataframe\">\n",
       "  <thead>\n",
       "    <tr style=\"text-align: right;\">\n",
       "      <th></th>\n",
       "      <th>seriesuid</th>\n",
       "      <th>coordX</th>\n",
       "      <th>coordY</th>\n",
       "      <th>coordZ</th>\n",
       "      <th>class</th>\n",
       "    </tr>\n",
       "  </thead>\n",
       "  <tbody>\n",
       "    <tr>\n",
       "      <th>0</th>\n",
       "      <td>1.3.6.1.4.1.14519.5.2.1.6279.6001.100225287222...</td>\n",
       "      <td>68.420000</td>\n",
       "      <td>-74.480000</td>\n",
       "      <td>-288.700000</td>\n",
       "      <td>0</td>\n",
       "    </tr>\n",
       "    <tr>\n",
       "      <th>1</th>\n",
       "      <td>1.3.6.1.4.1.14519.5.2.1.6279.6001.100225287222...</td>\n",
       "      <td>-95.209361</td>\n",
       "      <td>-91.809406</td>\n",
       "      <td>-377.426350</td>\n",
       "      <td>0</td>\n",
       "    </tr>\n",
       "    <tr>\n",
       "      <th>2</th>\n",
       "      <td>1.3.6.1.4.1.14519.5.2.1.6279.6001.100225287222...</td>\n",
       "      <td>-24.766755</td>\n",
       "      <td>-120.379294</td>\n",
       "      <td>-273.361539</td>\n",
       "      <td>0</td>\n",
       "    </tr>\n",
       "    <tr>\n",
       "      <th>3</th>\n",
       "      <td>1.3.6.1.4.1.14519.5.2.1.6279.6001.100225287222...</td>\n",
       "      <td>-63.080000</td>\n",
       "      <td>-65.740000</td>\n",
       "      <td>-344.240000</td>\n",
       "      <td>0</td>\n",
       "    </tr>\n",
       "    <tr>\n",
       "      <th>4</th>\n",
       "      <td>1.3.6.1.4.1.14519.5.2.1.6279.6001.100225287222...</td>\n",
       "      <td>52.946688</td>\n",
       "      <td>-92.688873</td>\n",
       "      <td>-241.067872</td>\n",
       "      <td>0</td>\n",
       "    </tr>\n",
       "  </tbody>\n",
       "</table>\n",
       "</div>"
      ],
      "text/plain": [
       "                                           seriesuid     coordX      coordY  \\\n",
       "0  1.3.6.1.4.1.14519.5.2.1.6279.6001.100225287222...  68.420000  -74.480000   \n",
       "1  1.3.6.1.4.1.14519.5.2.1.6279.6001.100225287222... -95.209361  -91.809406   \n",
       "2  1.3.6.1.4.1.14519.5.2.1.6279.6001.100225287222... -24.766755 -120.379294   \n",
       "3  1.3.6.1.4.1.14519.5.2.1.6279.6001.100225287222... -63.080000  -65.740000   \n",
       "4  1.3.6.1.4.1.14519.5.2.1.6279.6001.100225287222...  52.946688  -92.688873   \n",
       "\n",
       "       coordZ  class  \n",
       "0 -288.700000      0  \n",
       "1 -377.426350      0  \n",
       "2 -273.361539      0  \n",
       "3 -344.240000      0  \n",
       "4 -241.067872      0  "
      ]
     },
     "execution_count": 34,
     "metadata": {},
     "output_type": "execute_result"
    }
   ],
   "source": [
    "# 2- candidates_V2.csv\n",
    "\n",
    "df_candidates = pd.read_csv(archive_path + r\"\\candidates_V2\\candidates_V2.csv\")\n",
    "print(\"Shape: \", df_candidates.shape)\n",
    "df_candidates.head()"
   ]
  },
  {
   "cell_type": "code",
   "execution_count": 35,
   "id": "5087d5e7-0271-4aa2-a58c-28aa300b657f",
   "metadata": {},
   "outputs": [
    {
     "name": "stdout",
     "output_type": "stream",
     "text": [
      "Total annotations: 1186, Unique CT scans: 601\n",
      "Total candidates: 754975, Unique CT scans: 888\n"
     ]
    }
   ],
   "source": [
    "# Note: There can be multiple annotations and candidates in a single CT scan.\n",
    "\n",
    "print(f'Total annotations: {df_annotations.shape[0]}, Unique CT scans: {len(df_annotations.seriesuid.unique())}')\n",
    "print(f'Total candidates: {df_candidates.shape[0]}, Unique CT scans: {len(df_candidates.seriesuid.unique())}')"
   ]
  },
  {
   "cell_type": "code",
   "execution_count": 36,
   "id": "a9ddb809-2e08-40fc-94ea-dbad6994c210",
   "metadata": {},
   "outputs": [],
   "source": [
    "\"\"\"\n",
    "We will first group all annotations that are part of the same CT scan (i.e. have the same seriesuid).\n",
    "\n",
    "This will allow us to easily access the centers and respective diameters of all nodules in a particular CT scan.\n",
    "\"\"\"\n",
    "\n",
    "# The `diameters` dict will have each `seriesuid` as a key.\n",
    "# The value will be a list of all center coorinates in the CT scan with that `seriesuid`\n",
    "diameters = {}\n",
    "\n",
    "# Loop through every annotation\n",
    "for _, row in df_annotations.iterrows():\n",
    "    \n",
    "    # Create a tuple to represent the center\n",
    "    center_xyz = (row.coordX, row.coordY, row.coordZ)\n",
    "    \n",
    "    # Append the center to the corresponding `seriesuid`\n",
    "    diameters.setdefault(row.seriesuid, []).append(\n",
    "        (center_xyz, row.diameter_mm)\n",
    "    )"
   ]
  },
  {
   "cell_type": "code",
   "execution_count": 37,
   "id": "059a2bf3-105a-4f94-846d-4faf3a185d53",
   "metadata": {},
   "outputs": [
    {
     "name": "stdout",
     "output_type": "stream",
     "text": [
      "CPU times: total: 33.8 s\n",
      "Wall time: 34.5 s\n"
     ]
    }
   ],
   "source": [
    "%%time\n",
    "\n",
    "# Using a namedtuple makes it easy to access values in a tuple\n",
    "# using indexes or field names\n",
    "CandidateInfoTuple = namedtuple(\n",
    "    'CandidateInfoTuple',\n",
    "    ['is_nodule', 'diameter_mm', 'series_uid', 'center_xyz']\n",
    ")\n",
    "\n",
    "# A list to store all candidates in the dataset\n",
    "candidates = []\n",
    "\n",
    "for _, row in df_candidates.iterrows():\n",
    "    \n",
    "    # Create a tuple to represent the candidate center\n",
    "    # We suffix the name with `_xyz` to make it clear that we're using the\n",
    "    # patient coordinate system: http://dicomiseasy.blogspot.com/2013/06/getting-oriented-using-image-plane.html\n",
    "    candidate_center_xyz = (row.coordX, row.coordY, row.coordZ)\n",
    "\n",
    "    # We begin by assuming the candidate doesn't have a corresponding annotation.\n",
    "    # If this is the case, then the candidate will have a diameter of 0.\n",
    "    candidate_diameter = 0.0\n",
    "    \n",
    "    # We then fetch the diameters of the CT scan we're looking at currently,\n",
    "    # and loop over them to find a match for the candidate\n",
    "    for annotation in diameters.get(row.seriesuid, []):\n",
    "        \n",
    "        # Extract the center and diameter of the annotation from the tuple\n",
    "        annotation_center_xyz, annotation_diameter = annotation\n",
    "        \n",
    "        # For each of the coordinates - X, Y and Z, we check if\n",
    "        # the candidate and the annotation are \"close by\"\n",
    "        # (remember the really long and complicated sentence above?)\n",
    "        \n",
    "        # Since we've stored coordinates as tuples, we can index into them\n",
    "        for i in range(3):\n",
    "            \n",
    "            # Find the absolute difference between the two coordinates\n",
    "            delta = abs(candidate_center_xyz[i] - annotation_center_xyz[i])\n",
    "            \n",
    "            # If the coorindate of the candidate is more than half the radius away,\n",
    "            # we don't consider it the same nodule as the annotation we're currently looking at\n",
    "            if delta > annotation_diameter / 4:\n",
    "                    break\n",
    "            \n",
    "        # The `else` block of a for loop in Python executes if the loop ends \"naturally\"\n",
    "        # i.e. if it terminates because all iterations are complete, and not by a break statement\n",
    "        # So if we go into this else block, then all 3 coordinates are within half the radius,\n",
    "        # and we can consider the candidate and the annotation as the same nodule\n",
    "        else:\n",
    "            candidate_diameter = annotation_diameter\n",
    "            \n",
    "            # We don't need to look at any other remaining annotations,\n",
    "            # because we've already found a match!\n",
    "            break\n",
    "            \n",
    "            \n",
    "    \n",
    "    candidates.append(CandidateInfoTuple(\n",
    "        bool(row['class']),\n",
    "        candidate_diameter,\n",
    "        row.seriesuid,\n",
    "        candidate_center_xyz\n",
    "    ))"
   ]
  },
  {
   "cell_type": "code",
   "execution_count": 38,
   "id": "78359b81-08d1-4b5a-8f2a-5e711bb25393",
   "metadata": {},
   "outputs": [
    {
     "data": {
      "text/plain": [
       "CandidateInfoTuple(is_nodule=True, diameter_mm=32.27003025, series_uid='1.3.6.1.4.1.14519.5.2.1.6279.6001.287966244644280690737019247886', center_xyz=(66.58022805, 82.56931698, -110.5421104))"
      ]
     },
     "execution_count": 38,
     "metadata": {},
     "output_type": "execute_result"
    }
   ],
   "source": [
    "candidates.sort(reverse=True)\n",
    "candidates[0]"
   ]
  },
  {
   "cell_type": "code",
   "execution_count": 39,
   "id": "76057082-274e-450a-bca8-32887881acac",
   "metadata": {},
   "outputs": [
    {
     "data": {
      "text/plain": [
       "443"
      ]
     },
     "execution_count": 39,
     "metadata": {},
     "output_type": "execute_result"
    }
   ],
   "source": [
    "# Handling the missing data\n",
    "\n",
    "#  missing.txt: https://www.kaggle.com/mashruravi/luna16missingcandidates\n",
    "\n",
    "with open(archive_path + r\"\\missing.txt\", 'r') as f:\n",
    "    missing_uids = {uid.split('\\n')[0] for uid in f}\n",
    "    \n",
    "len(missing_uids)"
   ]
  },
  {
   "cell_type": "code",
   "execution_count": 40,
   "id": "d1e50026-0dfa-4557-80a9-5da37ed3f8e1",
   "metadata": {},
   "outputs": [
    {
     "name": "stdout",
     "output_type": "stream",
     "text": [
      "All candidates in dataset: 754975\n",
      "Candidates with CT scan  : 377138\n"
     ]
    }
   ],
   "source": [
    "# Remove missing cadidates\n",
    "\n",
    "candidates_clean = list(filter(lambda x: x.series_uid not in missing_uids, candidates))\n",
    "\n",
    "print(f'All candidates in dataset: {len(candidates)}')\n",
    "print(f'Candidates with CT scan  : {len(candidates_clean)}')"
   ]
  },
  {
   "cell_type": "code",
   "execution_count": 41,
   "id": "1bcf50ba-0c40-4dca-bf50-1ddee8b35abd",
   "metadata": {},
   "outputs": [
    {
     "data": {
      "text/plain": [
       "CandidateInfoTuple(is_nodule=True, diameter_mm=32.27003025, series_uid='1.3.6.1.4.1.14519.5.2.1.6279.6001.287966244644280690737019247886', center_xyz=(66.58022805, 82.56931698, -110.5421104))"
      ]
     },
     "execution_count": 41,
     "metadata": {},
     "output_type": "execute_result"
    }
   ],
   "source": [
    "candidate = candidates_clean[0]\n",
    "candidate"
   ]
  },
  {
   "cell_type": "code",
   "execution_count": 42,
   "id": "1dd55986-0082-4534-a2df-c4d69a35627b",
   "metadata": {},
   "outputs": [
    {
     "data": {
      "text/plain": [
       "['C:\\\\Users\\\\azizd\\\\python\\\\pytorch\\\\data\\\\bitirme_projesi\\\\archive\\\\subset1\\\\subset1\\\\1.3.6.1.4.1.14519.5.2.1.6279.6001.287966244644280690737019247886.mhd']"
      ]
     },
     "execution_count": 42,
     "metadata": {},
     "output_type": "execute_result"
    }
   ],
   "source": [
    "# Look for the file `<series_uid>.mhd` inside the `subset` folders\n",
    "filepaths = glob.glob(archive_path + f\"/subset*/*/{candidate.series_uid}.mhd\")\n",
    "\n",
    "# We removed all candidates that don't have corresponding CT scan files\n",
    "# This line is another fail-safe to know when a CT scan doesn't exist\n",
    "assert len(filepaths) != 0, f'CT scan with seriesuid {candidate.series_uid} not found!'\n",
    "\n",
    "filepaths"
   ]
  },
  {
   "cell_type": "code",
   "execution_count": 43,
   "id": "e6dd7897-f4e8-4f5e-9e86-07c9ba0d1a3b",
   "metadata": {},
   "outputs": [
    {
     "data": {
      "text/plain": [
       "'C:\\\\Users\\\\azizd\\\\python\\\\pytorch\\\\data\\\\bitirme_projesi\\\\archive\\\\subset1\\\\subset1\\\\1.3.6.1.4.1.14519.5.2.1.6279.6001.287966244644280690737019247886.mhd'"
      ]
     },
     "execution_count": 43,
     "metadata": {},
     "output_type": "execute_result"
    }
   ],
   "source": [
    "mhd_file_path = filepaths[0]\n",
    "\n",
    "mhd_file_path"
   ]
  },
  {
   "cell_type": "code",
   "execution_count": 44,
   "id": "d0b6fe4e-aaed-4c78-a543-314d1666a6c5",
   "metadata": {},
   "outputs": [],
   "source": [
    "mhd_file = sitk.ReadImage(mhd_file_path)"
   ]
  },
  {
   "cell_type": "code",
   "execution_count": 45,
   "id": "f27c7449-a6af-46ba-a1aa-d54f0dcea019",
   "metadata": {},
   "outputs": [],
   "source": [
    "ct_scan = np.array(sitk.GetArrayFromImage(mhd_file), dtype=np.float32)"
   ]
  },
  {
   "cell_type": "code",
   "execution_count": 87,
   "id": "443963e7-9f46-409e-b943-1ffb0e3841ba",
   "metadata": {},
   "outputs": [
    {
     "data": {
      "text/plain": [
       "array([[-1000., -1000., -1000., ..., -1000., -1000., -1000.],\n",
       "       [-1000., -1000., -1000., ..., -1000., -1000., -1000.],\n",
       "       [-1000., -1000., -1000., ..., -1000., -1000., -1000.],\n",
       "       ...,\n",
       "       [-1000., -1000., -1000., ..., -1000., -1000., -1000.],\n",
       "       [-1000., -1000., -1000., ..., -1000., -1000., -1000.],\n",
       "       [-1000., -1000., -1000., ..., -1000., -1000., -1000.]],\n",
       "      dtype=float32)"
      ]
     },
     "execution_count": 87,
     "metadata": {},
     "output_type": "execute_result"
    }
   ],
   "source": [
    "ct_scan.clip(-1000, 1000, ct_scan)[1]"
   ]
  },
  {
   "cell_type": "code",
   "execution_count": 47,
   "id": "09222e3e-3d24-442d-8422-81a062e23237",
   "metadata": {},
   "outputs": [],
   "source": [
    "origin_xyz = mhd_file.GetOrigin()\n",
    "voxel_size_xyz = mhd_file.GetSpacing()\n",
    "direction_matrix = np.array(mhd_file.GetDirection()).reshape(3, 3)"
   ]
  },
  {
   "cell_type": "code",
   "execution_count": 48,
   "id": "65ff9600-17d7-4d01-84cf-d22dfdd7ae9b",
   "metadata": {},
   "outputs": [],
   "source": [
    "origin_xyz_np = np.array(origin_xyz)\n",
    "voxel_size_xyz_np = np.array(voxel_size_xyz)"
   ]
  },
  {
   "cell_type": "code",
   "execution_count": 49,
   "id": "a0327987-0b4e-4f0d-8c59-e6b4a88d7643",
   "metadata": {},
   "outputs": [],
   "source": [
    "# Convert the coordinates of the center of the candidate\n",
    "# from the patient coordinate system to column, row, index\n",
    "cri = ((center_xyz - origin_xyz_np) @ np.linalg.inv(direction_matrix)) / voxel_size_xyz_np\n",
    "\n",
    "# Since we'll be using column, row and index values to index into arrays,\n",
    "# we round them to the nearest integer.\n",
    "cri = np.round(cri)\n",
    "\n",
    "# Going forward, we'll need the scan to be in the order index, row, column\n",
    "irc = (int(cri[2]), int(cri[1]), int(cri[0]))"
   ]
  },
  {
   "cell_type": "code",
   "execution_count": 50,
   "id": "71cd1657-0064-4518-9e3b-cbaa9cb2574f",
   "metadata": {},
   "outputs": [
    {
     "data": {
      "text/plain": [
       "(123, 512, 512)"
      ]
     },
     "execution_count": 50,
     "metadata": {},
     "output_type": "execute_result"
    }
   ],
   "source": [
    "ct_scan.shape"
   ]
  },
  {
   "cell_type": "code",
   "execution_count": 51,
   "id": "2fbaee65-c5ff-4e2d-90e7-ed55361f458a",
   "metadata": {},
   "outputs": [],
   "source": [
    "dims_irc = (10, 18, 18)"
   ]
  },
  {
   "cell_type": "code",
   "execution_count": 52,
   "id": "b8e96415-2fb7-498a-867f-fcb657cd8619",
   "metadata": {},
   "outputs": [
    {
     "data": {
      "text/plain": [
       "(slice(68, 78, None), slice(288, 306, None), slice(223, 241, None))"
      ]
     },
     "execution_count": 52,
     "metadata": {},
     "output_type": "execute_result"
    }
   ],
   "source": [
    "# We will create three slices - one for each direction - to use to extract\n",
    "# a region of interest from the CT scan\n",
    "slice_list = []\n",
    "\n",
    "for axis, center_val in enumerate(irc):\n",
    "    \n",
    "    # Get start and end index for the dimension so that the\n",
    "    # nodule center is at the center of the 3d array we extract\n",
    "    start_index = int(round(center_val - dims_irc[axis]/2))\n",
    "    end_index = int(start_index + dims_irc[axis])\n",
    "\n",
    "    # Adjust the indexes if the start_index is out of the CT scan array\n",
    "    if start_index < 0:\n",
    "        start_index = 0\n",
    "        end_index = int(dims_irc[axis])\n",
    "    \n",
    "    # Do the same check for the end_index\n",
    "    if end_index > ct_scan.shape[axis]:\n",
    "        end_index = ct_scan.shape[axis]\n",
    "        start_index = int(ct_scan.shape[axis] - dims_irc[axis])\n",
    "        \n",
    "    slice_list.append(slice(start_index, end_index))\n",
    "    \n",
    "tuple(slice_list)"
   ]
  },
  {
   "cell_type": "code",
   "execution_count": 53,
   "id": "303cc6c7-e25c-4355-8b5b-52c0ac8ae9e2",
   "metadata": {},
   "outputs": [
    {
     "data": {
      "text/plain": [
       "(10, 18, 18)"
      ]
     },
     "execution_count": 53,
     "metadata": {},
     "output_type": "execute_result"
    }
   ],
   "source": [
    "ct_scan_chunk = ct_scan[tuple(slice_list)]\n",
    "ct_scan_chunk.shape"
   ]
  },
  {
   "cell_type": "code",
   "execution_count": 54,
   "id": "44b29fa9-8a30-4171-a9ad-1bb132e18cc6",
   "metadata": {},
   "outputs": [
    {
     "data": {
      "text/plain": [
       "torch.Size([1, 10, 18, 18])"
      ]
     },
     "execution_count": 54,
     "metadata": {},
     "output_type": "execute_result"
    }
   ],
   "source": [
    "# Create a tensor from the NumPy array of the CT scan chunk\n",
    "ct_scan_chunk_tensor = torch.from_numpy(ct_scan_chunk)\n",
    "\n",
    "# convert it to a tensor of float32\n",
    "ct_scan_chunk_tensor = ct_scan_chunk_tensor.to(torch.float32)\n",
    "    \n",
    "# Add an extra dimension to represent a single channel in the 3d image\n",
    "ct_scan_chunk_tensor = ct_scan_chunk_tensor.unsqueeze(0)\n",
    "\n",
    "ct_scan_chunk_tensor.shape"
   ]
  },
  {
   "cell_type": "code",
   "execution_count": 55,
   "id": "0ee6b519-507c-4821-8da8-b07435e3ea2c",
   "metadata": {},
   "outputs": [
    {
     "data": {
      "text/plain": [
       "True"
      ]
     },
     "execution_count": 55,
     "metadata": {},
     "output_type": "execute_result"
    }
   ],
   "source": [
    "candidate.is_nodule"
   ]
  },
  {
   "cell_type": "code",
   "execution_count": 56,
   "id": "c6f5da17-6c3a-4b6e-bb7b-3e9dd7b99eb3",
   "metadata": {},
   "outputs": [
    {
     "data": {
      "text/plain": [
       "tensor([0, 1])"
      ]
     },
     "execution_count": 56,
     "metadata": {},
     "output_type": "execute_result"
    }
   ],
   "source": [
    "torch.tensor([\n",
    "    not candidate.is_nodule,\n",
    "    candidate.is_nodule,\n",
    "], dtype=torch.long)"
   ]
  },
  {
   "cell_type": "code",
   "execution_count": 57,
   "id": "f7ba2ec3-8791-4e4a-b8e6-8f9d6b86a3d8",
   "metadata": {},
   "outputs": [
    {
     "name": "stdout",
     "output_type": "stream",
     "text": [
      "Requirement already satisfied: diskcache in c:\\users\\azizd\\anaconda3\\envs\\cuda\\lib\\site-packages (5.6.3)\n",
      "Requirement already satisfied: cassandra-driver in c:\\users\\azizd\\anaconda3\\envs\\cuda\\lib\\site-packages (3.29.2)\n",
      "Requirement already satisfied: geomet<0.3,>=0.1 in c:\\users\\azizd\\anaconda3\\envs\\cuda\\lib\\site-packages (from cassandra-driver) (0.2.1.post1)\n",
      "Requirement already satisfied: click in c:\\users\\azizd\\anaconda3\\envs\\cuda\\lib\\site-packages (from geomet<0.3,>=0.1->cassandra-driver) (8.1.8)\n",
      "Requirement already satisfied: six in c:\\users\\azizd\\anaconda3\\envs\\cuda\\lib\\site-packages (from geomet<0.3,>=0.1->cassandra-driver) (1.17.0)\n",
      "Requirement already satisfied: colorama in c:\\users\\azizd\\anaconda3\\envs\\cuda\\lib\\site-packages (from click->geomet<0.3,>=0.1->cassandra-driver) (0.4.6)\n"
     ]
    }
   ],
   "source": [
    "!pip install diskcache cassandra-driver"
   ]
  },
  {
   "cell_type": "code",
   "execution_count": 58,
   "id": "1fed5fe0-cf67-4792-959b-c036ba43172d",
   "metadata": {},
   "outputs": [],
   "source": [
    "# The code in this cell is from the Deep Learning with PyTorch book's GitHub repository\n",
    "# https://github.com/deep-learning-with-pytorch/dlwpt-code/blob/master/util/disk.py\n",
    "\n",
    "# The imports have slightly been modified to make the code work\n",
    "\n",
    "\n",
    "import gzip\n",
    "\n",
    "from cassandra.cqltypes import BytesType\n",
    "from diskcache import FanoutCache, Disk, core\n",
    "from diskcache.core import io, MODE_BINARY\n",
    "from io import BytesIO\n",
    "\n",
    "class GzipDisk(Disk):\n",
    "    def store(self, value, read, key=None):\n",
    "        \"\"\"\n",
    "        Override from base class diskcache.Disk.\n",
    "\n",
    "        Chunking is due to needing to work on pythons < 2.7.13:\n",
    "        - Issue #27130: In the \"zlib\" module, fix handling of large buffers\n",
    "          (typically 2 or 4 GiB).  Previously, inputs were limited to 2 GiB, and\n",
    "          compression and decompression operations did not properly handle results of\n",
    "          2 or 4 GiB.\n",
    "\n",
    "        :param value: value to convert\n",
    "        :param bool read: True when value is file-like object\n",
    "        :return: (size, mode, filename, value) tuple for Cache table\n",
    "        \"\"\"\n",
    "        # pylint: disable=unidiomatic-typecheck\n",
    "        if type(value) is BytesType:\n",
    "            if read:\n",
    "                value = value.read()\n",
    "                read = False\n",
    "\n",
    "            str_io = BytesIO()\n",
    "            gz_file = gzip.GzipFile(mode='wb', compresslevel=1, fileobj=str_io)\n",
    "\n",
    "            for offset in range(0, len(value), 2**30):\n",
    "                gz_file.write(value[offset:offset+2**30])\n",
    "            gz_file.close()\n",
    "\n",
    "            value = str_io.getvalue()\n",
    "\n",
    "        return super(GzipDisk, self).store(value, read)\n",
    "\n",
    "\n",
    "    def fetch(self, mode, filename, value, read):\n",
    "        \"\"\"\n",
    "        Override from base class diskcache.Disk.\n",
    "\n",
    "        Chunking is due to needing to work on pythons < 2.7.13:\n",
    "        - Issue #27130: In the \"zlib\" module, fix handling of large buffers\n",
    "          (typically 2 or 4 GiB).  Previously, inputs were limited to 2 GiB, and\n",
    "          compression and decompression operations did not properly handle results of\n",
    "          2 or 4 GiB.\n",
    "\n",
    "        :param int mode: value mode raw, binary, text, or pickle\n",
    "        :param str filename: filename of corresponding value\n",
    "        :param value: database value\n",
    "        :param bool read: when True, return an open file handle\n",
    "        :return: corresponding Python value\n",
    "        \"\"\"\n",
    "        value = super(GzipDisk, self).fetch(mode, filename, value, read)\n",
    "\n",
    "        if mode == MODE_BINARY:\n",
    "            str_io = BytesIO(value)\n",
    "            gz_file = gzip.GzipFile(mode='rb', fileobj=str_io)\n",
    "            read_csio = BytesIO()\n",
    "\n",
    "            while True:\n",
    "                uncompressed_data = gz_file.read(2**30)\n",
    "                if uncompressed_data:\n",
    "                    read_csio.write(uncompressed_data)\n",
    "                else:\n",
    "                    break\n",
    "\n",
    "            value = read_csio.getvalue()\n",
    "\n",
    "        return value\n",
    "\n",
    "def getCache(scope_str):\n",
    "    return FanoutCache('data-unversioned/cache/' + scope_str,\n",
    "                       disk=GzipDisk,\n",
    "                       shards=64,\n",
    "                       timeout=1,\n",
    "                       size_limit=3e11,\n",
    "                       )\n",
    "\n",
    "raw_cache = getCache('ct_scan_raw')\n",
    "\n",
    "@raw_cache.memoize(typed=True)\n",
    "def getCtScanChunk(series_uid, center_xyz, dims_irc):\n",
    "        filepaths = glob.glob(archive_path + f\"/subset*/*/{series_uid}.mhd\")\n",
    "        #filepaths = glob.glob(f'/kaggle/input/luna16/subset*/*/{series_uid}.mhd')\n",
    "        assert len(filepaths) != 0, f'CT scan with seriesuid {series_uid} not found!'\n",
    "        mhd_file_path = filepaths[0]\n",
    "        \n",
    "        mhd_file = sitk.ReadImage(mhd_file_path)\n",
    "        ct_scan = np.array(sitk.GetArrayFromImage(mhd_file), dtype=np.float32)\n",
    "        ct_scan.clip(-1000, 1000, ct_scan)\n",
    "        \n",
    "        origin_xyz = mhd_file.GetOrigin()\n",
    "        voxel_size_xyz = mhd_file.GetSpacing()\n",
    "        direction_matrix = np.array(mhd_file.GetDirection()).reshape(3, 3)\n",
    "        \n",
    "        origin_xyz_np = np.array(origin_xyz)\n",
    "        voxel_size_xyz_np = np.array(voxel_size_xyz)\n",
    "        \n",
    "        cri = ((center_xyz - origin_xyz_np) @ np.linalg.inv(direction_matrix)) / voxel_size_xyz_np\n",
    "        cri = np.round(cri)\n",
    "        irc = (int(cri[2]), int(cri[1]), int(cri[0]))\n",
    "        \n",
    "        slice_list = []\n",
    "        for axis, center_val in enumerate(irc):\n",
    "            \n",
    "            start_index = int(round(center_val - dims_irc[axis]/2))\n",
    "            end_index = int(start_index + dims_irc[axis])\n",
    "            \n",
    "            if start_index < 0:\n",
    "                start_index = 0\n",
    "                end_index = int(dims_irc[axis])\n",
    "                \n",
    "            if end_index > ct_scan.shape[axis]:\n",
    "                end_index = ct_scan.shape[axis]\n",
    "                start_index = int(ct_scan.shape[axis] - dims_irc[axis])\n",
    "\n",
    "            slice_list.append(slice(start_index, end_index))\n",
    "            \n",
    "        ct_scan_chunk = ct_scan[tuple(slice_list)]\n",
    "        \n",
    "        return ct_scan_chunk"
   ]
  },
  {
   "cell_type": "code",
   "execution_count": 59,
   "id": "dd13e965-3669-453d-b957-abf59cccef73",
   "metadata": {},
   "outputs": [],
   "source": [
    "class LunaDataset(Dataset):\n",
    "    \n",
    "    def __init__(self, is_validation_set=False, validation_stride=0):\n",
    "        '''Create a PyTorch dataset for the CT scans\n",
    "        \n",
    "        If `is_validation_set` is `True` then every `validation_stride` item is kept.\n",
    "        Otherwise, every `validation_stride` item is deleted\n",
    "        '''\n",
    "        \n",
    "        # Make a copy of all the candidates.\n",
    "        # Pick every 350th candidate so that we have about 1k candidates in the dataset\n",
    "        # It takes agonizingly long to load more data!\n",
    "        positives = [c for c in candidates_clean if c.is_nodule]\n",
    "        negatives = [c for c in candidates_clean if not c.is_nodule]\n",
    "        \n",
    "        # Undersample negatives to match positives\n",
    "        negatives = negatives[:len(positives)]\n",
    "        self.candidates = positives + negatives\n",
    "        random.shuffle(self.candidates)\n",
    "\n",
    "        \n",
    "        # If this is the validation set, keep every `validation_stride` item\n",
    "        if is_validation_set:\n",
    "            self.candidates = self.candidates[::validation_stride]\n",
    "        \n",
    "        # If this is the training set, delete every `validation_stride` item\n",
    "        else:\n",
    "            del self.candidates[::validation_stride]\n",
    "            \n",
    "    def __len__(self):\n",
    "        '''Returns the number of items in the dataset'''\n",
    "        return len(self.candidates)\n",
    "    \n",
    "    def __getitem__(self, i):\n",
    "        '''Get the `i`the item in the dataset'''\n",
    "        \n",
    "        # Get the `i`th candidate\n",
    "        candidate = self.candidates[i]\n",
    "        \n",
    "        # We want to resize each CT scan to the following dimensions\n",
    "        dims_irc = (10, 18, 18)\n",
    "        \n",
    "        # Use the utility function to fetch the CT scan\n",
    "        ct_scan_np = getCtScanChunk(candidate.series_uid, candidate.center_xyz, dims_irc)\n",
    "        \n",
    "        # Convert the CT scan to a tensor\n",
    "        ct_scan_tensor = torch.from_numpy(ct_scan_np).to(torch.float32).unsqueeze(0)\n",
    "        \n",
    "        # Convert the target to a tensor\n",
    "        label_tensor = torch.tensor(1 if candidate.is_nodule else 0, dtype=torch.long)\n",
    "\n",
    "        \n",
    "        return ct_scan_tensor, label_tensor"
   ]
  },
  {
   "cell_type": "code",
   "execution_count": 60,
   "id": "35855e27-2c59-4965-96cf-02596ef20016",
   "metadata": {},
   "outputs": [],
   "source": [
    "VALIDATION_STRIDE=10\n",
    "BS=16\n",
    "\n",
    "train_ds = LunaDataset(is_validation_set=False, validation_stride=VALIDATION_STRIDE)\n",
    "val_ds = LunaDataset(is_validation_set=True, validation_stride=VALIDATION_STRIDE)\n",
    "\n",
    "train_dl = DataLoader(train_ds, batch_size=BS, num_workers=0)\n",
    "val_dl = DataLoader(val_ds, batch_size=BS, num_workers=0)"
   ]
  },
  {
   "cell_type": "code",
   "execution_count": 81,
   "id": "422f57be-1d3d-4edb-a75e-59ad6e9ca314",
   "metadata": {},
   "outputs": [],
   "source": [
    "def train_loop(model, dataloader, criterion, optimizer, ds_size):\n",
    "    '''Train the model for one epoch'''\n",
    "    \n",
    "    # Put the model in training mode to activate dropout\n",
    "    model.train()\n",
    "    \n",
    "    # Keep a track of the loss and correct predictions for the epoch\n",
    "    running_loss = 0.0\n",
    "    running_corrects = 0\n",
    "    \n",
    "    # Track the total number of positives and true positives\n",
    "    running_pos = 0\n",
    "    running_pos_correct = 0\n",
    "    \n",
    "    # Track the total number of negatives and true negatives\n",
    "    running_neg = 0\n",
    "    running_neg_correct = 0\n",
    "    \n",
    "    for inputs, labels in tqdm(dataloader):\n",
    "        \n",
    "        inputs = inputs.to(device)\n",
    "        labels = labels.to(device)\n",
    "        \n",
    "        # --- Standard PyTorch training process ---\n",
    "        optimizer.zero_grad()\n",
    "        \n",
    "        outputs = model(inputs)\n",
    "        _, preds = torch.max(outputs, 1)\n",
    "        \n",
    "        loss = criterion(outputs, labels)\n",
    "        loss.backward()\n",
    "        \n",
    "        optimizer.step()\n",
    "        # -----------------------------------------\n",
    "        \n",
    "        # Calculate loss and correct predictions in batch\n",
    "        running_loss += loss.item() * inputs.size(0)\n",
    "        running_corrects += torch.sum(preds == labels.data)\n",
    "        \n",
    "        # Calculate positives and true positives in batch\n",
    "        running_pos += labels.data.sum()\n",
    "        running_pos_correct += ((preds == labels.data) & (labels.data == 1)).sum()\n",
    "        \n",
    "        # Calculate negatives and true negatives in batch\n",
    "        running_neg += labels.data.sum()\n",
    "        running_neg_correct += ((preds == labels.data) & (labels.data == 0)).sum()\n",
    "\n",
    "    epoch_loss = running_loss / ds_size\n",
    "    epoch_acc = running_corrects.double() / ds_size\n",
    "    \n",
    "    return epoch_loss, epoch_acc, (running_pos_correct, running_pos), (running_neg_correct, running_neg)\n",
    "    \n",
    "    \n",
    "\n",
    "def eval_loop(model, dataloader, criterion, ds_size):\n",
    "    '''Evaluate the model performance for one epoch'''\n",
    "\n",
    "    # Put the model in evaluation mode to deactivate dropout\n",
    "    model.eval()\n",
    "\n",
    "    # Keep track of loss, predictions, and other numbers we are interested in\n",
    "    # just like in the training loop\n",
    "    running_loss = 0.0\n",
    "    running_corrects = 0\n",
    "    \n",
    "    running_pos = 0\n",
    "    running_pos_correct = 0\n",
    "    running_neg = 0\n",
    "    running_neg_correct = 0\n",
    "    \n",
    "    # Don't calculate gradients\n",
    "    with torch.no_grad():\n",
    "    \n",
    "        for inputs, labels in tqdm(dataloader):\n",
    "            inputs = inputs.to(device)\n",
    "            labels = labels.to(device)\n",
    "        \n",
    "            outputs = model(inputs)\n",
    "            _, preds = torch.max(outputs, 1)\n",
    "            loss = criterion(outputs, labels)\n",
    "        \n",
    "            running_loss += loss.item() * inputs.size(0)\n",
    "            running_corrects += torch.sum(preds == labels.data)\n",
    "            \n",
    "            running_pos += labels.data.sum()\n",
    "            running_pos_correct += ((preds == labels.data) & (labels.data == 1)).sum()\n",
    "\n",
    "            running_neg += labels.data.sum()\n",
    "            running_neg_correct += ((preds == labels.data) & (labels.data == 0)).sum()\n",
    "        \n",
    "    epoch_loss = running_loss / ds_size\n",
    "    epoch_acc = running_corrects.double() / ds_size\n",
    "    \n",
    "    return epoch_loss, epoch_acc, (running_pos_correct, running_pos), (running_neg_correct, running_neg)"
   ]
  },
  {
   "cell_type": "code",
   "execution_count": 78,
   "id": "5158d09e-176d-47ca-94a0-52efd301bb25",
   "metadata": {},
   "outputs": [],
   "source": [
    "class LunaModel(nn.Module):\n",
    "    \n",
    "    def __init__(self):\n",
    "        \n",
    "        super().__init__()\n",
    "        \n",
    "        self.conv1 = nn.Conv3d(1, 32, kernel_size=3, padding=1, bias=True)\n",
    "        self.relu1 = nn.ReLU()\n",
    "        self.maxpool1 = nn.MaxPool3d(2)\n",
    "        \n",
    "        self.conv2 = nn.Conv3d(32, 64, kernel_size=3, padding=1, bias=True)\n",
    "        self.relu2 = nn.ReLU()\n",
    "        self.maxpool2 = nn.MaxPool3d(2)\n",
    "        \n",
    "        self.flatten = nn.Flatten()\n",
    "        \n",
    "        self.fc1 = nn.Linear(2048, 1024)\n",
    "        self.relu3 = nn.ReLU()\n",
    "        \n",
    "        self.dropout = nn.Dropout(0.2)\n",
    "        \n",
    "        self.fc2 = nn.Linear(1024, 2)\n",
    "    \n",
    "    def forward(self, X):\n",
    "        \n",
    "        # Dimensions of X => [BS, 1, 10, 18, 18]\n",
    "        \n",
    "        X = self.maxpool1(self.relu1(self.conv1(X)))\n",
    "        X = self.maxpool2(self.relu2(self.conv2(X)))\n",
    "        \n",
    "        X = self.flatten(X)\n",
    "\n",
    "        X = self.relu3(self.fc1(X))\n",
    "        X = self.dropout(X)\n",
    "        \n",
    "        return self.fc2(X)\n",
    "        "
   ]
  },
  {
   "cell_type": "code",
   "execution_count": 79,
   "id": "ca8e1839-86ce-41dd-b89b-7339dd2d6f2d",
   "metadata": {},
   "outputs": [],
   "source": [
    "# Create an instance of the model\n",
    "model = LunaModel()\n",
    "\n",
    "# Use the GPU if it is available\n",
    "device = torch.device(\"cuda:0\" if torch.cuda.is_available() else \"cpu\")\n",
    "model = model.to(device)\n",
    "\n",
    "# Use the cross-entropy loss function\n",
    "criterion = nn.CrossEntropyLoss()\n",
    "\n",
    "# Use the AdamW optimizer\n",
    "optimizer = optim.AdamW(model.parameters(), weight_decay=0.1)"
   ]
  },
  {
   "cell_type": "code",
   "execution_count": 82,
   "id": "1d512597-60c0-4b87-a39e-dab71fde506f",
   "metadata": {},
   "outputs": [
    {
     "data": {
      "application/vnd.jupyter.widget-view+json": {
       "model_id": "d6a63220e6e645039d737de29c20105f",
       "version_major": 2,
       "version_minor": 0
      },
      "text/plain": [
       "  0%|          | 0/92 [00:00<?, ?it/s]"
      ]
     },
     "metadata": {},
     "output_type": "display_data"
    },
    {
     "data": {
      "application/vnd.jupyter.widget-view+json": {
       "model_id": "0d886bec063148928c3243648d60645c",
       "version_major": 2,
       "version_minor": 0
      },
      "text/plain": [
       "  0%|          | 0/11 [00:00<?, ?it/s]"
      ]
     },
     "metadata": {},
     "output_type": "display_data"
    },
    {
     "name": "stdout",
     "output_type": "stream",
     "text": [
      "Epoch: 01 | Epoch Time: 5m 14s\n",
      "\n",
      "\tTrain Loss: 11.142 | Train Acc: 57.35%\n",
      "\tTrain - correct pos: 214/730 | correct neg: 629/730\n",
      "\n",
      "\tVal. Loss: 0.632 |  Val. Acc: 62.20%\n",
      "\tVal. - correct pos: 26/82 | correct neg: 76/82\n",
      "\n"
     ]
    },
    {
     "data": {
      "application/vnd.jupyter.widget-view+json": {
       "model_id": "9dbc3118bbec49998dd279d68d1e2ec1",
       "version_major": 2,
       "version_minor": 0
      },
      "text/plain": [
       "  0%|          | 0/92 [00:00<?, ?it/s]"
      ]
     },
     "metadata": {},
     "output_type": "display_data"
    },
    {
     "data": {
      "application/vnd.jupyter.widget-view+json": {
       "model_id": "c6111ad50fa84a28890d9f9e637579d1",
       "version_major": 2,
       "version_minor": 0
      },
      "text/plain": [
       "  0%|          | 0/11 [00:00<?, ?it/s]"
      ]
     },
     "metadata": {},
     "output_type": "display_data"
    },
    {
     "name": "stdout",
     "output_type": "stream",
     "text": [
      "Epoch: 02 | Epoch Time: 0m 1s\n",
      "\n",
      "\tTrain Loss: 0.650 | Train Acc: 64.56%\n",
      "\tTrain - correct pos: 252/730 | correct neg: 697/730\n",
      "\n",
      "\tVal. Loss: 0.605 |  Val. Acc: 75.00%\n",
      "\tVal. - correct pos: 48/82 | correct neg: 75/82\n",
      "\n"
     ]
    },
    {
     "data": {
      "application/vnd.jupyter.widget-view+json": {
       "model_id": "42888d3503704321aec1d6044afc485f",
       "version_major": 2,
       "version_minor": 0
      },
      "text/plain": [
       "  0%|          | 0/92 [00:00<?, ?it/s]"
      ]
     },
     "metadata": {},
     "output_type": "display_data"
    },
    {
     "data": {
      "application/vnd.jupyter.widget-view+json": {
       "model_id": "30f7f11d5ed84b9fbd303349ec87fe6f",
       "version_major": 2,
       "version_minor": 0
      },
      "text/plain": [
       "  0%|          | 0/11 [00:00<?, ?it/s]"
      ]
     },
     "metadata": {},
     "output_type": "display_data"
    },
    {
     "name": "stdout",
     "output_type": "stream",
     "text": [
      "Epoch: 03 | Epoch Time: 0m 1s\n",
      "\n",
      "\tTrain Loss: 0.708 | Train Acc: 55.78%\n",
      "\tTrain - correct pos: 95/730 | correct neg: 725/730\n",
      "\n",
      "\tVal. Loss: 0.680 |  Val. Acc: 53.05%\n",
      "\tVal. - correct pos: 5/82 | correct neg: 82/82\n",
      "\n"
     ]
    },
    {
     "data": {
      "application/vnd.jupyter.widget-view+json": {
       "model_id": "e75392510ab5490f927843df1a1a27e0",
       "version_major": 2,
       "version_minor": 0
      },
      "text/plain": [
       "  0%|          | 0/92 [00:00<?, ?it/s]"
      ]
     },
     "metadata": {},
     "output_type": "display_data"
    },
    {
     "data": {
      "application/vnd.jupyter.widget-view+json": {
       "model_id": "345d8ec2f6dd4a17b71d1547ae7eeb5e",
       "version_major": 2,
       "version_minor": 0
      },
      "text/plain": [
       "  0%|          | 0/11 [00:00<?, ?it/s]"
      ]
     },
     "metadata": {},
     "output_type": "display_data"
    },
    {
     "name": "stdout",
     "output_type": "stream",
     "text": [
      "Epoch: 04 | Epoch Time: 0m 1s\n",
      "\n",
      "\tTrain Loss: 0.698 | Train Acc: 52.18%\n",
      "\tTrain - correct pos: 34/730 | correct neg: 733/730\n",
      "\n",
      "\tVal. Loss: 0.678 |  Val. Acc: 55.49%\n",
      "\tVal. - correct pos: 9/82 | correct neg: 82/82\n",
      "\n"
     ]
    },
    {
     "data": {
      "application/vnd.jupyter.widget-view+json": {
       "model_id": "08b2e6d270d54f7f8665d6e7103f041b",
       "version_major": 2,
       "version_minor": 0
      },
      "text/plain": [
       "  0%|          | 0/92 [00:00<?, ?it/s]"
      ]
     },
     "metadata": {},
     "output_type": "display_data"
    },
    {
     "data": {
      "application/vnd.jupyter.widget-view+json": {
       "model_id": "669f1d807a67433c8d3a0fa33aab1adf",
       "version_major": 2,
       "version_minor": 0
      },
      "text/plain": [
       "  0%|          | 0/11 [00:00<?, ?it/s]"
      ]
     },
     "metadata": {},
     "output_type": "display_data"
    },
    {
     "name": "stdout",
     "output_type": "stream",
     "text": [
      "Epoch: 05 | Epoch Time: 0m 1s\n",
      "\n",
      "\tTrain Loss: 0.670 | Train Acc: 63.06%\n",
      "\tTrain - correct pos: 236/730 | correct neg: 691/730\n",
      "\n",
      "\tVal. Loss: 0.687 |  Val. Acc: 51.83%\n",
      "\tVal. - correct pos: 5/82 | correct neg: 80/82\n",
      "\n"
     ]
    },
    {
     "data": {
      "application/vnd.jupyter.widget-view+json": {
       "model_id": "2e37108b2974474d90db60d53608feab",
       "version_major": 2,
       "version_minor": 0
      },
      "text/plain": [
       "  0%|          | 0/92 [00:00<?, ?it/s]"
      ]
     },
     "metadata": {},
     "output_type": "display_data"
    },
    {
     "data": {
      "application/vnd.jupyter.widget-view+json": {
       "model_id": "2c3028e8f5f345b8b6dfdf9886a506aa",
       "version_major": 2,
       "version_minor": 0
      },
      "text/plain": [
       "  0%|          | 0/11 [00:00<?, ?it/s]"
      ]
     },
     "metadata": {},
     "output_type": "display_data"
    },
    {
     "name": "stdout",
     "output_type": "stream",
     "text": [
      "Epoch: 06 | Epoch Time: 0m 1s\n",
      "\n",
      "\tTrain Loss: 0.699 | Train Acc: 51.29%\n",
      "\tTrain - correct pos: 22/730 | correct neg: 732/730\n",
      "\n",
      "\tVal. Loss: 0.689 |  Val. Acc: 51.22%\n",
      "\tVal. - correct pos: 2/82 | correct neg: 82/82\n",
      "\n"
     ]
    },
    {
     "data": {
      "application/vnd.jupyter.widget-view+json": {
       "model_id": "5925986177124349b0f6a87a0289b5ad",
       "version_major": 2,
       "version_minor": 0
      },
      "text/plain": [
       "  0%|          | 0/92 [00:00<?, ?it/s]"
      ]
     },
     "metadata": {},
     "output_type": "display_data"
    },
    {
     "data": {
      "application/vnd.jupyter.widget-view+json": {
       "model_id": "0fdd49d1034244e3be32517f951de17e",
       "version_major": 2,
       "version_minor": 0
      },
      "text/plain": [
       "  0%|          | 0/11 [00:00<?, ?it/s]"
      ]
     },
     "metadata": {},
     "output_type": "display_data"
    },
    {
     "name": "stdout",
     "output_type": "stream",
     "text": [
      "Epoch: 07 | Epoch Time: 0m 1s\n",
      "\n",
      "\tTrain Loss: 0.683 | Train Acc: 53.13%\n",
      "\tTrain - correct pos: 53/730 | correct neg: 728/730\n",
      "\n",
      "\tVal. Loss: 0.688 |  Val. Acc: 51.22%\n",
      "\tVal. - correct pos: 2/82 | correct neg: 82/82\n",
      "\n"
     ]
    },
    {
     "data": {
      "application/vnd.jupyter.widget-view+json": {
       "model_id": "2d0197fcc67b4267a4d7d18f100c043b",
       "version_major": 2,
       "version_minor": 0
      },
      "text/plain": [
       "  0%|          | 0/92 [00:00<?, ?it/s]"
      ]
     },
     "metadata": {},
     "output_type": "display_data"
    },
    {
     "data": {
      "application/vnd.jupyter.widget-view+json": {
       "model_id": "03f436e316234445a5c82fe94311195a",
       "version_major": 2,
       "version_minor": 0
      },
      "text/plain": [
       "  0%|          | 0/11 [00:00<?, ?it/s]"
      ]
     },
     "metadata": {},
     "output_type": "display_data"
    },
    {
     "name": "stdout",
     "output_type": "stream",
     "text": [
      "Epoch: 08 | Epoch Time: 0m 1s\n",
      "\n",
      "\tTrain Loss: 0.695 | Train Acc: 51.63%\n",
      "\tTrain - correct pos: 23/730 | correct neg: 736/730\n",
      "\n",
      "\tVal. Loss: 0.693 |  Val. Acc: 50.61%\n",
      "\tVal. - correct pos: 1/82 | correct neg: 82/82\n",
      "\n"
     ]
    },
    {
     "data": {
      "application/vnd.jupyter.widget-view+json": {
       "model_id": "9bb6644b4a6a47679929470abae27593",
       "version_major": 2,
       "version_minor": 0
      },
      "text/plain": [
       "  0%|          | 0/92 [00:00<?, ?it/s]"
      ]
     },
     "metadata": {},
     "output_type": "display_data"
    },
    {
     "data": {
      "application/vnd.jupyter.widget-view+json": {
       "model_id": "1e0f115560d64071ab4ef769a66160b1",
       "version_major": 2,
       "version_minor": 0
      },
      "text/plain": [
       "  0%|          | 0/11 [00:00<?, ?it/s]"
      ]
     },
     "metadata": {},
     "output_type": "display_data"
    },
    {
     "name": "stdout",
     "output_type": "stream",
     "text": [
      "Epoch: 09 | Epoch Time: 0m 1s\n",
      "\n",
      "\tTrain Loss: 0.693 | Train Acc: 50.00%\n",
      "\tTrain - correct pos: 13/730 | correct neg: 722/730\n",
      "\n",
      "\tVal. Loss: 0.693 |  Val. Acc: 50.00%\n",
      "\tVal. - correct pos: 82/82 | correct neg: 0/82\n",
      "\n"
     ]
    },
    {
     "data": {
      "application/vnd.jupyter.widget-view+json": {
       "model_id": "294917f064974cf59c545704b972c5a0",
       "version_major": 2,
       "version_minor": 0
      },
      "text/plain": [
       "  0%|          | 0/92 [00:00<?, ?it/s]"
      ]
     },
     "metadata": {},
     "output_type": "display_data"
    },
    {
     "data": {
      "application/vnd.jupyter.widget-view+json": {
       "model_id": "f66c1eaac464408bb11bf578e160b344",
       "version_major": 2,
       "version_minor": 0
      },
      "text/plain": [
       "  0%|          | 0/11 [00:00<?, ?it/s]"
      ]
     },
     "metadata": {},
     "output_type": "display_data"
    },
    {
     "name": "stdout",
     "output_type": "stream",
     "text": [
      "Epoch: 10 | Epoch Time: 0m 1s\n",
      "\n",
      "\tTrain Loss: 0.693 | Train Acc: 49.32%\n",
      "\tTrain - correct pos: 116/730 | correct neg: 609/730\n",
      "\n",
      "\tVal. Loss: 0.693 |  Val. Acc: 49.39%\n",
      "\tVal. - correct pos: 81/82 | correct neg: 0/82\n",
      "\n"
     ]
    },
    {
     "data": {
      "application/vnd.jupyter.widget-view+json": {
       "model_id": "4fcc5e4191774a7ab0d43896d1674613",
       "version_major": 2,
       "version_minor": 0
      },
      "text/plain": [
       "  0%|          | 0/92 [00:00<?, ?it/s]"
      ]
     },
     "metadata": {},
     "output_type": "display_data"
    },
    {
     "data": {
      "application/vnd.jupyter.widget-view+json": {
       "model_id": "09dad323fc494fb597192e17bdc5ab97",
       "version_major": 2,
       "version_minor": 0
      },
      "text/plain": [
       "  0%|          | 0/11 [00:00<?, ?it/s]"
      ]
     },
     "metadata": {},
     "output_type": "display_data"
    },
    {
     "name": "stdout",
     "output_type": "stream",
     "text": [
      "Epoch: 11 | Epoch Time: 0m 1s\n",
      "\n",
      "\tTrain Loss: 0.693 | Train Acc: 49.18%\n",
      "\tTrain - correct pos: 175/730 | correct neg: 548/730\n",
      "\n",
      "\tVal. Loss: 0.692 |  Val. Acc: 49.39%\n",
      "\tVal. - correct pos: 81/82 | correct neg: 0/82\n",
      "\n"
     ]
    },
    {
     "data": {
      "application/vnd.jupyter.widget-view+json": {
       "model_id": "3bfbb9a5cdf14d4496c27918f4023818",
       "version_major": 2,
       "version_minor": 0
      },
      "text/plain": [
       "  0%|          | 0/92 [00:00<?, ?it/s]"
      ]
     },
     "metadata": {},
     "output_type": "display_data"
    },
    {
     "data": {
      "application/vnd.jupyter.widget-view+json": {
       "model_id": "5998cb15f4c1437e9ed400f2067611da",
       "version_major": 2,
       "version_minor": 0
      },
      "text/plain": [
       "  0%|          | 0/11 [00:00<?, ?it/s]"
      ]
     },
     "metadata": {},
     "output_type": "display_data"
    },
    {
     "name": "stdout",
     "output_type": "stream",
     "text": [
      "Epoch: 12 | Epoch Time: 0m 1s\n",
      "\n",
      "\tTrain Loss: 0.684 | Train Acc: 51.84%\n",
      "\tTrain - correct pos: 199/730 | correct neg: 563/730\n",
      "\n",
      "\tVal. Loss: 0.583 |  Val. Acc: 77.44%\n",
      "\tVal. - correct pos: 61/82 | correct neg: 66/82\n",
      "\n"
     ]
    },
    {
     "data": {
      "application/vnd.jupyter.widget-view+json": {
       "model_id": "951d626e3dd14f82b706bd802991d707",
       "version_major": 2,
       "version_minor": 0
      },
      "text/plain": [
       "  0%|          | 0/92 [00:00<?, ?it/s]"
      ]
     },
     "metadata": {},
     "output_type": "display_data"
    },
    {
     "data": {
      "application/vnd.jupyter.widget-view+json": {
       "model_id": "1828ba06e6c243ae92cf3cc9abc658e0",
       "version_major": 2,
       "version_minor": 0
      },
      "text/plain": [
       "  0%|          | 0/11 [00:00<?, ?it/s]"
      ]
     },
     "metadata": {},
     "output_type": "display_data"
    },
    {
     "name": "stdout",
     "output_type": "stream",
     "text": [
      "Epoch: 13 | Epoch Time: 0m 1s\n",
      "\n",
      "\tTrain Loss: 0.614 | Train Acc: 69.18%\n",
      "\tTrain - correct pos: 331/730 | correct neg: 686/730\n",
      "\n",
      "\tVal. Loss: 0.492 |  Val. Acc: 79.88%\n",
      "\tVal. - correct pos: 57/82 | correct neg: 74/82\n",
      "\n"
     ]
    },
    {
     "data": {
      "application/vnd.jupyter.widget-view+json": {
       "model_id": "565c07b583fa4c63a7c9fea24d83280e",
       "version_major": 2,
       "version_minor": 0
      },
      "text/plain": [
       "  0%|          | 0/92 [00:00<?, ?it/s]"
      ]
     },
     "metadata": {},
     "output_type": "display_data"
    },
    {
     "data": {
      "application/vnd.jupyter.widget-view+json": {
       "model_id": "a10243082003456cba6bed735f013a5d",
       "version_major": 2,
       "version_minor": 0
      },
      "text/plain": [
       "  0%|          | 0/11 [00:00<?, ?it/s]"
      ]
     },
     "metadata": {},
     "output_type": "display_data"
    },
    {
     "name": "stdout",
     "output_type": "stream",
     "text": [
      "Epoch: 14 | Epoch Time: 0m 1s\n",
      "\n",
      "\tTrain Loss: 0.574 | Train Acc: 72.86%\n",
      "\tTrain - correct pos: 410/730 | correct neg: 661/730\n",
      "\n",
      "\tVal. Loss: 0.470 |  Val. Acc: 80.49%\n",
      "\tVal. - correct pos: 56/82 | correct neg: 76/82\n",
      "\n"
     ]
    },
    {
     "data": {
      "application/vnd.jupyter.widget-view+json": {
       "model_id": "c3fa7e077f614d03ba0a41e5afaab5d2",
       "version_major": 2,
       "version_minor": 0
      },
      "text/plain": [
       "  0%|          | 0/92 [00:00<?, ?it/s]"
      ]
     },
     "metadata": {},
     "output_type": "display_data"
    },
    {
     "data": {
      "application/vnd.jupyter.widget-view+json": {
       "model_id": "48f6a53161f04ccaa4a78bb9e4e78913",
       "version_major": 2,
       "version_minor": 0
      },
      "text/plain": [
       "  0%|          | 0/11 [00:00<?, ?it/s]"
      ]
     },
     "metadata": {},
     "output_type": "display_data"
    },
    {
     "name": "stdout",
     "output_type": "stream",
     "text": [
      "Epoch: 15 | Epoch Time: 0m 1s\n",
      "\n",
      "\tTrain Loss: 0.550 | Train Acc: 73.20%\n",
      "\tTrain - correct pos: 405/730 | correct neg: 671/730\n",
      "\n",
      "\tVal. Loss: 0.655 |  Val. Acc: 60.98%\n",
      "\tVal. - correct pos: 18/82 | correct neg: 82/82\n",
      "\n"
     ]
    },
    {
     "data": {
      "application/vnd.jupyter.widget-view+json": {
       "model_id": "374e9287f4bd4f1091b50a16b65c473d",
       "version_major": 2,
       "version_minor": 0
      },
      "text/plain": [
       "  0%|          | 0/92 [00:00<?, ?it/s]"
      ]
     },
     "metadata": {},
     "output_type": "display_data"
    },
    {
     "data": {
      "application/vnd.jupyter.widget-view+json": {
       "model_id": "b755ff8338084f9c840bc3710297a261",
       "version_major": 2,
       "version_minor": 0
      },
      "text/plain": [
       "  0%|          | 0/11 [00:00<?, ?it/s]"
      ]
     },
     "metadata": {},
     "output_type": "display_data"
    },
    {
     "name": "stdout",
     "output_type": "stream",
     "text": [
      "Epoch: 16 | Epoch Time: 0m 1s\n",
      "\n",
      "\tTrain Loss: 0.527 | Train Acc: 74.83%\n",
      "\tTrain - correct pos: 418/730 | correct neg: 682/730\n",
      "\n",
      "\tVal. Loss: 0.502 |  Val. Acc: 77.44%\n",
      "\tVal. - correct pos: 52/82 | correct neg: 75/82\n",
      "\n"
     ]
    },
    {
     "data": {
      "application/vnd.jupyter.widget-view+json": {
       "model_id": "71487747f7c84ac5995ac913dbe51f54",
       "version_major": 2,
       "version_minor": 0
      },
      "text/plain": [
       "  0%|          | 0/92 [00:00<?, ?it/s]"
      ]
     },
     "metadata": {},
     "output_type": "display_data"
    },
    {
     "data": {
      "application/vnd.jupyter.widget-view+json": {
       "model_id": "fcb97259adfe4281b4d46a67e33a6709",
       "version_major": 2,
       "version_minor": 0
      },
      "text/plain": [
       "  0%|          | 0/11 [00:00<?, ?it/s]"
      ]
     },
     "metadata": {},
     "output_type": "display_data"
    },
    {
     "name": "stdout",
     "output_type": "stream",
     "text": [
      "Epoch: 17 | Epoch Time: 0m 1s\n",
      "\n",
      "\tTrain Loss: 0.502 | Train Acc: 77.28%\n",
      "\tTrain - correct pos: 471/730 | correct neg: 665/730\n",
      "\n",
      "\tVal. Loss: 0.489 |  Val. Acc: 75.61%\n",
      "\tVal. - correct pos: 47/82 | correct neg: 77/82\n",
      "\n"
     ]
    },
    {
     "data": {
      "application/vnd.jupyter.widget-view+json": {
       "model_id": "4cd76917036a492ca736dba86f989847",
       "version_major": 2,
       "version_minor": 0
      },
      "text/plain": [
       "  0%|          | 0/92 [00:00<?, ?it/s]"
      ]
     },
     "metadata": {},
     "output_type": "display_data"
    },
    {
     "data": {
      "application/vnd.jupyter.widget-view+json": {
       "model_id": "9661d1eef7334b5887bc696c3ef4a6c3",
       "version_major": 2,
       "version_minor": 0
      },
      "text/plain": [
       "  0%|          | 0/11 [00:00<?, ?it/s]"
      ]
     },
     "metadata": {},
     "output_type": "display_data"
    },
    {
     "name": "stdout",
     "output_type": "stream",
     "text": [
      "Epoch: 18 | Epoch Time: 0m 1s\n",
      "\n",
      "\tTrain Loss: 0.516 | Train Acc: 76.46%\n",
      "\tTrain - correct pos: 483/730 | correct neg: 641/730\n",
      "\n",
      "\tVal. Loss: 0.419 |  Val. Acc: 81.10%\n",
      "\tVal. - correct pos: 57/82 | correct neg: 76/82\n",
      "\n"
     ]
    },
    {
     "data": {
      "application/vnd.jupyter.widget-view+json": {
       "model_id": "da9d9d2a9e444ad7becb3e7c7a9970bd",
       "version_major": 2,
       "version_minor": 0
      },
      "text/plain": [
       "  0%|          | 0/92 [00:00<?, ?it/s]"
      ]
     },
     "metadata": {},
     "output_type": "display_data"
    },
    {
     "data": {
      "application/vnd.jupyter.widget-view+json": {
       "model_id": "be50b90459754a678ac278d8b2ea8d73",
       "version_major": 2,
       "version_minor": 0
      },
      "text/plain": [
       "  0%|          | 0/11 [00:00<?, ?it/s]"
      ]
     },
     "metadata": {},
     "output_type": "display_data"
    },
    {
     "name": "stdout",
     "output_type": "stream",
     "text": [
      "Epoch: 19 | Epoch Time: 0m 1s\n",
      "\n",
      "\tTrain Loss: 0.462 | Train Acc: 79.32%\n",
      "\tTrain - correct pos: 524/730 | correct neg: 642/730\n",
      "\n",
      "\tVal. Loss: 0.428 |  Val. Acc: 81.10%\n",
      "\tVal. - correct pos: 58/82 | correct neg: 75/82\n",
      "\n"
     ]
    },
    {
     "data": {
      "application/vnd.jupyter.widget-view+json": {
       "model_id": "837102906a3448b8b167cf59502539f1",
       "version_major": 2,
       "version_minor": 0
      },
      "text/plain": [
       "  0%|          | 0/92 [00:00<?, ?it/s]"
      ]
     },
     "metadata": {},
     "output_type": "display_data"
    },
    {
     "data": {
      "application/vnd.jupyter.widget-view+json": {
       "model_id": "8e726f40d85044b3b66317b7fc1f482e",
       "version_major": 2,
       "version_minor": 0
      },
      "text/plain": [
       "  0%|          | 0/11 [00:00<?, ?it/s]"
      ]
     },
     "metadata": {},
     "output_type": "display_data"
    },
    {
     "name": "stdout",
     "output_type": "stream",
     "text": [
      "Epoch: 20 | Epoch Time: 0m 1s\n",
      "\n",
      "\tTrain Loss: 0.520 | Train Acc: 77.69%\n",
      "\tTrain - correct pos: 496/730 | correct neg: 646/730\n",
      "\n",
      "\tVal. Loss: 0.399 |  Val. Acc: 84.15%\n",
      "\tVal. - correct pos: 65/82 | correct neg: 73/82\n",
      "\n"
     ]
    },
    {
     "data": {
      "application/vnd.jupyter.widget-view+json": {
       "model_id": "1b6c6f4497114ebd8519276d243f669f",
       "version_major": 2,
       "version_minor": 0
      },
      "text/plain": [
       "  0%|          | 0/92 [00:00<?, ?it/s]"
      ]
     },
     "metadata": {},
     "output_type": "display_data"
    },
    {
     "data": {
      "application/vnd.jupyter.widget-view+json": {
       "model_id": "a385fce3019f49c7b7745084fd373448",
       "version_major": 2,
       "version_minor": 0
      },
      "text/plain": [
       "  0%|          | 0/11 [00:00<?, ?it/s]"
      ]
     },
     "metadata": {},
     "output_type": "display_data"
    },
    {
     "name": "stdout",
     "output_type": "stream",
     "text": [
      "Epoch: 21 | Epoch Time: 0m 1s\n",
      "\n",
      "\tTrain Loss: 0.478 | Train Acc: 79.05%\n",
      "\tTrain - correct pos: 523/730 | correct neg: 639/730\n",
      "\n",
      "\tVal. Loss: 0.390 |  Val. Acc: 83.54%\n",
      "\tVal. - correct pos: 67/82 | correct neg: 70/82\n",
      "\n"
     ]
    },
    {
     "data": {
      "application/vnd.jupyter.widget-view+json": {
       "model_id": "94471559c7e241d58611be1a05e3067e",
       "version_major": 2,
       "version_minor": 0
      },
      "text/plain": [
       "  0%|          | 0/92 [00:00<?, ?it/s]"
      ]
     },
     "metadata": {},
     "output_type": "display_data"
    },
    {
     "data": {
      "application/vnd.jupyter.widget-view+json": {
       "model_id": "3dc43bb715bd44b5a12cc691d7139685",
       "version_major": 2,
       "version_minor": 0
      },
      "text/plain": [
       "  0%|          | 0/11 [00:00<?, ?it/s]"
      ]
     },
     "metadata": {},
     "output_type": "display_data"
    },
    {
     "name": "stdout",
     "output_type": "stream",
     "text": [
      "Epoch: 22 | Epoch Time: 0m 1s\n",
      "\n",
      "\tTrain Loss: 0.479 | Train Acc: 79.73%\n",
      "\tTrain - correct pos: 515/730 | correct neg: 657/730\n",
      "\n",
      "\tVal. Loss: 0.452 |  Val. Acc: 79.27%\n",
      "\tVal. - correct pos: 54/82 | correct neg: 76/82\n",
      "\n"
     ]
    },
    {
     "data": {
      "application/vnd.jupyter.widget-view+json": {
       "model_id": "ce81741b563746ffb8ed6b804e2fe007",
       "version_major": 2,
       "version_minor": 0
      },
      "text/plain": [
       "  0%|          | 0/92 [00:00<?, ?it/s]"
      ]
     },
     "metadata": {},
     "output_type": "display_data"
    },
    {
     "data": {
      "application/vnd.jupyter.widget-view+json": {
       "model_id": "10b9552c8e8f48768f44001f2c7abcf4",
       "version_major": 2,
       "version_minor": 0
      },
      "text/plain": [
       "  0%|          | 0/11 [00:00<?, ?it/s]"
      ]
     },
     "metadata": {},
     "output_type": "display_data"
    },
    {
     "name": "stdout",
     "output_type": "stream",
     "text": [
      "Epoch: 23 | Epoch Time: 0m 1s\n",
      "\n",
      "\tTrain Loss: 0.462 | Train Acc: 79.32%\n",
      "\tTrain - correct pos: 557/730 | correct neg: 609/730\n",
      "\n",
      "\tVal. Loss: 0.424 |  Val. Acc: 82.93%\n",
      "\tVal. - correct pos: 58/82 | correct neg: 78/82\n",
      "\n"
     ]
    },
    {
     "data": {
      "application/vnd.jupyter.widget-view+json": {
       "model_id": "4c7a76e33745486daf87cf7ea51d15b9",
       "version_major": 2,
       "version_minor": 0
      },
      "text/plain": [
       "  0%|          | 0/92 [00:00<?, ?it/s]"
      ]
     },
     "metadata": {},
     "output_type": "display_data"
    },
    {
     "data": {
      "application/vnd.jupyter.widget-view+json": {
       "model_id": "d80924464aaf43fdb7d0a267e9c265c5",
       "version_major": 2,
       "version_minor": 0
      },
      "text/plain": [
       "  0%|          | 0/11 [00:00<?, ?it/s]"
      ]
     },
     "metadata": {},
     "output_type": "display_data"
    },
    {
     "name": "stdout",
     "output_type": "stream",
     "text": [
      "Epoch: 24 | Epoch Time: 0m 1s\n",
      "\n",
      "\tTrain Loss: 0.430 | Train Acc: 82.04%\n",
      "\tTrain - correct pos: 545/730 | correct neg: 661/730\n",
      "\n",
      "\tVal. Loss: 0.364 |  Val. Acc: 84.15%\n",
      "\tVal. - correct pos: 72/82 | correct neg: 66/82\n",
      "\n"
     ]
    },
    {
     "data": {
      "application/vnd.jupyter.widget-view+json": {
       "model_id": "54676bf681284250a29109c1f2812955",
       "version_major": 2,
       "version_minor": 0
      },
      "text/plain": [
       "  0%|          | 0/92 [00:00<?, ?it/s]"
      ]
     },
     "metadata": {},
     "output_type": "display_data"
    },
    {
     "data": {
      "application/vnd.jupyter.widget-view+json": {
       "model_id": "2231cd3276e44082951d8975e6bb8758",
       "version_major": 2,
       "version_minor": 0
      },
      "text/plain": [
       "  0%|          | 0/11 [00:00<?, ?it/s]"
      ]
     },
     "metadata": {},
     "output_type": "display_data"
    },
    {
     "name": "stdout",
     "output_type": "stream",
     "text": [
      "Epoch: 25 | Epoch Time: 0m 1s\n",
      "\n",
      "\tTrain Loss: 0.448 | Train Acc: 81.02%\n",
      "\tTrain - correct pos: 570/730 | correct neg: 621/730\n",
      "\n",
      "\tVal. Loss: 0.386 |  Val. Acc: 82.93%\n",
      "\tVal. - correct pos: 68/82 | correct neg: 68/82\n",
      "\n"
     ]
    },
    {
     "data": {
      "application/vnd.jupyter.widget-view+json": {
       "model_id": "320cec35385e4400825aff9592d58251",
       "version_major": 2,
       "version_minor": 0
      },
      "text/plain": [
       "  0%|          | 0/92 [00:00<?, ?it/s]"
      ]
     },
     "metadata": {},
     "output_type": "display_data"
    },
    {
     "data": {
      "application/vnd.jupyter.widget-view+json": {
       "model_id": "6ec06b57dc50408e94cde7d3041a7657",
       "version_major": 2,
       "version_minor": 0
      },
      "text/plain": [
       "  0%|          | 0/11 [00:00<?, ?it/s]"
      ]
     },
     "metadata": {},
     "output_type": "display_data"
    },
    {
     "name": "stdout",
     "output_type": "stream",
     "text": [
      "Epoch: 26 | Epoch Time: 0m 1s\n",
      "\n",
      "\tTrain Loss: 0.461 | Train Acc: 80.41%\n",
      "\tTrain - correct pos: 588/730 | correct neg: 594/730\n",
      "\n",
      "\tVal. Loss: 0.412 |  Val. Acc: 82.32%\n",
      "\tVal. - correct pos: 71/82 | correct neg: 64/82\n",
      "\n"
     ]
    },
    {
     "data": {
      "application/vnd.jupyter.widget-view+json": {
       "model_id": "19e4afe55fb44c318eff6429ef231503",
       "version_major": 2,
       "version_minor": 0
      },
      "text/plain": [
       "  0%|          | 0/92 [00:00<?, ?it/s]"
      ]
     },
     "metadata": {},
     "output_type": "display_data"
    },
    {
     "data": {
      "application/vnd.jupyter.widget-view+json": {
       "model_id": "06bbbdff72ee479e94021350543596c2",
       "version_major": 2,
       "version_minor": 0
      },
      "text/plain": [
       "  0%|          | 0/11 [00:00<?, ?it/s]"
      ]
     },
     "metadata": {},
     "output_type": "display_data"
    },
    {
     "name": "stdout",
     "output_type": "stream",
     "text": [
      "Epoch: 27 | Epoch Time: 0m 1s\n",
      "\n",
      "\tTrain Loss: 0.445 | Train Acc: 81.70%\n",
      "\tTrain - correct pos: 566/730 | correct neg: 635/730\n",
      "\n",
      "\tVal. Loss: 0.310 |  Val. Acc: 88.41%\n",
      "\tVal. - correct pos: 70/82 | correct neg: 75/82\n",
      "\n"
     ]
    },
    {
     "data": {
      "application/vnd.jupyter.widget-view+json": {
       "model_id": "22bd7fc8a18948a8be6bec3479a5be79",
       "version_major": 2,
       "version_minor": 0
      },
      "text/plain": [
       "  0%|          | 0/92 [00:00<?, ?it/s]"
      ]
     },
     "metadata": {},
     "output_type": "display_data"
    },
    {
     "data": {
      "application/vnd.jupyter.widget-view+json": {
       "model_id": "eb1bbad95e4c40d39ce93a092b5422c4",
       "version_major": 2,
       "version_minor": 0
      },
      "text/plain": [
       "  0%|          | 0/11 [00:00<?, ?it/s]"
      ]
     },
     "metadata": {},
     "output_type": "display_data"
    },
    {
     "name": "stdout",
     "output_type": "stream",
     "text": [
      "Epoch: 28 | Epoch Time: 0m 1s\n",
      "\n",
      "\tTrain Loss: 0.431 | Train Acc: 82.11%\n",
      "\tTrain - correct pos: 579/730 | correct neg: 628/730\n",
      "\n",
      "\tVal. Loss: 0.433 |  Val. Acc: 80.49%\n",
      "\tVal. - correct pos: 55/82 | correct neg: 77/82\n",
      "\n"
     ]
    },
    {
     "data": {
      "application/vnd.jupyter.widget-view+json": {
       "model_id": "4ae69a59e23a4f7daa6b60a579182cf5",
       "version_major": 2,
       "version_minor": 0
      },
      "text/plain": [
       "  0%|          | 0/92 [00:00<?, ?it/s]"
      ]
     },
     "metadata": {},
     "output_type": "display_data"
    },
    {
     "data": {
      "application/vnd.jupyter.widget-view+json": {
       "model_id": "aafd08cc22114b61a0d4869b4128675e",
       "version_major": 2,
       "version_minor": 0
      },
      "text/plain": [
       "  0%|          | 0/11 [00:00<?, ?it/s]"
      ]
     },
     "metadata": {},
     "output_type": "display_data"
    },
    {
     "name": "stdout",
     "output_type": "stream",
     "text": [
      "Epoch: 29 | Epoch Time: 0m 1s\n",
      "\n",
      "\tTrain Loss: 0.433 | Train Acc: 83.81%\n",
      "\tTrain - correct pos: 584/730 | correct neg: 648/730\n",
      "\n",
      "\tVal. Loss: 0.341 |  Val. Acc: 88.41%\n",
      "\tVal. - correct pos: 67/82 | correct neg: 78/82\n",
      "\n"
     ]
    },
    {
     "data": {
      "application/vnd.jupyter.widget-view+json": {
       "model_id": "a31d223f05ac4c18aced21f536705a46",
       "version_major": 2,
       "version_minor": 0
      },
      "text/plain": [
       "  0%|          | 0/92 [00:00<?, ?it/s]"
      ]
     },
     "metadata": {},
     "output_type": "display_data"
    },
    {
     "data": {
      "application/vnd.jupyter.widget-view+json": {
       "model_id": "fe174f78cd144210865de569809cae8b",
       "version_major": 2,
       "version_minor": 0
      },
      "text/plain": [
       "  0%|          | 0/11 [00:00<?, ?it/s]"
      ]
     },
     "metadata": {},
     "output_type": "display_data"
    },
    {
     "name": "stdout",
     "output_type": "stream",
     "text": [
      "Epoch: 30 | Epoch Time: 0m 1s\n",
      "\n",
      "\tTrain Loss: 0.431 | Train Acc: 80.68%\n",
      "\tTrain - correct pos: 555/730 | correct neg: 631/730\n",
      "\n",
      "\tVal. Loss: 0.376 |  Val. Acc: 84.76%\n",
      "\tVal. - correct pos: 68/82 | correct neg: 71/82\n",
      "\n"
     ]
    },
    {
     "data": {
      "application/vnd.jupyter.widget-view+json": {
       "model_id": "2c995759a35e468d95c5812c34c49234",
       "version_major": 2,
       "version_minor": 0
      },
      "text/plain": [
       "  0%|          | 0/92 [00:00<?, ?it/s]"
      ]
     },
     "metadata": {},
     "output_type": "display_data"
    },
    {
     "data": {
      "application/vnd.jupyter.widget-view+json": {
       "model_id": "e2f8e4d1b135453193a17791d856bbcd",
       "version_major": 2,
       "version_minor": 0
      },
      "text/plain": [
       "  0%|          | 0/11 [00:00<?, ?it/s]"
      ]
     },
     "metadata": {},
     "output_type": "display_data"
    },
    {
     "name": "stdout",
     "output_type": "stream",
     "text": [
      "Epoch: 31 | Epoch Time: 0m 1s\n",
      "\n",
      "\tTrain Loss: 0.435 | Train Acc: 82.52%\n",
      "\tTrain - correct pos: 573/730 | correct neg: 640/730\n",
      "\n",
      "\tVal. Loss: 0.350 |  Val. Acc: 87.20%\n",
      "\tVal. - correct pos: 76/82 | correct neg: 67/82\n",
      "\n"
     ]
    },
    {
     "data": {
      "application/vnd.jupyter.widget-view+json": {
       "model_id": "9665a0ee44774b80883278f9f9065e31",
       "version_major": 2,
       "version_minor": 0
      },
      "text/plain": [
       "  0%|          | 0/92 [00:00<?, ?it/s]"
      ]
     },
     "metadata": {},
     "output_type": "display_data"
    },
    {
     "data": {
      "application/vnd.jupyter.widget-view+json": {
       "model_id": "6750ad1df53d46ad96455f202f018985",
       "version_major": 2,
       "version_minor": 0
      },
      "text/plain": [
       "  0%|          | 0/11 [00:00<?, ?it/s]"
      ]
     },
     "metadata": {},
     "output_type": "display_data"
    },
    {
     "name": "stdout",
     "output_type": "stream",
     "text": [
      "Epoch: 32 | Epoch Time: 0m 1s\n",
      "\n",
      "\tTrain Loss: 0.415 | Train Acc: 82.86%\n",
      "\tTrain - correct pos: 594/730 | correct neg: 624/730\n",
      "\n",
      "\tVal. Loss: 0.565 |  Val. Acc: 76.22%\n",
      "\tVal. - correct pos: 47/82 | correct neg: 78/82\n",
      "\n"
     ]
    },
    {
     "data": {
      "application/vnd.jupyter.widget-view+json": {
       "model_id": "2a65ecadc2824bc0beedbcc71e8a1e93",
       "version_major": 2,
       "version_minor": 0
      },
      "text/plain": [
       "  0%|          | 0/92 [00:00<?, ?it/s]"
      ]
     },
     "metadata": {},
     "output_type": "display_data"
    },
    {
     "data": {
      "application/vnd.jupyter.widget-view+json": {
       "model_id": "b253624e12d34fe8b3df55786a24a881",
       "version_major": 2,
       "version_minor": 0
      },
      "text/plain": [
       "  0%|          | 0/11 [00:00<?, ?it/s]"
      ]
     },
     "metadata": {},
     "output_type": "display_data"
    },
    {
     "name": "stdout",
     "output_type": "stream",
     "text": [
      "Epoch: 33 | Epoch Time: 0m 1s\n",
      "\n",
      "\tTrain Loss: 0.406 | Train Acc: 83.95%\n",
      "\tTrain - correct pos: 611/730 | correct neg: 623/730\n",
      "\n",
      "\tVal. Loss: 0.338 |  Val. Acc: 85.37%\n",
      "\tVal. - correct pos: 68/82 | correct neg: 72/82\n",
      "\n"
     ]
    },
    {
     "data": {
      "application/vnd.jupyter.widget-view+json": {
       "model_id": "1a03131cd17c4292ba19d380887f1216",
       "version_major": 2,
       "version_minor": 0
      },
      "text/plain": [
       "  0%|          | 0/92 [00:00<?, ?it/s]"
      ]
     },
     "metadata": {},
     "output_type": "display_data"
    },
    {
     "data": {
      "application/vnd.jupyter.widget-view+json": {
       "model_id": "7c29781c55d54c00951e7ecb5ac0cdea",
       "version_major": 2,
       "version_minor": 0
      },
      "text/plain": [
       "  0%|          | 0/11 [00:00<?, ?it/s]"
      ]
     },
     "metadata": {},
     "output_type": "display_data"
    },
    {
     "name": "stdout",
     "output_type": "stream",
     "text": [
      "Epoch: 34 | Epoch Time: 0m 1s\n",
      "\n",
      "\tTrain Loss: 0.422 | Train Acc: 82.04%\n",
      "\tTrain - correct pos: 580/730 | correct neg: 626/730\n",
      "\n",
      "\tVal. Loss: 0.415 |  Val. Acc: 81.71%\n",
      "\tVal. - correct pos: 58/82 | correct neg: 76/82\n",
      "\n"
     ]
    },
    {
     "data": {
      "application/vnd.jupyter.widget-view+json": {
       "model_id": "e4d94ce7fa1c4dccb0dbb98aadbbaefa",
       "version_major": 2,
       "version_minor": 0
      },
      "text/plain": [
       "  0%|          | 0/92 [00:00<?, ?it/s]"
      ]
     },
     "metadata": {},
     "output_type": "display_data"
    },
    {
     "data": {
      "application/vnd.jupyter.widget-view+json": {
       "model_id": "45470ee6ab334827a74773ca858d1aa1",
       "version_major": 2,
       "version_minor": 0
      },
      "text/plain": [
       "  0%|          | 0/11 [00:00<?, ?it/s]"
      ]
     },
     "metadata": {},
     "output_type": "display_data"
    },
    {
     "name": "stdout",
     "output_type": "stream",
     "text": [
      "Epoch: 35 | Epoch Time: 0m 1s\n",
      "\n",
      "\tTrain Loss: 0.410 | Train Acc: 83.27%\n",
      "\tTrain - correct pos: 610/730 | correct neg: 614/730\n",
      "\n",
      "\tVal. Loss: 0.408 |  Val. Acc: 81.10%\n",
      "\tVal. - correct pos: 70/82 | correct neg: 63/82\n",
      "\n"
     ]
    },
    {
     "data": {
      "application/vnd.jupyter.widget-view+json": {
       "model_id": "0f7709ab562b4aca9d0d41113ffc4b6e",
       "version_major": 2,
       "version_minor": 0
      },
      "text/plain": [
       "  0%|          | 0/92 [00:00<?, ?it/s]"
      ]
     },
     "metadata": {},
     "output_type": "display_data"
    },
    {
     "data": {
      "application/vnd.jupyter.widget-view+json": {
       "model_id": "6ff7c8523d4244f7819c4e7866d1986c",
       "version_major": 2,
       "version_minor": 0
      },
      "text/plain": [
       "  0%|          | 0/11 [00:00<?, ?it/s]"
      ]
     },
     "metadata": {},
     "output_type": "display_data"
    },
    {
     "name": "stdout",
     "output_type": "stream",
     "text": [
      "Epoch: 36 | Epoch Time: 0m 1s\n",
      "\n",
      "\tTrain Loss: 0.509 | Train Acc: 78.50%\n",
      "\tTrain - correct pos: 502/730 | correct neg: 652/730\n",
      "\n",
      "\tVal. Loss: 1.051 |  Val. Acc: 84.76%\n",
      "\tVal. - correct pos: 73/82 | correct neg: 66/82\n",
      "\n"
     ]
    },
    {
     "data": {
      "application/vnd.jupyter.widget-view+json": {
       "model_id": "f77e5a3cc26b40a19b9887c459c5e26b",
       "version_major": 2,
       "version_minor": 0
      },
      "text/plain": [
       "  0%|          | 0/92 [00:00<?, ?it/s]"
      ]
     },
     "metadata": {},
     "output_type": "display_data"
    },
    {
     "data": {
      "application/vnd.jupyter.widget-view+json": {
       "model_id": "b6f3d3ab8982404cbf93aff6c22dd174",
       "version_major": 2,
       "version_minor": 0
      },
      "text/plain": [
       "  0%|          | 0/11 [00:00<?, ?it/s]"
      ]
     },
     "metadata": {},
     "output_type": "display_data"
    },
    {
     "name": "stdout",
     "output_type": "stream",
     "text": [
      "Epoch: 37 | Epoch Time: 0m 1s\n",
      "\n",
      "\tTrain Loss: 0.445 | Train Acc: 81.84%\n",
      "\tTrain - correct pos: 571/730 | correct neg: 632/730\n",
      "\n",
      "\tVal. Loss: 0.364 |  Val. Acc: 84.76%\n",
      "\tVal. - correct pos: 70/82 | correct neg: 69/82\n",
      "\n"
     ]
    },
    {
     "data": {
      "application/vnd.jupyter.widget-view+json": {
       "model_id": "39e71e3535584e87a6c78f26ad86ff41",
       "version_major": 2,
       "version_minor": 0
      },
      "text/plain": [
       "  0%|          | 0/92 [00:00<?, ?it/s]"
      ]
     },
     "metadata": {},
     "output_type": "display_data"
    },
    {
     "data": {
      "application/vnd.jupyter.widget-view+json": {
       "model_id": "9ec06e33d4c34d16849453ed69f52fd4",
       "version_major": 2,
       "version_minor": 0
      },
      "text/plain": [
       "  0%|          | 0/11 [00:00<?, ?it/s]"
      ]
     },
     "metadata": {},
     "output_type": "display_data"
    },
    {
     "name": "stdout",
     "output_type": "stream",
     "text": [
      "Epoch: 38 | Epoch Time: 0m 1s\n",
      "\n",
      "\tTrain Loss: 0.384 | Train Acc: 84.15%\n",
      "\tTrain - correct pos: 597/730 | correct neg: 640/730\n",
      "\n",
      "\tVal. Loss: 0.441 |  Val. Acc: 82.32%\n",
      "\tVal. - correct pos: 71/82 | correct neg: 64/82\n",
      "\n"
     ]
    },
    {
     "data": {
      "application/vnd.jupyter.widget-view+json": {
       "model_id": "a890890875a544149f38fd4ef2caf0b0",
       "version_major": 2,
       "version_minor": 0
      },
      "text/plain": [
       "  0%|          | 0/92 [00:00<?, ?it/s]"
      ]
     },
     "metadata": {},
     "output_type": "display_data"
    },
    {
     "data": {
      "application/vnd.jupyter.widget-view+json": {
       "model_id": "7f934a248c8f4ebdae89cbf80d421d00",
       "version_major": 2,
       "version_minor": 0
      },
      "text/plain": [
       "  0%|          | 0/11 [00:00<?, ?it/s]"
      ]
     },
     "metadata": {},
     "output_type": "display_data"
    },
    {
     "name": "stdout",
     "output_type": "stream",
     "text": [
      "Epoch: 39 | Epoch Time: 0m 1s\n",
      "\n",
      "\tTrain Loss: 0.436 | Train Acc: 81.63%\n",
      "\tTrain - correct pos: 593/730 | correct neg: 607/730\n",
      "\n",
      "\tVal. Loss: 0.305 |  Val. Acc: 88.41%\n",
      "\tVal. - correct pos: 71/82 | correct neg: 74/82\n",
      "\n"
     ]
    },
    {
     "data": {
      "application/vnd.jupyter.widget-view+json": {
       "model_id": "a93cec4200274d708e9ec7b5ea4887a9",
       "version_major": 2,
       "version_minor": 0
      },
      "text/plain": [
       "  0%|          | 0/92 [00:00<?, ?it/s]"
      ]
     },
     "metadata": {},
     "output_type": "display_data"
    },
    {
     "data": {
      "application/vnd.jupyter.widget-view+json": {
       "model_id": "69d7e5fefb8a43adba6f1f6a11e12741",
       "version_major": 2,
       "version_minor": 0
      },
      "text/plain": [
       "  0%|          | 0/11 [00:00<?, ?it/s]"
      ]
     },
     "metadata": {},
     "output_type": "display_data"
    },
    {
     "name": "stdout",
     "output_type": "stream",
     "text": [
      "Epoch: 40 | Epoch Time: 0m 1s\n",
      "\n",
      "\tTrain Loss: 0.437 | Train Acc: 82.18%\n",
      "\tTrain - correct pos: 550/730 | correct neg: 658/730\n",
      "\n",
      "\tVal. Loss: 0.316 |  Val. Acc: 86.59%\n",
      "\tVal. - correct pos: 70/82 | correct neg: 72/82\n",
      "\n"
     ]
    },
    {
     "data": {
      "application/vnd.jupyter.widget-view+json": {
       "model_id": "dae16c6367334036a66f9a1e4b694bd6",
       "version_major": 2,
       "version_minor": 0
      },
      "text/plain": [
       "  0%|          | 0/92 [00:00<?, ?it/s]"
      ]
     },
     "metadata": {},
     "output_type": "display_data"
    },
    {
     "data": {
      "application/vnd.jupyter.widget-view+json": {
       "model_id": "29ee18a1a9c547ee968d8a73e21c6d39",
       "version_major": 2,
       "version_minor": 0
      },
      "text/plain": [
       "  0%|          | 0/11 [00:00<?, ?it/s]"
      ]
     },
     "metadata": {},
     "output_type": "display_data"
    },
    {
     "name": "stdout",
     "output_type": "stream",
     "text": [
      "Epoch: 41 | Epoch Time: 0m 1s\n",
      "\n",
      "\tTrain Loss: 0.365 | Train Acc: 85.65%\n",
      "\tTrain - correct pos: 606/730 | correct neg: 653/730\n",
      "\n",
      "\tVal. Loss: 0.290 |  Val. Acc: 90.24%\n",
      "\tVal. - correct pos: 73/82 | correct neg: 75/82\n",
      "\n"
     ]
    },
    {
     "data": {
      "application/vnd.jupyter.widget-view+json": {
       "model_id": "fe0192b8a37a4b9a8df5f420e0adec65",
       "version_major": 2,
       "version_minor": 0
      },
      "text/plain": [
       "  0%|          | 0/92 [00:00<?, ?it/s]"
      ]
     },
     "metadata": {},
     "output_type": "display_data"
    },
    {
     "data": {
      "application/vnd.jupyter.widget-view+json": {
       "model_id": "9411a997ff924bd98e7751cdc39f07f3",
       "version_major": 2,
       "version_minor": 0
      },
      "text/plain": [
       "  0%|          | 0/11 [00:00<?, ?it/s]"
      ]
     },
     "metadata": {},
     "output_type": "display_data"
    },
    {
     "name": "stdout",
     "output_type": "stream",
     "text": [
      "Epoch: 42 | Epoch Time: 0m 1s\n",
      "\n",
      "\tTrain Loss: 0.375 | Train Acc: 84.69%\n",
      "\tTrain - correct pos: 622/730 | correct neg: 623/730\n",
      "\n",
      "\tVal. Loss: 0.367 |  Val. Acc: 85.37%\n",
      "\tVal. - correct pos: 69/82 | correct neg: 71/82\n",
      "\n"
     ]
    },
    {
     "data": {
      "application/vnd.jupyter.widget-view+json": {
       "model_id": "e089e6e25e4f44e68353fbfe75dc1f50",
       "version_major": 2,
       "version_minor": 0
      },
      "text/plain": [
       "  0%|          | 0/92 [00:00<?, ?it/s]"
      ]
     },
     "metadata": {},
     "output_type": "display_data"
    },
    {
     "data": {
      "application/vnd.jupyter.widget-view+json": {
       "model_id": "3bdb5a48769847b4b43d9a5b1c56a251",
       "version_major": 2,
       "version_minor": 0
      },
      "text/plain": [
       "  0%|          | 0/11 [00:00<?, ?it/s]"
      ]
     },
     "metadata": {},
     "output_type": "display_data"
    },
    {
     "name": "stdout",
     "output_type": "stream",
     "text": [
      "Epoch: 43 | Epoch Time: 0m 1s\n",
      "\n",
      "\tTrain Loss: 0.356 | Train Acc: 86.12%\n",
      "\tTrain - correct pos: 612/730 | correct neg: 654/730\n",
      "\n",
      "\tVal. Loss: 0.304 |  Val. Acc: 88.41%\n",
      "\tVal. - correct pos: 70/82 | correct neg: 75/82\n",
      "\n"
     ]
    },
    {
     "data": {
      "application/vnd.jupyter.widget-view+json": {
       "model_id": "93a4ca42f07a4216abe96a5a70d0df7e",
       "version_major": 2,
       "version_minor": 0
      },
      "text/plain": [
       "  0%|          | 0/92 [00:00<?, ?it/s]"
      ]
     },
     "metadata": {},
     "output_type": "display_data"
    },
    {
     "data": {
      "application/vnd.jupyter.widget-view+json": {
       "model_id": "bd754325799f43d89bc09ec2415df7ec",
       "version_major": 2,
       "version_minor": 0
      },
      "text/plain": [
       "  0%|          | 0/11 [00:00<?, ?it/s]"
      ]
     },
     "metadata": {},
     "output_type": "display_data"
    },
    {
     "name": "stdout",
     "output_type": "stream",
     "text": [
      "Epoch: 44 | Epoch Time: 0m 1s\n",
      "\n",
      "\tTrain Loss: 0.404 | Train Acc: 83.27%\n",
      "\tTrain - correct pos: 565/730 | correct neg: 659/730\n",
      "\n",
      "\tVal. Loss: 0.356 |  Val. Acc: 85.37%\n",
      "\tVal. - correct pos: 69/82 | correct neg: 71/82\n",
      "\n"
     ]
    },
    {
     "data": {
      "application/vnd.jupyter.widget-view+json": {
       "model_id": "bfcb848c2085450187c5c84fba5f98b0",
       "version_major": 2,
       "version_minor": 0
      },
      "text/plain": [
       "  0%|          | 0/92 [00:00<?, ?it/s]"
      ]
     },
     "metadata": {},
     "output_type": "display_data"
    },
    {
     "data": {
      "application/vnd.jupyter.widget-view+json": {
       "model_id": "05295db73bbb40aea29c4ad6d1416cf6",
       "version_major": 2,
       "version_minor": 0
      },
      "text/plain": [
       "  0%|          | 0/11 [00:00<?, ?it/s]"
      ]
     },
     "metadata": {},
     "output_type": "display_data"
    },
    {
     "name": "stdout",
     "output_type": "stream",
     "text": [
      "Epoch: 45 | Epoch Time: 0m 1s\n",
      "\n",
      "\tTrain Loss: 0.362 | Train Acc: 85.58%\n",
      "\tTrain - correct pos: 608/730 | correct neg: 650/730\n",
      "\n",
      "\tVal. Loss: 0.347 |  Val. Acc: 85.37%\n",
      "\tVal. - correct pos: 66/82 | correct neg: 74/82\n",
      "\n"
     ]
    },
    {
     "data": {
      "application/vnd.jupyter.widget-view+json": {
       "model_id": "814c253e064d4cb38a4d78b77223499a",
       "version_major": 2,
       "version_minor": 0
      },
      "text/plain": [
       "  0%|          | 0/92 [00:00<?, ?it/s]"
      ]
     },
     "metadata": {},
     "output_type": "display_data"
    },
    {
     "data": {
      "application/vnd.jupyter.widget-view+json": {
       "model_id": "8a62f486a4964766b8154428b6478dcd",
       "version_major": 2,
       "version_minor": 0
      },
      "text/plain": [
       "  0%|          | 0/11 [00:00<?, ?it/s]"
      ]
     },
     "metadata": {},
     "output_type": "display_data"
    },
    {
     "name": "stdout",
     "output_type": "stream",
     "text": [
      "Epoch: 46 | Epoch Time: 0m 1s\n",
      "\n",
      "\tTrain Loss: 0.335 | Train Acc: 86.73%\n",
      "\tTrain - correct pos: 614/730 | correct neg: 661/730\n",
      "\n",
      "\tVal. Loss: 0.344 |  Val. Acc: 85.37%\n",
      "\tVal. - correct pos: 70/82 | correct neg: 70/82\n",
      "\n"
     ]
    },
    {
     "data": {
      "application/vnd.jupyter.widget-view+json": {
       "model_id": "71e1958238ab474197b7891aabd8bc83",
       "version_major": 2,
       "version_minor": 0
      },
      "text/plain": [
       "  0%|          | 0/92 [00:00<?, ?it/s]"
      ]
     },
     "metadata": {},
     "output_type": "display_data"
    },
    {
     "data": {
      "application/vnd.jupyter.widget-view+json": {
       "model_id": "9ae639520b154d7194accf4d2de69ee7",
       "version_major": 2,
       "version_minor": 0
      },
      "text/plain": [
       "  0%|          | 0/11 [00:00<?, ?it/s]"
      ]
     },
     "metadata": {},
     "output_type": "display_data"
    },
    {
     "name": "stdout",
     "output_type": "stream",
     "text": [
      "Epoch: 47 | Epoch Time: 0m 1s\n",
      "\n",
      "\tTrain Loss: 0.345 | Train Acc: 86.33%\n",
      "\tTrain - correct pos: 620/730 | correct neg: 649/730\n",
      "\n",
      "\tVal. Loss: 0.315 |  Val. Acc: 87.20%\n",
      "\tVal. - correct pos: 69/82 | correct neg: 74/82\n",
      "\n"
     ]
    },
    {
     "data": {
      "application/vnd.jupyter.widget-view+json": {
       "model_id": "c38a0a76e99843e581cabf0ad91901f0",
       "version_major": 2,
       "version_minor": 0
      },
      "text/plain": [
       "  0%|          | 0/92 [00:00<?, ?it/s]"
      ]
     },
     "metadata": {},
     "output_type": "display_data"
    },
    {
     "data": {
      "application/vnd.jupyter.widget-view+json": {
       "model_id": "821cb983def242168ea7177b3534e4f8",
       "version_major": 2,
       "version_minor": 0
      },
      "text/plain": [
       "  0%|          | 0/11 [00:00<?, ?it/s]"
      ]
     },
     "metadata": {},
     "output_type": "display_data"
    },
    {
     "name": "stdout",
     "output_type": "stream",
     "text": [
      "Epoch: 48 | Epoch Time: 0m 1s\n",
      "\n",
      "\tTrain Loss: 0.302 | Train Acc: 87.07%\n",
      "\tTrain - correct pos: 613/730 | correct neg: 667/730\n",
      "\n",
      "\tVal. Loss: 0.312 |  Val. Acc: 85.98%\n",
      "\tVal. - correct pos: 71/82 | correct neg: 70/82\n",
      "\n"
     ]
    },
    {
     "data": {
      "application/vnd.jupyter.widget-view+json": {
       "model_id": "55516f7916c842feb31b2d6d53b2110b",
       "version_major": 2,
       "version_minor": 0
      },
      "text/plain": [
       "  0%|          | 0/92 [00:00<?, ?it/s]"
      ]
     },
     "metadata": {},
     "output_type": "display_data"
    },
    {
     "data": {
      "application/vnd.jupyter.widget-view+json": {
       "model_id": "73cb39c733bb4a5aab6fdb4eced8571b",
       "version_major": 2,
       "version_minor": 0
      },
      "text/plain": [
       "  0%|          | 0/11 [00:00<?, ?it/s]"
      ]
     },
     "metadata": {},
     "output_type": "display_data"
    },
    {
     "name": "stdout",
     "output_type": "stream",
     "text": [
      "Epoch: 49 | Epoch Time: 0m 1s\n",
      "\n",
      "\tTrain Loss: 0.298 | Train Acc: 88.57%\n",
      "\tTrain - correct pos: 636/730 | correct neg: 666/730\n",
      "\n",
      "\tVal. Loss: 0.305 |  Val. Acc: 87.20%\n",
      "\tVal. - correct pos: 68/82 | correct neg: 75/82\n",
      "\n"
     ]
    },
    {
     "data": {
      "application/vnd.jupyter.widget-view+json": {
       "model_id": "bf6d42a7a8fa455f9ad9388115161fb5",
       "version_major": 2,
       "version_minor": 0
      },
      "text/plain": [
       "  0%|          | 0/92 [00:00<?, ?it/s]"
      ]
     },
     "metadata": {},
     "output_type": "display_data"
    },
    {
     "data": {
      "application/vnd.jupyter.widget-view+json": {
       "model_id": "fcbd269271bd4ad79284910dc8a81bae",
       "version_major": 2,
       "version_minor": 0
      },
      "text/plain": [
       "  0%|          | 0/11 [00:00<?, ?it/s]"
      ]
     },
     "metadata": {},
     "output_type": "display_data"
    },
    {
     "name": "stdout",
     "output_type": "stream",
     "text": [
      "Epoch: 50 | Epoch Time: 0m 1s\n",
      "\n",
      "\tTrain Loss: 0.305 | Train Acc: 88.10%\n",
      "\tTrain - correct pos: 631/730 | correct neg: 664/730\n",
      "\n",
      "\tVal. Loss: 0.323 |  Val. Acc: 87.80%\n",
      "\tVal. - correct pos: 67/82 | correct neg: 77/82\n",
      "\n"
     ]
    },
    {
     "data": {
      "application/vnd.jupyter.widget-view+json": {
       "model_id": "566ee57b083441f4ae192b76577a4bc4",
       "version_major": 2,
       "version_minor": 0
      },
      "text/plain": [
       "  0%|          | 0/92 [00:00<?, ?it/s]"
      ]
     },
     "metadata": {},
     "output_type": "display_data"
    },
    {
     "data": {
      "application/vnd.jupyter.widget-view+json": {
       "model_id": "da2e1c2a9e304a17917d8f725e21c825",
       "version_major": 2,
       "version_minor": 0
      },
      "text/plain": [
       "  0%|          | 0/11 [00:00<?, ?it/s]"
      ]
     },
     "metadata": {},
     "output_type": "display_data"
    },
    {
     "name": "stdout",
     "output_type": "stream",
     "text": [
      "Epoch: 51 | Epoch Time: 0m 1s\n",
      "\n",
      "\tTrain Loss: 0.403 | Train Acc: 85.17%\n",
      "\tTrain - correct pos: 584/730 | correct neg: 668/730\n",
      "\n",
      "\tVal. Loss: 0.346 |  Val. Acc: 84.76%\n",
      "\tVal. - correct pos: 70/82 | correct neg: 69/82\n",
      "\n"
     ]
    },
    {
     "data": {
      "application/vnd.jupyter.widget-view+json": {
       "model_id": "ba0de0ad81cc44939a2e5e7af854607d",
       "version_major": 2,
       "version_minor": 0
      },
      "text/plain": [
       "  0%|          | 0/92 [00:00<?, ?it/s]"
      ]
     },
     "metadata": {},
     "output_type": "display_data"
    },
    {
     "data": {
      "application/vnd.jupyter.widget-view+json": {
       "model_id": "e4d74808c07e434b92243dcfa7accdce",
       "version_major": 2,
       "version_minor": 0
      },
      "text/plain": [
       "  0%|          | 0/11 [00:00<?, ?it/s]"
      ]
     },
     "metadata": {},
     "output_type": "display_data"
    },
    {
     "name": "stdout",
     "output_type": "stream",
     "text": [
      "Epoch: 52 | Epoch Time: 0m 1s\n",
      "\n",
      "\tTrain Loss: 0.346 | Train Acc: 86.67%\n",
      "\tTrain - correct pos: 606/730 | correct neg: 668/730\n",
      "\n",
      "\tVal. Loss: 0.335 |  Val. Acc: 84.76%\n",
      "\tVal. - correct pos: 62/82 | correct neg: 77/82\n",
      "\n"
     ]
    },
    {
     "data": {
      "application/vnd.jupyter.widget-view+json": {
       "model_id": "d0406f787a104f80bae6ef97d69cb0d9",
       "version_major": 2,
       "version_minor": 0
      },
      "text/plain": [
       "  0%|          | 0/92 [00:00<?, ?it/s]"
      ]
     },
     "metadata": {},
     "output_type": "display_data"
    },
    {
     "data": {
      "application/vnd.jupyter.widget-view+json": {
       "model_id": "67fded0c2d8a475e9bfd9fd3d3f1919a",
       "version_major": 2,
       "version_minor": 0
      },
      "text/plain": [
       "  0%|          | 0/11 [00:00<?, ?it/s]"
      ]
     },
     "metadata": {},
     "output_type": "display_data"
    },
    {
     "name": "stdout",
     "output_type": "stream",
     "text": [
      "Epoch: 53 | Epoch Time: 0m 1s\n",
      "\n",
      "\tTrain Loss: 0.322 | Train Acc: 87.62%\n",
      "\tTrain - correct pos: 633/730 | correct neg: 655/730\n",
      "\n",
      "\tVal. Loss: 0.399 |  Val. Acc: 80.49%\n",
      "\tVal. - correct pos: 77/82 | correct neg: 55/82\n",
      "\n"
     ]
    },
    {
     "data": {
      "application/vnd.jupyter.widget-view+json": {
       "model_id": "19a71e2db8264d02b4439ca8f6ce90ea",
       "version_major": 2,
       "version_minor": 0
      },
      "text/plain": [
       "  0%|          | 0/92 [00:00<?, ?it/s]"
      ]
     },
     "metadata": {},
     "output_type": "display_data"
    },
    {
     "data": {
      "application/vnd.jupyter.widget-view+json": {
       "model_id": "8d9f26258c5d434b89bffa76d78b8a6f",
       "version_major": 2,
       "version_minor": 0
      },
      "text/plain": [
       "  0%|          | 0/11 [00:00<?, ?it/s]"
      ]
     },
     "metadata": {},
     "output_type": "display_data"
    },
    {
     "name": "stdout",
     "output_type": "stream",
     "text": [
      "Epoch: 54 | Epoch Time: 0m 1s\n",
      "\n",
      "\tTrain Loss: 0.316 | Train Acc: 87.96%\n",
      "\tTrain - correct pos: 630/730 | correct neg: 663/730\n",
      "\n",
      "\tVal. Loss: 0.236 |  Val. Acc: 90.24%\n",
      "\tVal. - correct pos: 73/82 | correct neg: 75/82\n",
      "\n"
     ]
    },
    {
     "data": {
      "application/vnd.jupyter.widget-view+json": {
       "model_id": "56cdcce5750141c1910a2d2c0f32ff1c",
       "version_major": 2,
       "version_minor": 0
      },
      "text/plain": [
       "  0%|          | 0/92 [00:00<?, ?it/s]"
      ]
     },
     "metadata": {},
     "output_type": "display_data"
    },
    {
     "data": {
      "application/vnd.jupyter.widget-view+json": {
       "model_id": "6535e36c72824165aa533f3aacb3b30b",
       "version_major": 2,
       "version_minor": 0
      },
      "text/plain": [
       "  0%|          | 0/11 [00:00<?, ?it/s]"
      ]
     },
     "metadata": {},
     "output_type": "display_data"
    },
    {
     "name": "stdout",
     "output_type": "stream",
     "text": [
      "Epoch: 55 | Epoch Time: 0m 1s\n",
      "\n",
      "\tTrain Loss: 0.299 | Train Acc: 88.98%\n",
      "\tTrain - correct pos: 631/730 | correct neg: 677/730\n",
      "\n",
      "\tVal. Loss: 0.248 |  Val. Acc: 90.85%\n",
      "\tVal. - correct pos: 71/82 | correct neg: 78/82\n",
      "\n"
     ]
    },
    {
     "data": {
      "application/vnd.jupyter.widget-view+json": {
       "model_id": "ab71a3f2d90c45cbb1e7d9d2ac2f48f1",
       "version_major": 2,
       "version_minor": 0
      },
      "text/plain": [
       "  0%|          | 0/92 [00:00<?, ?it/s]"
      ]
     },
     "metadata": {},
     "output_type": "display_data"
    },
    {
     "data": {
      "application/vnd.jupyter.widget-view+json": {
       "model_id": "a78c731ee09a4124861d51a1933186c6",
       "version_major": 2,
       "version_minor": 0
      },
      "text/plain": [
       "  0%|          | 0/11 [00:00<?, ?it/s]"
      ]
     },
     "metadata": {},
     "output_type": "display_data"
    },
    {
     "name": "stdout",
     "output_type": "stream",
     "text": [
      "Epoch: 56 | Epoch Time: 0m 1s\n",
      "\n",
      "\tTrain Loss: 0.334 | Train Acc: 86.26%\n",
      "\tTrain - correct pos: 612/730 | correct neg: 656/730\n",
      "\n",
      "\tVal. Loss: 0.337 |  Val. Acc: 89.63%\n",
      "\tVal. - correct pos: 73/82 | correct neg: 74/82\n",
      "\n"
     ]
    },
    {
     "data": {
      "application/vnd.jupyter.widget-view+json": {
       "model_id": "841ed176a67641ce8ed647fe93148b07",
       "version_major": 2,
       "version_minor": 0
      },
      "text/plain": [
       "  0%|          | 0/92 [00:00<?, ?it/s]"
      ]
     },
     "metadata": {},
     "output_type": "display_data"
    },
    {
     "data": {
      "application/vnd.jupyter.widget-view+json": {
       "model_id": "f4f5aeebefe14b188b232485965f3de1",
       "version_major": 2,
       "version_minor": 0
      },
      "text/plain": [
       "  0%|          | 0/11 [00:00<?, ?it/s]"
      ]
     },
     "metadata": {},
     "output_type": "display_data"
    },
    {
     "name": "stdout",
     "output_type": "stream",
     "text": [
      "Epoch: 57 | Epoch Time: 0m 1s\n",
      "\n",
      "\tTrain Loss: 0.315 | Train Acc: 88.57%\n",
      "\tTrain - correct pos: 623/730 | correct neg: 679/730\n",
      "\n",
      "\tVal. Loss: 0.500 |  Val. Acc: 83.54%\n",
      "\tVal. - correct pos: 65/82 | correct neg: 72/82\n",
      "\n"
     ]
    },
    {
     "data": {
      "application/vnd.jupyter.widget-view+json": {
       "model_id": "19379c83fd344c5b8e462f08a2f17013",
       "version_major": 2,
       "version_minor": 0
      },
      "text/plain": [
       "  0%|          | 0/92 [00:00<?, ?it/s]"
      ]
     },
     "metadata": {},
     "output_type": "display_data"
    },
    {
     "data": {
      "application/vnd.jupyter.widget-view+json": {
       "model_id": "9730e70cb99741c09aaa854a291f6c7c",
       "version_major": 2,
       "version_minor": 0
      },
      "text/plain": [
       "  0%|          | 0/11 [00:00<?, ?it/s]"
      ]
     },
     "metadata": {},
     "output_type": "display_data"
    },
    {
     "name": "stdout",
     "output_type": "stream",
     "text": [
      "Epoch: 58 | Epoch Time: 0m 1s\n",
      "\n",
      "\tTrain Loss: 0.566 | Train Acc: 76.53%\n",
      "\tTrain - correct pos: 491/730 | correct neg: 634/730\n",
      "\n",
      "\tVal. Loss: 0.440 |  Val. Acc: 82.93%\n",
      "\tVal. - correct pos: 70/82 | correct neg: 66/82\n",
      "\n"
     ]
    },
    {
     "data": {
      "application/vnd.jupyter.widget-view+json": {
       "model_id": "7c74f6adf88544b0bd7ed528c56a2510",
       "version_major": 2,
       "version_minor": 0
      },
      "text/plain": [
       "  0%|          | 0/92 [00:00<?, ?it/s]"
      ]
     },
     "metadata": {},
     "output_type": "display_data"
    },
    {
     "data": {
      "application/vnd.jupyter.widget-view+json": {
       "model_id": "d5cde54becb14e189106e725e48a81f0",
       "version_major": 2,
       "version_minor": 0
      },
      "text/plain": [
       "  0%|          | 0/11 [00:00<?, ?it/s]"
      ]
     },
     "metadata": {},
     "output_type": "display_data"
    },
    {
     "name": "stdout",
     "output_type": "stream",
     "text": [
      "Epoch: 59 | Epoch Time: 0m 1s\n",
      "\n",
      "\tTrain Loss: 0.415 | Train Acc: 84.22%\n",
      "\tTrain - correct pos: 582/730 | correct neg: 656/730\n",
      "\n",
      "\tVal. Loss: 0.282 |  Val. Acc: 89.63%\n",
      "\tVal. - correct pos: 71/82 | correct neg: 76/82\n",
      "\n"
     ]
    },
    {
     "data": {
      "application/vnd.jupyter.widget-view+json": {
       "model_id": "8a3a238884d946108d4cffc06bec29be",
       "version_major": 2,
       "version_minor": 0
      },
      "text/plain": [
       "  0%|          | 0/92 [00:00<?, ?it/s]"
      ]
     },
     "metadata": {},
     "output_type": "display_data"
    },
    {
     "data": {
      "application/vnd.jupyter.widget-view+json": {
       "model_id": "78c9239e1acf4c2fba9bd63b12b15b84",
       "version_major": 2,
       "version_minor": 0
      },
      "text/plain": [
       "  0%|          | 0/11 [00:00<?, ?it/s]"
      ]
     },
     "metadata": {},
     "output_type": "display_data"
    },
    {
     "name": "stdout",
     "output_type": "stream",
     "text": [
      "Epoch: 60 | Epoch Time: 0m 1s\n",
      "\n",
      "\tTrain Loss: 0.417 | Train Acc: 84.56%\n",
      "\tTrain - correct pos: 586/730 | correct neg: 657/730\n",
      "\n",
      "\tVal. Loss: 0.291 |  Val. Acc: 87.20%\n",
      "\tVal. - correct pos: 68/82 | correct neg: 75/82\n",
      "\n"
     ]
    },
    {
     "data": {
      "application/vnd.jupyter.widget-view+json": {
       "model_id": "3fcc593547154438ad417cb9371d4ba5",
       "version_major": 2,
       "version_minor": 0
      },
      "text/plain": [
       "  0%|          | 0/92 [00:00<?, ?it/s]"
      ]
     },
     "metadata": {},
     "output_type": "display_data"
    },
    {
     "data": {
      "application/vnd.jupyter.widget-view+json": {
       "model_id": "42798d58166e4045a8001082fef56b86",
       "version_major": 2,
       "version_minor": 0
      },
      "text/plain": [
       "  0%|          | 0/11 [00:00<?, ?it/s]"
      ]
     },
     "metadata": {},
     "output_type": "display_data"
    },
    {
     "name": "stdout",
     "output_type": "stream",
     "text": [
      "Epoch: 61 | Epoch Time: 0m 1s\n",
      "\n",
      "\tTrain Loss: 0.307 | Train Acc: 88.57%\n",
      "\tTrain - correct pos: 626/730 | correct neg: 676/730\n",
      "\n",
      "\tVal. Loss: 0.305 |  Val. Acc: 87.20%\n",
      "\tVal. - correct pos: 68/82 | correct neg: 75/82\n",
      "\n"
     ]
    },
    {
     "data": {
      "application/vnd.jupyter.widget-view+json": {
       "model_id": "bc97ec6119fe4d1f9d394b010b129c71",
       "version_major": 2,
       "version_minor": 0
      },
      "text/plain": [
       "  0%|          | 0/92 [00:00<?, ?it/s]"
      ]
     },
     "metadata": {},
     "output_type": "display_data"
    },
    {
     "data": {
      "application/vnd.jupyter.widget-view+json": {
       "model_id": "eda5d3e18e034feab4b0f0d3be928974",
       "version_major": 2,
       "version_minor": 0
      },
      "text/plain": [
       "  0%|          | 0/11 [00:00<?, ?it/s]"
      ]
     },
     "metadata": {},
     "output_type": "display_data"
    },
    {
     "name": "stdout",
     "output_type": "stream",
     "text": [
      "Epoch: 62 | Epoch Time: 0m 1s\n",
      "\n",
      "\tTrain Loss: 0.318 | Train Acc: 87.21%\n",
      "\tTrain - correct pos: 621/730 | correct neg: 661/730\n",
      "\n",
      "\tVal. Loss: 0.297 |  Val. Acc: 88.41%\n",
      "\tVal. - correct pos: 66/82 | correct neg: 79/82\n",
      "\n"
     ]
    },
    {
     "data": {
      "application/vnd.jupyter.widget-view+json": {
       "model_id": "3825f2f5e21a4dfda4c87e558325625d",
       "version_major": 2,
       "version_minor": 0
      },
      "text/plain": [
       "  0%|          | 0/92 [00:00<?, ?it/s]"
      ]
     },
     "metadata": {},
     "output_type": "display_data"
    },
    {
     "data": {
      "application/vnd.jupyter.widget-view+json": {
       "model_id": "ccd8a8672b934cf68a0c55005603e38b",
       "version_major": 2,
       "version_minor": 0
      },
      "text/plain": [
       "  0%|          | 0/11 [00:00<?, ?it/s]"
      ]
     },
     "metadata": {},
     "output_type": "display_data"
    },
    {
     "name": "stdout",
     "output_type": "stream",
     "text": [
      "Epoch: 63 | Epoch Time: 0m 1s\n",
      "\n",
      "\tTrain Loss: 0.362 | Train Acc: 85.31%\n",
      "\tTrain - correct pos: 608/730 | correct neg: 646/730\n",
      "\n",
      "\tVal. Loss: 0.284 |  Val. Acc: 87.80%\n",
      "\tVal. - correct pos: 76/82 | correct neg: 68/82\n",
      "\n"
     ]
    },
    {
     "data": {
      "application/vnd.jupyter.widget-view+json": {
       "model_id": "2aa5e5316e4840078c44f51c7eef9f17",
       "version_major": 2,
       "version_minor": 0
      },
      "text/plain": [
       "  0%|          | 0/92 [00:00<?, ?it/s]"
      ]
     },
     "metadata": {},
     "output_type": "display_data"
    },
    {
     "data": {
      "application/vnd.jupyter.widget-view+json": {
       "model_id": "d4d6f0f79403497aabb3b9887164eedb",
       "version_major": 2,
       "version_minor": 0
      },
      "text/plain": [
       "  0%|          | 0/11 [00:00<?, ?it/s]"
      ]
     },
     "metadata": {},
     "output_type": "display_data"
    },
    {
     "name": "stdout",
     "output_type": "stream",
     "text": [
      "Epoch: 64 | Epoch Time: 0m 1s\n",
      "\n",
      "\tTrain Loss: 0.404 | Train Acc: 85.99%\n",
      "\tTrain - correct pos: 601/730 | correct neg: 663/730\n",
      "\n",
      "\tVal. Loss: 0.242 |  Val. Acc: 90.24%\n",
      "\tVal. - correct pos: 74/82 | correct neg: 74/82\n",
      "\n"
     ]
    },
    {
     "data": {
      "application/vnd.jupyter.widget-view+json": {
       "model_id": "e69c02275d44483aa7af87ae41319714",
       "version_major": 2,
       "version_minor": 0
      },
      "text/plain": [
       "  0%|          | 0/92 [00:00<?, ?it/s]"
      ]
     },
     "metadata": {},
     "output_type": "display_data"
    },
    {
     "data": {
      "application/vnd.jupyter.widget-view+json": {
       "model_id": "e117d5e913884fa19cb7e0d10e88e8a0",
       "version_major": 2,
       "version_minor": 0
      },
      "text/plain": [
       "  0%|          | 0/11 [00:00<?, ?it/s]"
      ]
     },
     "metadata": {},
     "output_type": "display_data"
    },
    {
     "name": "stdout",
     "output_type": "stream",
     "text": [
      "Epoch: 65 | Epoch Time: 0m 1s\n",
      "\n",
      "\tTrain Loss: 0.337 | Train Acc: 87.89%\n",
      "\tTrain - correct pos: 614/730 | correct neg: 678/730\n",
      "\n",
      "\tVal. Loss: 0.282 |  Val. Acc: 87.80%\n",
      "\tVal. - correct pos: 69/82 | correct neg: 75/82\n",
      "\n"
     ]
    },
    {
     "data": {
      "application/vnd.jupyter.widget-view+json": {
       "model_id": "90b2872d35fe4d398e44d113e3549c4b",
       "version_major": 2,
       "version_minor": 0
      },
      "text/plain": [
       "  0%|          | 0/92 [00:00<?, ?it/s]"
      ]
     },
     "metadata": {},
     "output_type": "display_data"
    },
    {
     "data": {
      "application/vnd.jupyter.widget-view+json": {
       "model_id": "67741539a51040ecbf34a7ba08e81838",
       "version_major": 2,
       "version_minor": 0
      },
      "text/plain": [
       "  0%|          | 0/11 [00:00<?, ?it/s]"
      ]
     },
     "metadata": {},
     "output_type": "display_data"
    },
    {
     "name": "stdout",
     "output_type": "stream",
     "text": [
      "Epoch: 66 | Epoch Time: 0m 1s\n",
      "\n",
      "\tTrain Loss: 0.308 | Train Acc: 88.57%\n",
      "\tTrain - correct pos: 633/730 | correct neg: 669/730\n",
      "\n",
      "\tVal. Loss: 0.279 |  Val. Acc: 89.02%\n",
      "\tVal. - correct pos: 73/82 | correct neg: 73/82\n",
      "\n"
     ]
    },
    {
     "data": {
      "application/vnd.jupyter.widget-view+json": {
       "model_id": "61b3a7fa42bd4aa78bc4fe5c04888eff",
       "version_major": 2,
       "version_minor": 0
      },
      "text/plain": [
       "  0%|          | 0/92 [00:00<?, ?it/s]"
      ]
     },
     "metadata": {},
     "output_type": "display_data"
    },
    {
     "data": {
      "application/vnd.jupyter.widget-view+json": {
       "model_id": "d6fb087674494f9a87f116014daadb0b",
       "version_major": 2,
       "version_minor": 0
      },
      "text/plain": [
       "  0%|          | 0/11 [00:00<?, ?it/s]"
      ]
     },
     "metadata": {},
     "output_type": "display_data"
    },
    {
     "name": "stdout",
     "output_type": "stream",
     "text": [
      "Epoch: 67 | Epoch Time: 0m 1s\n",
      "\n",
      "\tTrain Loss: 0.328 | Train Acc: 87.55%\n",
      "\tTrain - correct pos: 627/730 | correct neg: 660/730\n",
      "\n",
      "\tVal. Loss: 0.324 |  Val. Acc: 85.98%\n",
      "\tVal. - correct pos: 66/82 | correct neg: 75/82\n",
      "\n"
     ]
    },
    {
     "data": {
      "application/vnd.jupyter.widget-view+json": {
       "model_id": "83d22d716b2a471cbe5f1ca9b790a63c",
       "version_major": 2,
       "version_minor": 0
      },
      "text/plain": [
       "  0%|          | 0/92 [00:00<?, ?it/s]"
      ]
     },
     "metadata": {},
     "output_type": "display_data"
    },
    {
     "data": {
      "application/vnd.jupyter.widget-view+json": {
       "model_id": "6d0ad77b147149daa79985c35ea12d16",
       "version_major": 2,
       "version_minor": 0
      },
      "text/plain": [
       "  0%|          | 0/11 [00:00<?, ?it/s]"
      ]
     },
     "metadata": {},
     "output_type": "display_data"
    },
    {
     "name": "stdout",
     "output_type": "stream",
     "text": [
      "Epoch: 68 | Epoch Time: 0m 1s\n",
      "\n",
      "\tTrain Loss: 0.316 | Train Acc: 87.35%\n",
      "\tTrain - correct pos: 614/730 | correct neg: 670/730\n",
      "\n",
      "\tVal. Loss: 0.244 |  Val. Acc: 92.07%\n",
      "\tVal. - correct pos: 74/82 | correct neg: 77/82\n",
      "\n"
     ]
    },
    {
     "data": {
      "application/vnd.jupyter.widget-view+json": {
       "model_id": "636a333705c74e22acd19f3cd967f448",
       "version_major": 2,
       "version_minor": 0
      },
      "text/plain": [
       "  0%|          | 0/92 [00:00<?, ?it/s]"
      ]
     },
     "metadata": {},
     "output_type": "display_data"
    },
    {
     "data": {
      "application/vnd.jupyter.widget-view+json": {
       "model_id": "fb2a9d99097a4a90b99121f1e3e76f14",
       "version_major": 2,
       "version_minor": 0
      },
      "text/plain": [
       "  0%|          | 0/11 [00:00<?, ?it/s]"
      ]
     },
     "metadata": {},
     "output_type": "display_data"
    },
    {
     "name": "stdout",
     "output_type": "stream",
     "text": [
      "Epoch: 69 | Epoch Time: 0m 1s\n",
      "\n",
      "\tTrain Loss: 0.264 | Train Acc: 90.88%\n",
      "\tTrain - correct pos: 648/730 | correct neg: 688/730\n",
      "\n",
      "\tVal. Loss: 0.251 |  Val. Acc: 90.85%\n",
      "\tVal. - correct pos: 72/82 | correct neg: 77/82\n",
      "\n"
     ]
    },
    {
     "data": {
      "application/vnd.jupyter.widget-view+json": {
       "model_id": "b7c08fe0274a414eb6bca27f6ecca411",
       "version_major": 2,
       "version_minor": 0
      },
      "text/plain": [
       "  0%|          | 0/92 [00:00<?, ?it/s]"
      ]
     },
     "metadata": {},
     "output_type": "display_data"
    },
    {
     "data": {
      "application/vnd.jupyter.widget-view+json": {
       "model_id": "9eea33d7fdb34b94bb3ef8adeb654571",
       "version_major": 2,
       "version_minor": 0
      },
      "text/plain": [
       "  0%|          | 0/11 [00:00<?, ?it/s]"
      ]
     },
     "metadata": {},
     "output_type": "display_data"
    },
    {
     "name": "stdout",
     "output_type": "stream",
     "text": [
      "Epoch: 70 | Epoch Time: 0m 1s\n",
      "\n",
      "\tTrain Loss: 0.245 | Train Acc: 90.68%\n",
      "\tTrain - correct pos: 643/730 | correct neg: 690/730\n",
      "\n",
      "\tVal. Loss: 0.229 |  Val. Acc: 91.46%\n",
      "\tVal. - correct pos: 71/82 | correct neg: 79/82\n",
      "\n"
     ]
    },
    {
     "data": {
      "application/vnd.jupyter.widget-view+json": {
       "model_id": "fe190e26a7cd40698f25b60038895d58",
       "version_major": 2,
       "version_minor": 0
      },
      "text/plain": [
       "  0%|          | 0/92 [00:00<?, ?it/s]"
      ]
     },
     "metadata": {},
     "output_type": "display_data"
    },
    {
     "data": {
      "application/vnd.jupyter.widget-view+json": {
       "model_id": "5376f18e85dc481185421c3f8a4b1a55",
       "version_major": 2,
       "version_minor": 0
      },
      "text/plain": [
       "  0%|          | 0/11 [00:00<?, ?it/s]"
      ]
     },
     "metadata": {},
     "output_type": "display_data"
    },
    {
     "name": "stdout",
     "output_type": "stream",
     "text": [
      "Epoch: 71 | Epoch Time: 0m 1s\n",
      "\n",
      "\tTrain Loss: 0.237 | Train Acc: 90.88%\n",
      "\tTrain - correct pos: 644/730 | correct neg: 692/730\n",
      "\n",
      "\tVal. Loss: 0.237 |  Val. Acc: 90.85%\n",
      "\tVal. - correct pos: 69/82 | correct neg: 80/82\n",
      "\n"
     ]
    },
    {
     "data": {
      "application/vnd.jupyter.widget-view+json": {
       "model_id": "dce63f59815948cea1db707c75339b52",
       "version_major": 2,
       "version_minor": 0
      },
      "text/plain": [
       "  0%|          | 0/92 [00:00<?, ?it/s]"
      ]
     },
     "metadata": {},
     "output_type": "display_data"
    },
    {
     "data": {
      "application/vnd.jupyter.widget-view+json": {
       "model_id": "13d860c2cfb34bd2a909d70a476282d4",
       "version_major": 2,
       "version_minor": 0
      },
      "text/plain": [
       "  0%|          | 0/11 [00:00<?, ?it/s]"
      ]
     },
     "metadata": {},
     "output_type": "display_data"
    },
    {
     "name": "stdout",
     "output_type": "stream",
     "text": [
      "Epoch: 72 | Epoch Time: 0m 1s\n",
      "\n",
      "\tTrain Loss: 0.425 | Train Acc: 84.56%\n",
      "\tTrain - correct pos: 570/730 | correct neg: 673/730\n",
      "\n",
      "\tVal. Loss: 1.175 |  Val. Acc: 78.66%\n",
      "\tVal. - correct pos: 52/82 | correct neg: 77/82\n",
      "\n"
     ]
    },
    {
     "data": {
      "application/vnd.jupyter.widget-view+json": {
       "model_id": "f2e383d478f14b09914ebcc0c736488e",
       "version_major": 2,
       "version_minor": 0
      },
      "text/plain": [
       "  0%|          | 0/92 [00:00<?, ?it/s]"
      ]
     },
     "metadata": {},
     "output_type": "display_data"
    },
    {
     "data": {
      "application/vnd.jupyter.widget-view+json": {
       "model_id": "c5c686a91bcb4011b249d75c195beda0",
       "version_major": 2,
       "version_minor": 0
      },
      "text/plain": [
       "  0%|          | 0/11 [00:00<?, ?it/s]"
      ]
     },
     "metadata": {},
     "output_type": "display_data"
    },
    {
     "name": "stdout",
     "output_type": "stream",
     "text": [
      "Epoch: 73 | Epoch Time: 0m 1s\n",
      "\n",
      "\tTrain Loss: 0.529 | Train Acc: 80.88%\n",
      "\tTrain - correct pos: 546/730 | correct neg: 643/730\n",
      "\n",
      "\tVal. Loss: 0.402 |  Val. Acc: 85.37%\n",
      "\tVal. - correct pos: 62/82 | correct neg: 78/82\n",
      "\n"
     ]
    },
    {
     "data": {
      "application/vnd.jupyter.widget-view+json": {
       "model_id": "251160a3e65341aba37a264c38dff257",
       "version_major": 2,
       "version_minor": 0
      },
      "text/plain": [
       "  0%|          | 0/92 [00:00<?, ?it/s]"
      ]
     },
     "metadata": {},
     "output_type": "display_data"
    },
    {
     "data": {
      "application/vnd.jupyter.widget-view+json": {
       "model_id": "03e6ead4052949b7a0f9a9d71d6da0c8",
       "version_major": 2,
       "version_minor": 0
      },
      "text/plain": [
       "  0%|          | 0/11 [00:00<?, ?it/s]"
      ]
     },
     "metadata": {},
     "output_type": "display_data"
    },
    {
     "name": "stdout",
     "output_type": "stream",
     "text": [
      "Epoch: 74 | Epoch Time: 0m 1s\n",
      "\n",
      "\tTrain Loss: 0.372 | Train Acc: 86.39%\n",
      "\tTrain - correct pos: 591/730 | correct neg: 679/730\n",
      "\n",
      "\tVal. Loss: 0.301 |  Val. Acc: 89.02%\n",
      "\tVal. - correct pos: 76/82 | correct neg: 70/82\n",
      "\n"
     ]
    },
    {
     "data": {
      "application/vnd.jupyter.widget-view+json": {
       "model_id": "1c06eafd47b14fc58539aca828679a7a",
       "version_major": 2,
       "version_minor": 0
      },
      "text/plain": [
       "  0%|          | 0/92 [00:00<?, ?it/s]"
      ]
     },
     "metadata": {},
     "output_type": "display_data"
    },
    {
     "data": {
      "application/vnd.jupyter.widget-view+json": {
       "model_id": "2dc9df16716c49ffad64e60d6a11932a",
       "version_major": 2,
       "version_minor": 0
      },
      "text/plain": [
       "  0%|          | 0/11 [00:00<?, ?it/s]"
      ]
     },
     "metadata": {},
     "output_type": "display_data"
    },
    {
     "name": "stdout",
     "output_type": "stream",
     "text": [
      "Epoch: 75 | Epoch Time: 0m 1s\n",
      "\n",
      "\tTrain Loss: 0.333 | Train Acc: 87.41%\n",
      "\tTrain - correct pos: 619/730 | correct neg: 666/730\n",
      "\n",
      "\tVal. Loss: 0.255 |  Val. Acc: 87.80%\n",
      "\tVal. - correct pos: 73/82 | correct neg: 71/82\n",
      "\n"
     ]
    },
    {
     "data": {
      "application/vnd.jupyter.widget-view+json": {
       "model_id": "c722b94bc63d499cad5d83570703bb9e",
       "version_major": 2,
       "version_minor": 0
      },
      "text/plain": [
       "  0%|          | 0/92 [00:00<?, ?it/s]"
      ]
     },
     "metadata": {},
     "output_type": "display_data"
    },
    {
     "data": {
      "application/vnd.jupyter.widget-view+json": {
       "model_id": "459f685ce1dd4f5d85d94cedaa61dbb3",
       "version_major": 2,
       "version_minor": 0
      },
      "text/plain": [
       "  0%|          | 0/11 [00:00<?, ?it/s]"
      ]
     },
     "metadata": {},
     "output_type": "display_data"
    },
    {
     "name": "stdout",
     "output_type": "stream",
     "text": [
      "Epoch: 76 | Epoch Time: 0m 1s\n",
      "\n",
      "\tTrain Loss: 0.346 | Train Acc: 86.60%\n",
      "\tTrain - correct pos: 616/730 | correct neg: 657/730\n",
      "\n",
      "\tVal. Loss: 0.261 |  Val. Acc: 89.02%\n",
      "\tVal. - correct pos: 71/82 | correct neg: 75/82\n",
      "\n"
     ]
    },
    {
     "data": {
      "application/vnd.jupyter.widget-view+json": {
       "model_id": "12312d8d89ee4f7fafb14ed04264e7ed",
       "version_major": 2,
       "version_minor": 0
      },
      "text/plain": [
       "  0%|          | 0/92 [00:00<?, ?it/s]"
      ]
     },
     "metadata": {},
     "output_type": "display_data"
    },
    {
     "data": {
      "application/vnd.jupyter.widget-view+json": {
       "model_id": "589411c7b4074c9db2e38064d5c5c1d8",
       "version_major": 2,
       "version_minor": 0
      },
      "text/plain": [
       "  0%|          | 0/11 [00:00<?, ?it/s]"
      ]
     },
     "metadata": {},
     "output_type": "display_data"
    },
    {
     "name": "stdout",
     "output_type": "stream",
     "text": [
      "Epoch: 77 | Epoch Time: 0m 1s\n",
      "\n",
      "\tTrain Loss: 0.276 | Train Acc: 90.00%\n",
      "\tTrain - correct pos: 643/730 | correct neg: 680/730\n",
      "\n",
      "\tVal. Loss: 0.235 |  Val. Acc: 91.46%\n",
      "\tVal. - correct pos: 71/82 | correct neg: 79/82\n",
      "\n"
     ]
    },
    {
     "data": {
      "application/vnd.jupyter.widget-view+json": {
       "model_id": "1964f0cf08b044cb887f08c49a96e800",
       "version_major": 2,
       "version_minor": 0
      },
      "text/plain": [
       "  0%|          | 0/92 [00:00<?, ?it/s]"
      ]
     },
     "metadata": {},
     "output_type": "display_data"
    },
    {
     "data": {
      "application/vnd.jupyter.widget-view+json": {
       "model_id": "677a56bf82e742b5afc887e535e605db",
       "version_major": 2,
       "version_minor": 0
      },
      "text/plain": [
       "  0%|          | 0/11 [00:00<?, ?it/s]"
      ]
     },
     "metadata": {},
     "output_type": "display_data"
    },
    {
     "name": "stdout",
     "output_type": "stream",
     "text": [
      "Epoch: 78 | Epoch Time: 0m 1s\n",
      "\n",
      "\tTrain Loss: 0.278 | Train Acc: 90.61%\n",
      "\tTrain - correct pos: 647/730 | correct neg: 685/730\n",
      "\n",
      "\tVal. Loss: 0.239 |  Val. Acc: 90.85%\n",
      "\tVal. - correct pos: 72/82 | correct neg: 77/82\n",
      "\n"
     ]
    },
    {
     "data": {
      "application/vnd.jupyter.widget-view+json": {
       "model_id": "7d89467658ed4e459471cfd71cf5138c",
       "version_major": 2,
       "version_minor": 0
      },
      "text/plain": [
       "  0%|          | 0/92 [00:00<?, ?it/s]"
      ]
     },
     "metadata": {},
     "output_type": "display_data"
    },
    {
     "data": {
      "application/vnd.jupyter.widget-view+json": {
       "model_id": "c5725ce787e441ff89ce6c54138d920c",
       "version_major": 2,
       "version_minor": 0
      },
      "text/plain": [
       "  0%|          | 0/11 [00:00<?, ?it/s]"
      ]
     },
     "metadata": {},
     "output_type": "display_data"
    },
    {
     "name": "stdout",
     "output_type": "stream",
     "text": [
      "Epoch: 79 | Epoch Time: 0m 1s\n",
      "\n",
      "\tTrain Loss: 0.229 | Train Acc: 91.63%\n",
      "\tTrain - correct pos: 652/730 | correct neg: 695/730\n",
      "\n",
      "\tVal. Loss: 0.204 |  Val. Acc: 93.29%\n",
      "\tVal. - correct pos: 75/82 | correct neg: 78/82\n",
      "\n"
     ]
    },
    {
     "data": {
      "application/vnd.jupyter.widget-view+json": {
       "model_id": "ae7328f6616e4e0d880146c51d8f3a71",
       "version_major": 2,
       "version_minor": 0
      },
      "text/plain": [
       "  0%|          | 0/92 [00:00<?, ?it/s]"
      ]
     },
     "metadata": {},
     "output_type": "display_data"
    },
    {
     "data": {
      "application/vnd.jupyter.widget-view+json": {
       "model_id": "493581cf44724313b1720f25c6e918cd",
       "version_major": 2,
       "version_minor": 0
      },
      "text/plain": [
       "  0%|          | 0/11 [00:00<?, ?it/s]"
      ]
     },
     "metadata": {},
     "output_type": "display_data"
    },
    {
     "name": "stdout",
     "output_type": "stream",
     "text": [
      "Epoch: 80 | Epoch Time: 0m 1s\n",
      "\n",
      "\tTrain Loss: 0.256 | Train Acc: 90.14%\n",
      "\tTrain - correct pos: 635/730 | correct neg: 690/730\n",
      "\n",
      "\tVal. Loss: 0.217 |  Val. Acc: 93.29%\n",
      "\tVal. - correct pos: 77/82 | correct neg: 76/82\n",
      "\n"
     ]
    },
    {
     "data": {
      "application/vnd.jupyter.widget-view+json": {
       "model_id": "687a431013094ce7859b9caec79478d8",
       "version_major": 2,
       "version_minor": 0
      },
      "text/plain": [
       "  0%|          | 0/92 [00:00<?, ?it/s]"
      ]
     },
     "metadata": {},
     "output_type": "display_data"
    },
    {
     "data": {
      "application/vnd.jupyter.widget-view+json": {
       "model_id": "37ced40c2945492eb56c67e5091bf9dd",
       "version_major": 2,
       "version_minor": 0
      },
      "text/plain": [
       "  0%|          | 0/11 [00:00<?, ?it/s]"
      ]
     },
     "metadata": {},
     "output_type": "display_data"
    },
    {
     "name": "stdout",
     "output_type": "stream",
     "text": [
      "Epoch: 81 | Epoch Time: 0m 1s\n",
      "\n",
      "\tTrain Loss: 0.244 | Train Acc: 90.75%\n",
      "\tTrain - correct pos: 654/730 | correct neg: 680/730\n",
      "\n",
      "\tVal. Loss: 0.252 |  Val. Acc: 88.41%\n",
      "\tVal. - correct pos: 74/82 | correct neg: 71/82\n",
      "\n"
     ]
    },
    {
     "data": {
      "application/vnd.jupyter.widget-view+json": {
       "model_id": "ee76cced8d7e4b7ab66ef1f6363c8b90",
       "version_major": 2,
       "version_minor": 0
      },
      "text/plain": [
       "  0%|          | 0/92 [00:00<?, ?it/s]"
      ]
     },
     "metadata": {},
     "output_type": "display_data"
    },
    {
     "data": {
      "application/vnd.jupyter.widget-view+json": {
       "model_id": "e58d53c454db4384933a832719e8ee09",
       "version_major": 2,
       "version_minor": 0
      },
      "text/plain": [
       "  0%|          | 0/11 [00:00<?, ?it/s]"
      ]
     },
     "metadata": {},
     "output_type": "display_data"
    },
    {
     "name": "stdout",
     "output_type": "stream",
     "text": [
      "Epoch: 82 | Epoch Time: 0m 1s\n",
      "\n",
      "\tTrain Loss: 0.260 | Train Acc: 90.27%\n",
      "\tTrain - correct pos: 640/730 | correct neg: 687/730\n",
      "\n",
      "\tVal. Loss: 0.213 |  Val. Acc: 90.24%\n",
      "\tVal. - correct pos: 76/82 | correct neg: 72/82\n",
      "\n"
     ]
    },
    {
     "data": {
      "application/vnd.jupyter.widget-view+json": {
       "model_id": "eca0324ebdd0441fb7b26b53b293b705",
       "version_major": 2,
       "version_minor": 0
      },
      "text/plain": [
       "  0%|          | 0/92 [00:00<?, ?it/s]"
      ]
     },
     "metadata": {},
     "output_type": "display_data"
    },
    {
     "data": {
      "application/vnd.jupyter.widget-view+json": {
       "model_id": "12c0059c77c448edaf39d130a068b0b3",
       "version_major": 2,
       "version_minor": 0
      },
      "text/plain": [
       "  0%|          | 0/11 [00:00<?, ?it/s]"
      ]
     },
     "metadata": {},
     "output_type": "display_data"
    },
    {
     "name": "stdout",
     "output_type": "stream",
     "text": [
      "Epoch: 83 | Epoch Time: 0m 1s\n",
      "\n",
      "\tTrain Loss: 0.219 | Train Acc: 92.24%\n",
      "\tTrain - correct pos: 654/730 | correct neg: 702/730\n",
      "\n",
      "\tVal. Loss: 0.177 |  Val. Acc: 93.90%\n",
      "\tVal. - correct pos: 75/82 | correct neg: 79/82\n",
      "\n"
     ]
    },
    {
     "data": {
      "application/vnd.jupyter.widget-view+json": {
       "model_id": "7d4441fe44b643fb957def8aa0145a65",
       "version_major": 2,
       "version_minor": 0
      },
      "text/plain": [
       "  0%|          | 0/92 [00:00<?, ?it/s]"
      ]
     },
     "metadata": {},
     "output_type": "display_data"
    },
    {
     "data": {
      "application/vnd.jupyter.widget-view+json": {
       "model_id": "ded55beea542495db31b6f5d67be7a0c",
       "version_major": 2,
       "version_minor": 0
      },
      "text/plain": [
       "  0%|          | 0/11 [00:00<?, ?it/s]"
      ]
     },
     "metadata": {},
     "output_type": "display_data"
    },
    {
     "name": "stdout",
     "output_type": "stream",
     "text": [
      "Epoch: 84 | Epoch Time: 0m 1s\n",
      "\n",
      "\tTrain Loss: 0.248 | Train Acc: 91.09%\n",
      "\tTrain - correct pos: 656/730 | correct neg: 683/730\n",
      "\n",
      "\tVal. Loss: 0.267 |  Val. Acc: 90.85%\n",
      "\tVal. - correct pos: 75/82 | correct neg: 74/82\n",
      "\n"
     ]
    },
    {
     "data": {
      "application/vnd.jupyter.widget-view+json": {
       "model_id": "2247ef466c254e2e998a4f9275d15c33",
       "version_major": 2,
       "version_minor": 0
      },
      "text/plain": [
       "  0%|          | 0/92 [00:00<?, ?it/s]"
      ]
     },
     "metadata": {},
     "output_type": "display_data"
    },
    {
     "data": {
      "application/vnd.jupyter.widget-view+json": {
       "model_id": "77156675e32a47ce8e66dfbf8bf1dd72",
       "version_major": 2,
       "version_minor": 0
      },
      "text/plain": [
       "  0%|          | 0/11 [00:00<?, ?it/s]"
      ]
     },
     "metadata": {},
     "output_type": "display_data"
    },
    {
     "name": "stdout",
     "output_type": "stream",
     "text": [
      "Epoch: 85 | Epoch Time: 0m 1s\n",
      "\n",
      "\tTrain Loss: 0.332 | Train Acc: 86.73%\n",
      "\tTrain - correct pos: 608/730 | correct neg: 667/730\n",
      "\n",
      "\tVal. Loss: 0.239 |  Val. Acc: 90.24%\n",
      "\tVal. - correct pos: 73/82 | correct neg: 75/82\n",
      "\n"
     ]
    },
    {
     "data": {
      "application/vnd.jupyter.widget-view+json": {
       "model_id": "389af063cfd74ffaa3dc6058b67ffe9a",
       "version_major": 2,
       "version_minor": 0
      },
      "text/plain": [
       "  0%|          | 0/92 [00:00<?, ?it/s]"
      ]
     },
     "metadata": {},
     "output_type": "display_data"
    },
    {
     "data": {
      "application/vnd.jupyter.widget-view+json": {
       "model_id": "f9bccbefab4e4526b2f1019b30790e9c",
       "version_major": 2,
       "version_minor": 0
      },
      "text/plain": [
       "  0%|          | 0/11 [00:00<?, ?it/s]"
      ]
     },
     "metadata": {},
     "output_type": "display_data"
    },
    {
     "name": "stdout",
     "output_type": "stream",
     "text": [
      "Epoch: 86 | Epoch Time: 0m 1s\n",
      "\n",
      "\tTrain Loss: 0.296 | Train Acc: 88.44%\n",
      "\tTrain - correct pos: 630/730 | correct neg: 670/730\n",
      "\n",
      "\tVal. Loss: 0.177 |  Val. Acc: 93.90%\n",
      "\tVal. - correct pos: 76/82 | correct neg: 78/82\n",
      "\n"
     ]
    },
    {
     "data": {
      "application/vnd.jupyter.widget-view+json": {
       "model_id": "8e2a52658dad4d99a2a37d8f1584e19d",
       "version_major": 2,
       "version_minor": 0
      },
      "text/plain": [
       "  0%|          | 0/92 [00:00<?, ?it/s]"
      ]
     },
     "metadata": {},
     "output_type": "display_data"
    },
    {
     "data": {
      "application/vnd.jupyter.widget-view+json": {
       "model_id": "8be5d708fd954cfa95fd1a5367de6441",
       "version_major": 2,
       "version_minor": 0
      },
      "text/plain": [
       "  0%|          | 0/11 [00:00<?, ?it/s]"
      ]
     },
     "metadata": {},
     "output_type": "display_data"
    },
    {
     "name": "stdout",
     "output_type": "stream",
     "text": [
      "Epoch: 87 | Epoch Time: 0m 1s\n",
      "\n",
      "\tTrain Loss: 0.281 | Train Acc: 90.61%\n",
      "\tTrain - correct pos: 635/730 | correct neg: 697/730\n",
      "\n",
      "\tVal. Loss: 0.301 |  Val. Acc: 89.63%\n",
      "\tVal. - correct pos: 74/82 | correct neg: 73/82\n",
      "\n"
     ]
    },
    {
     "data": {
      "application/vnd.jupyter.widget-view+json": {
       "model_id": "b6a4b89eb5564889bdfc8c99914bf3a6",
       "version_major": 2,
       "version_minor": 0
      },
      "text/plain": [
       "  0%|          | 0/92 [00:00<?, ?it/s]"
      ]
     },
     "metadata": {},
     "output_type": "display_data"
    },
    {
     "data": {
      "application/vnd.jupyter.widget-view+json": {
       "model_id": "8af3cb07febf45b7ab00e996818fa6b6",
       "version_major": 2,
       "version_minor": 0
      },
      "text/plain": [
       "  0%|          | 0/11 [00:00<?, ?it/s]"
      ]
     },
     "metadata": {},
     "output_type": "display_data"
    },
    {
     "name": "stdout",
     "output_type": "stream",
     "text": [
      "Epoch: 88 | Epoch Time: 0m 1s\n",
      "\n",
      "\tTrain Loss: 0.479 | Train Acc: 82.52%\n",
      "\tTrain - correct pos: 541/730 | correct neg: 672/730\n",
      "\n",
      "\tVal. Loss: 0.440 |  Val. Acc: 78.05%\n",
      "\tVal. - correct pos: 53/82 | correct neg: 75/82\n",
      "\n"
     ]
    },
    {
     "data": {
      "application/vnd.jupyter.widget-view+json": {
       "model_id": "0b53328bc8544dd9b4b7ba61da061022",
       "version_major": 2,
       "version_minor": 0
      },
      "text/plain": [
       "  0%|          | 0/92 [00:00<?, ?it/s]"
      ]
     },
     "metadata": {},
     "output_type": "display_data"
    },
    {
     "data": {
      "application/vnd.jupyter.widget-view+json": {
       "model_id": "54aeb98e50d14fe7b040082fb50552b9",
       "version_major": 2,
       "version_minor": 0
      },
      "text/plain": [
       "  0%|          | 0/11 [00:00<?, ?it/s]"
      ]
     },
     "metadata": {},
     "output_type": "display_data"
    },
    {
     "name": "stdout",
     "output_type": "stream",
     "text": [
      "Epoch: 89 | Epoch Time: 0m 1s\n",
      "\n",
      "\tTrain Loss: 0.395 | Train Acc: 84.76%\n",
      "\tTrain - correct pos: 573/730 | correct neg: 673/730\n",
      "\n",
      "\tVal. Loss: 0.368 |  Val. Acc: 84.76%\n",
      "\tVal. - correct pos: 60/82 | correct neg: 79/82\n",
      "\n"
     ]
    },
    {
     "data": {
      "application/vnd.jupyter.widget-view+json": {
       "model_id": "bfafc2f4142e44f9989f9b518cc064c4",
       "version_major": 2,
       "version_minor": 0
      },
      "text/plain": [
       "  0%|          | 0/92 [00:00<?, ?it/s]"
      ]
     },
     "metadata": {},
     "output_type": "display_data"
    },
    {
     "data": {
      "application/vnd.jupyter.widget-view+json": {
       "model_id": "b0c3999170314295adbe5ec2f24e6d52",
       "version_major": 2,
       "version_minor": 0
      },
      "text/plain": [
       "  0%|          | 0/11 [00:00<?, ?it/s]"
      ]
     },
     "metadata": {},
     "output_type": "display_data"
    },
    {
     "name": "stdout",
     "output_type": "stream",
     "text": [
      "Epoch: 90 | Epoch Time: 0m 1s\n",
      "\n",
      "\tTrain Loss: 0.265 | Train Acc: 89.93%\n",
      "\tTrain - correct pos: 630/730 | correct neg: 692/730\n",
      "\n",
      "\tVal. Loss: 0.242 |  Val. Acc: 90.24%\n",
      "\tVal. - correct pos: 69/82 | correct neg: 79/82\n",
      "\n"
     ]
    },
    {
     "data": {
      "application/vnd.jupyter.widget-view+json": {
       "model_id": "872f1625342b45a4bb29b831f02f8f35",
       "version_major": 2,
       "version_minor": 0
      },
      "text/plain": [
       "  0%|          | 0/92 [00:00<?, ?it/s]"
      ]
     },
     "metadata": {},
     "output_type": "display_data"
    },
    {
     "data": {
      "application/vnd.jupyter.widget-view+json": {
       "model_id": "f76eb96d52844c56aab582ee7941536e",
       "version_major": 2,
       "version_minor": 0
      },
      "text/plain": [
       "  0%|          | 0/11 [00:00<?, ?it/s]"
      ]
     },
     "metadata": {},
     "output_type": "display_data"
    },
    {
     "name": "stdout",
     "output_type": "stream",
     "text": [
      "Epoch: 91 | Epoch Time: 0m 1s\n",
      "\n",
      "\tTrain Loss: 0.250 | Train Acc: 90.41%\n",
      "\tTrain - correct pos: 640/730 | correct neg: 689/730\n",
      "\n",
      "\tVal. Loss: 0.366 |  Val. Acc: 85.37%\n",
      "\tVal. - correct pos: 63/82 | correct neg: 77/82\n",
      "\n"
     ]
    },
    {
     "data": {
      "application/vnd.jupyter.widget-view+json": {
       "model_id": "7ac1e246f3e24339996b738f4f58b64d",
       "version_major": 2,
       "version_minor": 0
      },
      "text/plain": [
       "  0%|          | 0/92 [00:00<?, ?it/s]"
      ]
     },
     "metadata": {},
     "output_type": "display_data"
    },
    {
     "data": {
      "application/vnd.jupyter.widget-view+json": {
       "model_id": "399ea070170b4ed9abea838b37df4b95",
       "version_major": 2,
       "version_minor": 0
      },
      "text/plain": [
       "  0%|          | 0/11 [00:00<?, ?it/s]"
      ]
     },
     "metadata": {},
     "output_type": "display_data"
    },
    {
     "name": "stdout",
     "output_type": "stream",
     "text": [
      "Epoch: 92 | Epoch Time: 0m 1s\n",
      "\n",
      "\tTrain Loss: 0.227 | Train Acc: 91.84%\n",
      "\tTrain - correct pos: 658/730 | correct neg: 692/730\n",
      "\n",
      "\tVal. Loss: 0.191 |  Val. Acc: 94.51%\n",
      "\tVal. - correct pos: 75/82 | correct neg: 80/82\n",
      "\n"
     ]
    },
    {
     "data": {
      "application/vnd.jupyter.widget-view+json": {
       "model_id": "54225f2c56cf4695bd41be7721eddc89",
       "version_major": 2,
       "version_minor": 0
      },
      "text/plain": [
       "  0%|          | 0/92 [00:00<?, ?it/s]"
      ]
     },
     "metadata": {},
     "output_type": "display_data"
    },
    {
     "data": {
      "application/vnd.jupyter.widget-view+json": {
       "model_id": "20ea7450dd634571878357c2e98d71ca",
       "version_major": 2,
       "version_minor": 0
      },
      "text/plain": [
       "  0%|          | 0/11 [00:00<?, ?it/s]"
      ]
     },
     "metadata": {},
     "output_type": "display_data"
    },
    {
     "name": "stdout",
     "output_type": "stream",
     "text": [
      "Epoch: 93 | Epoch Time: 0m 1s\n",
      "\n",
      "\tTrain Loss: 0.202 | Train Acc: 92.79%\n",
      "\tTrain - correct pos: 658/730 | correct neg: 706/730\n",
      "\n",
      "\tVal. Loss: 0.186 |  Val. Acc: 92.68%\n",
      "\tVal. - correct pos: 78/82 | correct neg: 74/82\n",
      "\n"
     ]
    },
    {
     "data": {
      "application/vnd.jupyter.widget-view+json": {
       "model_id": "27ce87bc20a04207b34ae386ea00e11d",
       "version_major": 2,
       "version_minor": 0
      },
      "text/plain": [
       "  0%|          | 0/92 [00:00<?, ?it/s]"
      ]
     },
     "metadata": {},
     "output_type": "display_data"
    },
    {
     "data": {
      "application/vnd.jupyter.widget-view+json": {
       "model_id": "987a31dc36e8443cbd91371c0c5473fe",
       "version_major": 2,
       "version_minor": 0
      },
      "text/plain": [
       "  0%|          | 0/11 [00:00<?, ?it/s]"
      ]
     },
     "metadata": {},
     "output_type": "display_data"
    },
    {
     "name": "stdout",
     "output_type": "stream",
     "text": [
      "Epoch: 94 | Epoch Time: 0m 1s\n",
      "\n",
      "\tTrain Loss: 0.222 | Train Acc: 92.24%\n",
      "\tTrain - correct pos: 659/730 | correct neg: 697/730\n",
      "\n",
      "\tVal. Loss: 0.180 |  Val. Acc: 94.51%\n",
      "\tVal. - correct pos: 78/82 | correct neg: 77/82\n",
      "\n"
     ]
    },
    {
     "data": {
      "application/vnd.jupyter.widget-view+json": {
       "model_id": "701583be7ee74768a6453b8ee42f2215",
       "version_major": 2,
       "version_minor": 0
      },
      "text/plain": [
       "  0%|          | 0/92 [00:00<?, ?it/s]"
      ]
     },
     "metadata": {},
     "output_type": "display_data"
    },
    {
     "data": {
      "application/vnd.jupyter.widget-view+json": {
       "model_id": "5b2d26c8775a4f158d3d0606e399d582",
       "version_major": 2,
       "version_minor": 0
      },
      "text/plain": [
       "  0%|          | 0/11 [00:00<?, ?it/s]"
      ]
     },
     "metadata": {},
     "output_type": "display_data"
    },
    {
     "name": "stdout",
     "output_type": "stream",
     "text": [
      "Epoch: 95 | Epoch Time: 0m 1s\n",
      "\n",
      "\tTrain Loss: 0.242 | Train Acc: 91.50%\n",
      "\tTrain - correct pos: 650/730 | correct neg: 695/730\n",
      "\n",
      "\tVal. Loss: 0.222 |  Val. Acc: 92.68%\n",
      "\tVal. - correct pos: 72/82 | correct neg: 80/82\n",
      "\n"
     ]
    },
    {
     "data": {
      "application/vnd.jupyter.widget-view+json": {
       "model_id": "561719992bd1479087327e0e759009e3",
       "version_major": 2,
       "version_minor": 0
      },
      "text/plain": [
       "  0%|          | 0/92 [00:00<?, ?it/s]"
      ]
     },
     "metadata": {},
     "output_type": "display_data"
    },
    {
     "data": {
      "application/vnd.jupyter.widget-view+json": {
       "model_id": "03a4b1c20842475f8d134c84561c2b99",
       "version_major": 2,
       "version_minor": 0
      },
      "text/plain": [
       "  0%|          | 0/11 [00:00<?, ?it/s]"
      ]
     },
     "metadata": {},
     "output_type": "display_data"
    },
    {
     "name": "stdout",
     "output_type": "stream",
     "text": [
      "Epoch: 96 | Epoch Time: 0m 1s\n",
      "\n",
      "\tTrain Loss: 0.249 | Train Acc: 91.63%\n",
      "\tTrain - correct pos: 655/730 | correct neg: 692/730\n",
      "\n",
      "\tVal. Loss: 0.261 |  Val. Acc: 90.85%\n",
      "\tVal. - correct pos: 69/82 | correct neg: 80/82\n",
      "\n"
     ]
    },
    {
     "data": {
      "application/vnd.jupyter.widget-view+json": {
       "model_id": "493d09bb6b054ecab6ea153a90cb8e3a",
       "version_major": 2,
       "version_minor": 0
      },
      "text/plain": [
       "  0%|          | 0/92 [00:00<?, ?it/s]"
      ]
     },
     "metadata": {},
     "output_type": "display_data"
    },
    {
     "data": {
      "application/vnd.jupyter.widget-view+json": {
       "model_id": "5de7949cd20e4985ae26d0b74a81b6a6",
       "version_major": 2,
       "version_minor": 0
      },
      "text/plain": [
       "  0%|          | 0/11 [00:00<?, ?it/s]"
      ]
     },
     "metadata": {},
     "output_type": "display_data"
    },
    {
     "name": "stdout",
     "output_type": "stream",
     "text": [
      "Epoch: 97 | Epoch Time: 0m 1s\n",
      "\n",
      "\tTrain Loss: 0.299 | Train Acc: 88.57%\n",
      "\tTrain - correct pos: 632/730 | correct neg: 670/730\n",
      "\n",
      "\tVal. Loss: 0.216 |  Val. Acc: 92.07%\n",
      "\tVal. - correct pos: 70/82 | correct neg: 81/82\n",
      "\n"
     ]
    },
    {
     "data": {
      "application/vnd.jupyter.widget-view+json": {
       "model_id": "1c36dc56230747ee84d0b94a91d2322a",
       "version_major": 2,
       "version_minor": 0
      },
      "text/plain": [
       "  0%|          | 0/92 [00:00<?, ?it/s]"
      ]
     },
     "metadata": {},
     "output_type": "display_data"
    },
    {
     "data": {
      "application/vnd.jupyter.widget-view+json": {
       "model_id": "fb7b933c6eef474fb2923960d2c52ca2",
       "version_major": 2,
       "version_minor": 0
      },
      "text/plain": [
       "  0%|          | 0/11 [00:00<?, ?it/s]"
      ]
     },
     "metadata": {},
     "output_type": "display_data"
    },
    {
     "name": "stdout",
     "output_type": "stream",
     "text": [
      "Epoch: 98 | Epoch Time: 0m 1s\n",
      "\n",
      "\tTrain Loss: 0.262 | Train Acc: 90.61%\n",
      "\tTrain - correct pos: 641/730 | correct neg: 691/730\n",
      "\n",
      "\tVal. Loss: 0.264 |  Val. Acc: 91.46%\n",
      "\tVal. - correct pos: 71/82 | correct neg: 79/82\n",
      "\n"
     ]
    },
    {
     "data": {
      "application/vnd.jupyter.widget-view+json": {
       "model_id": "63a809e3e1564a43b0c552e8b3e50482",
       "version_major": 2,
       "version_minor": 0
      },
      "text/plain": [
       "  0%|          | 0/92 [00:00<?, ?it/s]"
      ]
     },
     "metadata": {},
     "output_type": "display_data"
    },
    {
     "data": {
      "application/vnd.jupyter.widget-view+json": {
       "model_id": "2f83189841e148fba274d556e7487f56",
       "version_major": 2,
       "version_minor": 0
      },
      "text/plain": [
       "  0%|          | 0/11 [00:00<?, ?it/s]"
      ]
     },
     "metadata": {},
     "output_type": "display_data"
    },
    {
     "name": "stdout",
     "output_type": "stream",
     "text": [
      "Epoch: 99 | Epoch Time: 0m 1s\n",
      "\n",
      "\tTrain Loss: 0.244 | Train Acc: 91.50%\n",
      "\tTrain - correct pos: 649/730 | correct neg: 696/730\n",
      "\n",
      "\tVal. Loss: 0.249 |  Val. Acc: 91.46%\n",
      "\tVal. - correct pos: 75/82 | correct neg: 75/82\n",
      "\n"
     ]
    },
    {
     "data": {
      "application/vnd.jupyter.widget-view+json": {
       "model_id": "fee5c975acdc48ffb52b224ea45c7e1f",
       "version_major": 2,
       "version_minor": 0
      },
      "text/plain": [
       "  0%|          | 0/92 [00:00<?, ?it/s]"
      ]
     },
     "metadata": {},
     "output_type": "display_data"
    },
    {
     "data": {
      "application/vnd.jupyter.widget-view+json": {
       "model_id": "cb85cc996d514dd9b17768e4781d2455",
       "version_major": 2,
       "version_minor": 0
      },
      "text/plain": [
       "  0%|          | 0/11 [00:00<?, ?it/s]"
      ]
     },
     "metadata": {},
     "output_type": "display_data"
    },
    {
     "name": "stdout",
     "output_type": "stream",
     "text": [
      "Epoch: 100 | Epoch Time: 0m 1s\n",
      "\n",
      "\tTrain Loss: 0.192 | Train Acc: 93.67%\n",
      "\tTrain - correct pos: 665/730 | correct neg: 712/730\n",
      "\n",
      "\tVal. Loss: 0.171 |  Val. Acc: 94.51%\n",
      "\tVal. - correct pos: 77/82 | correct neg: 78/82\n",
      "\n"
     ]
    }
   ],
   "source": [
    "EPOCHS = 100\n",
    "\n",
    "for epoch in range(EPOCHS):\n",
    "\n",
    "    epoch_start = time.time()\n",
    "\n",
    "    train_loss, train_acc, train_pos, train_neg = train_loop(\n",
    "        model, train_dl, criterion,\n",
    "        optimizer, len(train_ds)\n",
    "    )\n",
    "\n",
    "    val_loss, val_acc, val_pos, val_neg = eval_loop(\n",
    "        model, val_dl, criterion, len(val_ds)\n",
    "    )\n",
    "\n",
    "    time_elapsed = time.time() - epoch_start\n",
    "    print(f'Epoch: {epoch+1:02} | Epoch Time: {time_elapsed // 60:.0f}m {time_elapsed % 60:.0f}s')\n",
    "    print()\n",
    "    print(f'\\tTrain Loss: {train_loss:.3f} | Train Acc: {train_acc*100:.2f}%')\n",
    "    print(f'\\tTrain - correct pos: {train_pos[0]}/{train_pos[1]} | correct neg: {train_neg[0]}/{train_neg[1]}')\n",
    "    print()\n",
    "    print(f'\\tVal. Loss: {val_loss:.3f} |  Val. Acc: {val_acc*100:.2f}%')\n",
    "    print(f'\\tVal. - correct pos: {val_pos[0]}/{val_pos[1]} | correct neg: {val_neg[0]}/{val_neg[1]}')\n",
    "    print()"
   ]
  },
  {
   "cell_type": "code",
   "execution_count": 88,
   "id": "c85cb615-6468-4bf0-af69-09ecfd508488",
   "metadata": {},
   "outputs": [
    {
     "ename": "NameError",
     "evalue": "name 'y_true' is not defined",
     "output_type": "error",
     "traceback": [
      "\u001b[1;31m---------------------------------------------------------------------------\u001b[0m",
      "\u001b[1;31mNameError\u001b[0m                                 Traceback (most recent call last)",
      "Cell \u001b[1;32mIn[88], line 2\u001b[0m\n\u001b[0;32m      1\u001b[0m \u001b[38;5;28;01mfrom\u001b[39;00m\u001b[38;5;250m \u001b[39m\u001b[38;5;21;01msklearn\u001b[39;00m\u001b[38;5;21;01m.\u001b[39;00m\u001b[38;5;21;01mmetrics\u001b[39;00m\u001b[38;5;250m \u001b[39m\u001b[38;5;28;01mimport\u001b[39;00m classification_report, confusion_matrix\n\u001b[1;32m----> 2\u001b[0m \u001b[38;5;28mprint\u001b[39m(confusion_matrix(\u001b[43my_true\u001b[49m, y_pred))\n\u001b[0;32m      3\u001b[0m \u001b[38;5;28mprint\u001b[39m(classification_report(y_true, y_pred, target_names\u001b[38;5;241m=\u001b[39m[\u001b[38;5;124m\"\u001b[39m\u001b[38;5;124mNegative\u001b[39m\u001b[38;5;124m\"\u001b[39m, \u001b[38;5;124m\"\u001b[39m\u001b[38;5;124mPositive\u001b[39m\u001b[38;5;124m\"\u001b[39m]))\n",
      "\u001b[1;31mNameError\u001b[0m: name 'y_true' is not defined"
     ]
    }
   ],
   "source": [
    "from sklearn.metrics import classification_report, confusion_matrix\n",
    "print(confusion_matrix(y_true, y_pred))\n",
    "print(classification_report(y_true, y_pred, target_names=[\"Negative\", \"Positive\"]))\n"
   ]
  },
  {
   "cell_type": "code",
   "execution_count": null,
   "id": "09278612-7c7c-4d5a-8a03-456f246170ab",
   "metadata": {},
   "outputs": [],
   "source": []
  }
 ],
 "metadata": {
  "kernelspec": {
   "display_name": "Python (cuda)",
   "language": "python",
   "name": "cuda"
  },
  "language_info": {
   "codemirror_mode": {
    "name": "ipython",
    "version": 3
   },
   "file_extension": ".py",
   "mimetype": "text/x-python",
   "name": "python",
   "nbconvert_exporter": "python",
   "pygments_lexer": "ipython3",
   "version": "3.9.21"
  }
 },
 "nbformat": 4,
 "nbformat_minor": 5
}
