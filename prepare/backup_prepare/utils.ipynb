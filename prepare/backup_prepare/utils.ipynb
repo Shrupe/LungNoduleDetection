{
 "cells": [
  {
   "cell_type": "code",
   "execution_count": null,
   "id": "351bf8a1-6a3a-4b06-96bd-0866633be055",
   "metadata": {},
   "outputs": [],
   "source": [
    "import numpy as np\n",
    "\n",
    "def world_to_voxel(world_coord, origin, spacing):\n",
    "    \"\"\"\n",
    "    Convert world coordinates (mm) to voxel coordinates.\n",
    "    \n",
    "    Parameters:\n",
    "        world_coord: [x, y, z] in mm\n",
    "        origin: [x, y, z] of scan origin in mm\n",
    "        spacing: voxel spacing in mm\n",
    "        \n",
    "    Returns:\n",
    "        Voxel coordinate as a list of ints [z, y, x]\n",
    "    \"\"\"\n",
    "    stretched = np.abs((np.array(world_coord) - origin) / spacing)\n",
    "    return np.round(stretched).astype(int)[::-1]  # reverse to [z, y, x]\n",
    "\n",
    "def extract_patch(volume, center_voxel, patch_size=32):\n",
    "    \"\"\"\n",
    "    Extract a centered 3D patch from the volume.\n",
    "    \n",
    "    Parameters:\n",
    "        volume: 3D numpy array (Z, Y, X)\n",
    "        center_voxel: [z, y, x] center coordinate\n",
    "        patch_size: Cube edge length\n",
    "        \n",
    "    Returns:\n",
    "        Patch as 3D NumPy array of shape (patch_size, patch_size, patch_size)\n",
    "    \"\"\"\n",
    "    half = patch_size // 2\n",
    "    z, y, x = center_voxel\n",
    "\n",
    "    z_min = max(z - half, 0)\n",
    "    y_min = max(y - half, 0)\n",
    "    x_min = max(x - half, 0)\n",
    "\n",
    "    z_max = min(z_min + patch_size, volume.shape[0])\n",
    "    y_max = min(y_min + patch_size, volume.shape[1])\n",
    "    x_max = min(x_min + patch_size, volume.shape[2])\n",
    "\n",
    "    patch = np.zeros((patch_size, patch_size, patch_size), dtype=volume.dtype)\n",
    "    patch[:z_max - z_min, :y_max - y_min, :x_max - x_min] = volume[z_min:z_max, y_min:y_max, x_min:x_max]\n",
    "\n",
    "    return patch\n"
   ]
  }
 ],
 "metadata": {
  "kernelspec": {
   "display_name": "Python (cuda)",
   "language": "python",
   "name": "cuda"
  },
  "language_info": {
   "codemirror_mode": {
    "name": "ipython",
    "version": 3
   },
   "file_extension": ".py",
   "mimetype": "text/x-python",
   "name": "python",
   "nbconvert_exporter": "python",
   "pygments_lexer": "ipython3",
   "version": "3.9.21"
  }
 },
 "nbformat": 4,
 "nbformat_minor": 5
}
