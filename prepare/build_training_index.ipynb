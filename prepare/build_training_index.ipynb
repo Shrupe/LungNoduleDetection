{
 "cells": [
  {
   "cell_type": "code",
   "execution_count": null,
   "id": "fa590610-c544-4543-a905-7b198fef4daa",
   "metadata": {},
   "outputs": [],
   "source": [
    "import os\n",
    "import pandas as pd\n",
    "import numpy as np\n",
    "\n",
    "def build_training_index(patch_folder, output_csv):\n",
    "    data = []\n",
    "\n",
    "    for fname in os.listdir(patch_folder):\n",
    "        if not fname.endswith('.npy'):\n",
    "            continue\n",
    "        label = 1 if \"_pos\" in fname else 0\n",
    "        full_path = os.path.join(patch_folder, fname)\n",
    "        data.append((full_path, label))\n",
    "\n",
    "    df = pd.DataFrame(data, columns=[\"path\", \"label\"])\n",
    "    df.to_csv(output_csv, index=False)\n",
    "    print(f\"Saved training index with {len(df)} samples to {output_csv}\")\n",
    "\n",
    "def create_balanced_training_csv(patch_folder, output_csv, oversample_pos=True, downsample_neg=True, seed=42):\n",
    "    np.random.seed(seed)\n",
    "    \n",
    "    all_files = os.listdir(patch_folder)\n",
    "    data = []\n",
    "    \n",
    "    for fname in all_files:\n",
    "        if not fname.endswith(\".npy\"):\n",
    "            continue\n",
    "        label = 1 if \"_pos\" in fname else 0\n",
    "        path = os.path.join(patch_folder, fname)\n",
    "        data.append((path, label))\n",
    "\n",
    "    df = pd.DataFrame(data, columns=[\"path\", \"label\"])\n",
    "    \n",
    "    # Separate\n",
    "    df_pos = df[df[\"label\"] == 1]\n",
    "    df_neg = df[df[\"label\"] == 0]\n",
    "\n",
    "    print(f\"Original: {len(df_pos)} positive, {len(df_neg)} negative\")\n",
    "\n",
    "    if downsample_neg:\n",
    "        df_neg = df_neg.sample(n=len(df_pos), replace=False, random_state=seed)\n",
    "\n",
    "    if oversample_pos:\n",
    "        df_pos = df_pos.sample(n=len(df_neg), replace=True, random_state=seed)\n",
    "\n",
    "    df_balanced = pd.concat([df_pos, df_neg]).sample(frac=1.0, random_state=seed).reset_index(drop=True)\n",
    "\n",
    "    df_balanced.to_csv(output_csv, index=False)\n",
    "    print(f\"Balanced dataset saved: {output_csv}\")\n",
    "    print(f\"Final counts → Positive: {len(df_pos)}, Negative: {len(df_neg)}\")\n"
   ]
  }
 ],
 "metadata": {
  "kernelspec": {
   "display_name": "Python (cuda)",
   "language": "python",
   "name": "cuda"
  },
  "language_info": {
   "codemirror_mode": {
    "name": "ipython",
    "version": 3
   },
   "file_extension": ".py",
   "mimetype": "text/x-python",
   "name": "python",
   "nbconvert_exporter": "python",
   "pygments_lexer": "ipython3",
   "version": "3.9.21"
  }
 },
 "nbformat": 4,
 "nbformat_minor": 5
}
