{
 "cells": [
  {
   "cell_type": "code",
   "execution_count": 1,
   "id": "c7454a7d-e037-4be1-8626-ab795d438c3a",
   "metadata": {},
   "outputs": [
    {
     "name": "stdout",
     "output_type": "stream",
     "text": [
      "\n",
      "Epoch 1/20\n"
     ]
    },
    {
     "name": "stderr",
     "output_type": "stream",
     "text": [
      "Train: 100%|███████████████████████████████████████████████████████████████████████████| 62/62 [00:02<00:00, 29.84it/s]\n",
      "Val: 100%|█████████████████████████████████████████████████████████████████████████████| 16/16 [00:00<00:00, 69.87it/s]\n"
     ]
    },
    {
     "name": "stdout",
     "output_type": "stream",
     "text": [
      "[Train] Loss: 0.7032 | Acc: 0.4970 | AUC: 0.5341\n",
      "[Val]   Loss: 0.6929 | Acc: 0.5122 | AUC: 0.8537 | F1: 0.6774 | P: 0.5122 | R: 1.0000\n",
      "✅ Saved new best model with AUC 0.8537\n",
      "\n",
      "Epoch 2/20\n"
     ]
    },
    {
     "name": "stderr",
     "output_type": "stream",
     "text": [
      "Train: 100%|███████████████████████████████████████████████████████████████████████████| 62/62 [00:01<00:00, 35.96it/s]\n",
      "Val: 100%|█████████████████████████████████████████████████████████████████████████████| 16/16 [00:00<00:00, 72.07it/s]\n"
     ]
    },
    {
     "name": "stdout",
     "output_type": "stream",
     "text": [
      "[Train] Loss: 0.6933 | Acc: 0.4970 | AUC: 0.4766\n",
      "[Val]   Loss: 0.6930 | Acc: 0.5122 | AUC: 0.8510 | F1: 0.6774 | P: 0.5122 | R: 1.0000\n",
      "\n",
      "Epoch 3/20\n"
     ]
    },
    {
     "name": "stderr",
     "output_type": "stream",
     "text": [
      "Train: 100%|███████████████████████████████████████████████████████████████████████████| 62/62 [00:01<00:00, 35.83it/s]\n",
      "Val: 100%|█████████████████████████████████████████████████████████████████████████████| 16/16 [00:00<00:00, 71.54it/s]\n"
     ]
    },
    {
     "name": "stdout",
     "output_type": "stream",
     "text": [
      "[Train] Loss: 0.6932 | Acc: 0.4970 | AUC: 0.4608\n",
      "[Val]   Loss: 0.6931 | Acc: 0.5122 | AUC: 0.8606 | F1: 0.6774 | P: 0.5122 | R: 1.0000\n",
      "✅ Saved new best model with AUC 0.8606\n",
      "\n",
      "Epoch 4/20\n"
     ]
    },
    {
     "name": "stderr",
     "output_type": "stream",
     "text": [
      "Train: 100%|███████████████████████████████████████████████████████████████████████████| 62/62 [00:01<00:00, 35.53it/s]\n",
      "Val: 100%|█████████████████████████████████████████████████████████████████████████████| 16/16 [00:00<00:00, 72.66it/s]\n"
     ]
    },
    {
     "name": "stdout",
     "output_type": "stream",
     "text": [
      "[Train] Loss: 0.6932 | Acc: 0.4970 | AUC: 0.4649\n",
      "[Val]   Loss: 0.6931 | Acc: 0.5122 | AUC: 0.8463 | F1: 0.6774 | P: 0.5122 | R: 1.0000\n",
      "\n",
      "Epoch 5/20\n"
     ]
    },
    {
     "name": "stderr",
     "output_type": "stream",
     "text": [
      "Train: 100%|███████████████████████████████████████████████████████████████████████████| 62/62 [00:01<00:00, 36.12it/s]\n",
      "Val: 100%|█████████████████████████████████████████████████████████████████████████████| 16/16 [00:00<00:00, 74.42it/s]\n"
     ]
    },
    {
     "name": "stdout",
     "output_type": "stream",
     "text": [
      "[Train] Loss: 0.6932 | Acc: 0.4970 | AUC: 0.4773\n",
      "[Val]   Loss: 0.6931 | Acc: 0.5122 | AUC: 0.8531 | F1: 0.6774 | P: 0.5122 | R: 1.0000\n",
      "\n",
      "Epoch 6/20\n"
     ]
    },
    {
     "name": "stderr",
     "output_type": "stream",
     "text": [
      "Train: 100%|███████████████████████████████████████████████████████████████████████████| 62/62 [00:01<00:00, 35.45it/s]\n",
      "Val: 100%|█████████████████████████████████████████████████████████████████████████████| 16/16 [00:00<00:00, 67.80it/s]\n"
     ]
    },
    {
     "name": "stdout",
     "output_type": "stream",
     "text": [
      "[Train] Loss: 0.6932 | Acc: 0.4970 | AUC: 0.4651\n",
      "[Val]   Loss: 0.6931 | Acc: 0.5122 | AUC: 0.8486 | F1: 0.6774 | P: 0.5122 | R: 1.0000\n",
      "\n",
      "Epoch 7/20\n"
     ]
    },
    {
     "name": "stderr",
     "output_type": "stream",
     "text": [
      "Train: 100%|███████████████████████████████████████████████████████████████████████████| 62/62 [00:01<00:00, 36.26it/s]\n",
      "Val: 100%|█████████████████████████████████████████████████████████████████████████████| 16/16 [00:00<00:00, 73.73it/s]\n"
     ]
    },
    {
     "name": "stdout",
     "output_type": "stream",
     "text": [
      "[Train] Loss: 0.6932 | Acc: 0.4970 | AUC: 0.5030\n",
      "[Val]   Loss: 0.6931 | Acc: 0.5122 | AUC: 0.8578 | F1: 0.6774 | P: 0.5122 | R: 1.0000\n",
      "\n",
      "Epoch 8/20\n"
     ]
    },
    {
     "name": "stderr",
     "output_type": "stream",
     "text": [
      "Train: 100%|███████████████████████████████████████████████████████████████████████████| 62/62 [00:01<00:00, 35.98it/s]\n",
      "Val: 100%|█████████████████████████████████████████████████████████████████████████████| 16/16 [00:00<00:00, 74.42it/s]\n"
     ]
    },
    {
     "name": "stdout",
     "output_type": "stream",
     "text": [
      "[Train] Loss: 0.6932 | Acc: 0.4970 | AUC: 0.4825\n",
      "[Val]   Loss: 0.6931 | Acc: 0.5122 | AUC: 0.8572 | F1: 0.6774 | P: 0.5122 | R: 1.0000\n",
      "\n",
      "Epoch 9/20\n"
     ]
    },
    {
     "name": "stderr",
     "output_type": "stream",
     "text": [
      "Train: 100%|███████████████████████████████████████████████████████████████████████████| 62/62 [00:01<00:00, 35.99it/s]\n",
      "Val: 100%|█████████████████████████████████████████████████████████████████████████████| 16/16 [00:00<00:00, 74.07it/s]\n"
     ]
    },
    {
     "name": "stdout",
     "output_type": "stream",
     "text": [
      "[Train] Loss: 0.6932 | Acc: 0.4970 | AUC: 0.4824\n",
      "[Val]   Loss: 0.6931 | Acc: 0.5122 | AUC: 0.8628 | F1: 0.6774 | P: 0.5122 | R: 1.0000\n",
      "✅ Saved new best model with AUC 0.8628\n",
      "\n",
      "Epoch 10/20\n"
     ]
    },
    {
     "name": "stderr",
     "output_type": "stream",
     "text": [
      "Train: 100%|███████████████████████████████████████████████████████████████████████████| 62/62 [00:01<00:00, 35.87it/s]\n",
      "Val: 100%|█████████████████████████████████████████████████████████████████████████████| 16/16 [00:00<00:00, 74.65it/s]\n"
     ]
    },
    {
     "name": "stdout",
     "output_type": "stream",
     "text": [
      "[Train] Loss: 0.6932 | Acc: 0.4970 | AUC: 0.4763\n",
      "[Val]   Loss: 0.6931 | Acc: 0.5122 | AUC: 0.8379 | F1: 0.6774 | P: 0.5122 | R: 1.0000\n",
      "\n",
      "Epoch 11/20\n"
     ]
    },
    {
     "name": "stderr",
     "output_type": "stream",
     "text": [
      "Train: 100%|███████████████████████████████████████████████████████████████████████████| 62/62 [00:01<00:00, 36.05it/s]\n",
      "Val: 100%|█████████████████████████████████████████████████████████████████████████████| 16/16 [00:00<00:00, 75.47it/s]\n"
     ]
    },
    {
     "name": "stdout",
     "output_type": "stream",
     "text": [
      "[Train] Loss: 0.6932 | Acc: 0.4970 | AUC: 0.4971\n",
      "[Val]   Loss: 0.6931 | Acc: 0.5122 | AUC: 0.8534 | F1: 0.6774 | P: 0.5122 | R: 1.0000\n",
      "\n",
      "Epoch 12/20\n"
     ]
    },
    {
     "name": "stderr",
     "output_type": "stream",
     "text": [
      "Train: 100%|███████████████████████████████████████████████████████████████████████████| 62/62 [00:01<00:00, 35.64it/s]\n",
      "Val: 100%|█████████████████████████████████████████████████████████████████████████████| 16/16 [00:00<00:00, 74.42it/s]\n"
     ]
    },
    {
     "name": "stdout",
     "output_type": "stream",
     "text": [
      "[Train] Loss: 0.6932 | Acc: 0.4970 | AUC: 0.4961\n",
      "[Val]   Loss: 0.6931 | Acc: 0.5122 | AUC: 0.8453 | F1: 0.6774 | P: 0.5122 | R: 1.0000\n",
      "\n",
      "Epoch 13/20\n"
     ]
    },
    {
     "name": "stderr",
     "output_type": "stream",
     "text": [
      "Train: 100%|███████████████████████████████████████████████████████████████████████████| 62/62 [00:01<00:00, 36.08it/s]\n",
      "Val: 100%|█████████████████████████████████████████████████████████████████████████████| 16/16 [00:00<00:00, 68.97it/s]\n"
     ]
    },
    {
     "name": "stdout",
     "output_type": "stream",
     "text": [
      "[Train] Loss: 0.6932 | Acc: 0.4970 | AUC: 0.4713\n",
      "[Val]   Loss: 0.6931 | Acc: 0.5122 | AUC: 0.8578 | F1: 0.6774 | P: 0.5122 | R: 1.0000\n",
      "\n",
      "Epoch 14/20\n"
     ]
    },
    {
     "name": "stderr",
     "output_type": "stream",
     "text": [
      "Train: 100%|███████████████████████████████████████████████████████████████████████████| 62/62 [00:01<00:00, 35.92it/s]\n",
      "Val: 100%|█████████████████████████████████████████████████████████████████████████████| 16/16 [00:00<00:00, 74.73it/s]\n"
     ]
    },
    {
     "name": "stdout",
     "output_type": "stream",
     "text": [
      "[Train] Loss: 0.6932 | Acc: 0.4970 | AUC: 0.4844\n",
      "[Val]   Loss: 0.6931 | Acc: 0.5122 | AUC: 0.8473 | F1: 0.6774 | P: 0.5122 | R: 1.0000\n",
      "\n",
      "Epoch 15/20\n"
     ]
    },
    {
     "name": "stderr",
     "output_type": "stream",
     "text": [
      "Train: 100%|███████████████████████████████████████████████████████████████████████████| 62/62 [00:01<00:00, 35.97it/s]\n",
      "Val: 100%|█████████████████████████████████████████████████████████████████████████████| 16/16 [00:00<00:00, 75.34it/s]\n"
     ]
    },
    {
     "name": "stdout",
     "output_type": "stream",
     "text": [
      "[Train] Loss: 0.6932 | Acc: 0.4970 | AUC: 0.5043\n",
      "[Val]   Loss: 0.6931 | Acc: 0.5122 | AUC: 0.8590 | F1: 0.6774 | P: 0.5122 | R: 1.0000\n",
      "\n",
      "Epoch 16/20\n"
     ]
    },
    {
     "name": "stderr",
     "output_type": "stream",
     "text": [
      "Train: 100%|███████████████████████████████████████████████████████████████████████████| 62/62 [00:01<00:00, 35.74it/s]\n",
      "Val: 100%|█████████████████████████████████████████████████████████████████████████████| 16/16 [00:00<00:00, 74.42it/s]\n"
     ]
    },
    {
     "name": "stdout",
     "output_type": "stream",
     "text": [
      "[Train] Loss: 0.6932 | Acc: 0.4970 | AUC: 0.4880\n",
      "[Val]   Loss: 0.6931 | Acc: 0.5122 | AUC: 0.8359 | F1: 0.6774 | P: 0.5122 | R: 1.0000\n",
      "\n",
      "Epoch 17/20\n"
     ]
    },
    {
     "name": "stderr",
     "output_type": "stream",
     "text": [
      "Train: 100%|███████████████████████████████████████████████████████████████████████████| 62/62 [00:01<00:00, 35.77it/s]\n",
      "Val: 100%|█████████████████████████████████████████████████████████████████████████████| 16/16 [00:00<00:00, 74.07it/s]\n"
     ]
    },
    {
     "name": "stdout",
     "output_type": "stream",
     "text": [
      "[Train] Loss: 0.6932 | Acc: 0.4970 | AUC: 0.5152\n",
      "[Val]   Loss: 0.6931 | Acc: 0.5122 | AUC: 0.8569 | F1: 0.6774 | P: 0.5122 | R: 1.0000\n",
      "\n",
      "Epoch 18/20\n"
     ]
    },
    {
     "name": "stderr",
     "output_type": "stream",
     "text": [
      "Train: 100%|███████████████████████████████████████████████████████████████████████████| 62/62 [00:01<00:00, 35.74it/s]\n",
      "Val: 100%|█████████████████████████████████████████████████████████████████████████████| 16/16 [00:00<00:00, 73.89it/s]\n"
     ]
    },
    {
     "name": "stdout",
     "output_type": "stream",
     "text": [
      "[Train] Loss: 0.6932 | Acc: 0.4970 | AUC: 0.4847\n",
      "[Val]   Loss: 0.6931 | Acc: 0.5122 | AUC: 0.8323 | F1: 0.6774 | P: 0.5122 | R: 1.0000\n",
      "\n",
      "Epoch 19/20\n"
     ]
    },
    {
     "name": "stderr",
     "output_type": "stream",
     "text": [
      "Train: 100%|███████████████████████████████████████████████████████████████████████████| 62/62 [00:01<00:00, 34.93it/s]\n",
      "Val: 100%|█████████████████████████████████████████████████████████████████████████████| 16/16 [00:00<00:00, 74.42it/s]\n"
     ]
    },
    {
     "name": "stdout",
     "output_type": "stream",
     "text": [
      "[Train] Loss: 0.6932 | Acc: 0.4970 | AUC: 0.6030\n",
      "[Val]   Loss: 0.6931 | Acc: 0.5122 | AUC: 0.8394 | F1: 0.6774 | P: 0.5122 | R: 1.0000\n",
      "\n",
      "Epoch 20/20\n"
     ]
    },
    {
     "name": "stderr",
     "output_type": "stream",
     "text": [
      "Train: 100%|███████████████████████████████████████████████████████████████████████████| 62/62 [00:01<00:00, 35.57it/s]\n",
      "Val: 100%|█████████████████████████████████████████████████████████████████████████████| 16/16 [00:00<00:00, 73.73it/s]"
     ]
    },
    {
     "name": "stdout",
     "output_type": "stream",
     "text": [
      "[Train] Loss: 0.6932 | Acc: 0.4970 | AUC: 0.5620\n",
      "[Val]   Loss: 0.6931 | Acc: 0.5122 | AUC: 0.8570 | F1: 0.6774 | P: 0.5122 | R: 1.0000\n"
     ]
    },
    {
     "name": "stderr",
     "output_type": "stream",
     "text": [
      "\n"
     ]
    }
   ],
   "source": [
    "import torch\n",
    "import torch.nn as nn\n",
    "from torch.utils.data import DataLoader, random_split\n",
    "from sklearn.metrics import roc_auc_score, accuracy_score, precision_score, recall_score, f1_score\n",
    "from tqdm import tqdm\n",
    "import numpy as np\n",
    "import os\n",
    "\n",
    "from prepare.classes import LunaPatchDataset, Advanced3DAugment\n",
    "from model.model import Luna3DCNN  # Update path as needed\n",
    "\n",
    "# --- Hyperparams ---\n",
    "BATCH_SIZE = 16\n",
    "NUM_EPOCHS = 20\n",
    "LR = 1e-4\n",
    "#PATCH_CSV = \"./output/training_balanced.csv\"\n",
    "CHECKPOINT_PATH = \"best_model.pt\"\n",
    "OUTPUT_PATH = r\"D:\\output\"\n",
    "PATCH_CSV = OUTPUT_PATH + r\"\\training_balanced.csv\"\n",
    "\n",
    "\n",
    "# --- Dataset ---\n",
    "full_dataset = LunaPatchDataset(csv_file=PATCH_CSV, transform=None)\n",
    "\n",
    "# Split 80/20\n",
    "train_size = int(0.8 * len(full_dataset))\n",
    "val_size = len(full_dataset) - train_size\n",
    "train_dataset, val_dataset = random_split(full_dataset, [train_size, val_size])\n",
    "\n",
    "# Apply augmentation only to training set\n",
    "train_dataset.dataset.transform = Advanced3DAugment()\n",
    "val_dataset.dataset.transform = None\n",
    "\n",
    "train_loader = DataLoader(train_dataset, batch_size=BATCH_SIZE, shuffle=True)\n",
    "val_loader = DataLoader(val_dataset, batch_size=BATCH_SIZE)\n",
    "\n",
    "# --- Model ---\n",
    "device = torch.device(\"cuda\" if torch.cuda.is_available() else \"cpu\")\n",
    "model = Luna3DCNN().to(device)\n",
    "\n",
    "# --- Loss & Optimizer ---\n",
    "criterion = nn.BCEWithLogitsLoss()\n",
    "optimizer = torch.optim.Adam(model.parameters(), lr=LR, weight_decay=1e-5)\n",
    "scheduler = torch.optim.lr_scheduler.ReduceLROnPlateau(optimizer, mode=\"max\", factor=0.5, patience=2)\n",
    "\n",
    "# --- Training Functions ---\n",
    "\n",
    "def run_epoch(model, loader, criterion, optimizer=None):\n",
    "    is_train = optimizer is not None\n",
    "    model.train() if is_train else model.eval()\n",
    "\n",
    "    losses, all_labels, all_preds = [], [], []\n",
    "\n",
    "    for x, y in tqdm(loader, desc=\"Train\" if is_train else \"Val\"):\n",
    "        x = x.to(device).float()\n",
    "        y = y.to(device).float().view(-1, 1)\n",
    "\n",
    "        if is_train:\n",
    "            optimizer.zero_grad()\n",
    "\n",
    "        logits = model(x)\n",
    "        loss = criterion(logits, y)\n",
    "\n",
    "        if is_train:\n",
    "            loss.backward()\n",
    "            optimizer.step()\n",
    "\n",
    "        preds = torch.sigmoid(logits).detach().cpu().numpy()\n",
    "        all_preds.extend(preds)\n",
    "        all_labels.extend(y.cpu().numpy())\n",
    "        losses.append(loss.item())\n",
    "\n",
    "    y_true = np.array(all_labels)\n",
    "    y_pred = np.array(all_preds)\n",
    "\n",
    "    auc = roc_auc_score(y_true, y_pred)\n",
    "    acc = accuracy_score(y_true, y_pred > 0.5)\n",
    "    precision = precision_score(y_true, y_pred > 0.5)\n",
    "    recall = recall_score(y_true, y_pred > 0.5)\n",
    "    f1 = f1_score(y_true, y_pred > 0.5)\n",
    "\n",
    "    return np.mean(losses), acc, auc, precision, recall, f1\n",
    "\n",
    "# --- Train Loop ---\n",
    "\n",
    "best_auc = 0\n",
    "\n",
    "for epoch in range(NUM_EPOCHS):\n",
    "    print(f\"\\nEpoch {epoch+1}/{NUM_EPOCHS}\")\n",
    "\n",
    "    train_loss, train_acc, train_auc, _, _, _ = run_epoch(model, train_loader, criterion, optimizer)\n",
    "    val_loss, val_acc, val_auc, val_precision, val_recall, val_f1 = run_epoch(model, val_loader, criterion)\n",
    "\n",
    "    print(f\"[Train] Loss: {train_loss:.4f} | Acc: {train_acc:.4f} | AUC: {train_auc:.4f}\")\n",
    "    print(f\"[Val]   Loss: {val_loss:.4f} | Acc: {val_acc:.4f} | AUC: {val_auc:.4f} | F1: {val_f1:.4f} | P: {val_precision:.4f} | R: {val_recall:.4f}\")\n",
    "\n",
    "    scheduler.step(val_auc)\n",
    "\n",
    "    if val_auc > best_auc:\n",
    "        best_auc = val_auc\n",
    "        torch.save(model.state_dict(), CHECKPOINT_PATH)\n",
    "        print(f\"✅ Saved new best model with AUC {best_auc:.4f}\")\n"
   ]
  },
  {
   "cell_type": "code",
   "execution_count": null,
   "id": "fb940ff0-d36b-4e40-bccc-eea7660b482d",
   "metadata": {},
   "outputs": [],
   "source": []
  }
 ],
 "metadata": {
  "kernelspec": {
   "display_name": "Python (cuda)",
   "language": "python",
   "name": "cuda"
  },
  "language_info": {
   "codemirror_mode": {
    "name": "ipython",
    "version": 3
   },
   "file_extension": ".py",
   "mimetype": "text/x-python",
   "name": "python",
   "nbconvert_exporter": "python",
   "pygments_lexer": "ipython3",
   "version": "3.9.21"
  }
 },
 "nbformat": 4,
 "nbformat_minor": 5
}
